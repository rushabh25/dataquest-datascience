{
 "cells": [
  {
   "cell_type": "code",
   "execution_count": 103,
   "metadata": {},
   "outputs": [],
   "source": [
    "import pandas as pd\n",
    "import numpy as np\n",
    "from datetime import datetime\n",
    "from sklearn.linear_model import LinearRegression\n",
    "from sklearn.metrics import mean_squared_error\n",
    "from sklearn.model_selection import KFold\n"
   ]
  },
  {
   "cell_type": "code",
   "execution_count": 64,
   "metadata": {},
   "outputs": [],
   "source": [
    "sp = pd.read_csv(\"sphist.csv\")"
   ]
  },
  {
   "cell_type": "code",
   "execution_count": 65,
   "metadata": {},
   "outputs": [
    {
     "data": {
      "text/html": [
       "<div>\n",
       "<style scoped>\n",
       "    .dataframe tbody tr th:only-of-type {\n",
       "        vertical-align: middle;\n",
       "    }\n",
       "\n",
       "    .dataframe tbody tr th {\n",
       "        vertical-align: top;\n",
       "    }\n",
       "\n",
       "    .dataframe thead th {\n",
       "        text-align: right;\n",
       "    }\n",
       "</style>\n",
       "<table border=\"1\" class=\"dataframe\">\n",
       "  <thead>\n",
       "    <tr style=\"text-align: right;\">\n",
       "      <th></th>\n",
       "      <th>Date</th>\n",
       "      <th>Open</th>\n",
       "      <th>High</th>\n",
       "      <th>Low</th>\n",
       "      <th>Close</th>\n",
       "      <th>Volume</th>\n",
       "      <th>Adj Close</th>\n",
       "    </tr>\n",
       "  </thead>\n",
       "  <tbody>\n",
       "    <tr>\n",
       "      <th>0</th>\n",
       "      <td>2015-12-07</td>\n",
       "      <td>2090.419922</td>\n",
       "      <td>2090.419922</td>\n",
       "      <td>2066.780029</td>\n",
       "      <td>2077.070068</td>\n",
       "      <td>4.043820e+09</td>\n",
       "      <td>2077.070068</td>\n",
       "    </tr>\n",
       "    <tr>\n",
       "      <th>1</th>\n",
       "      <td>2015-12-04</td>\n",
       "      <td>2051.239990</td>\n",
       "      <td>2093.840088</td>\n",
       "      <td>2051.239990</td>\n",
       "      <td>2091.689941</td>\n",
       "      <td>4.214910e+09</td>\n",
       "      <td>2091.689941</td>\n",
       "    </tr>\n",
       "    <tr>\n",
       "      <th>2</th>\n",
       "      <td>2015-12-03</td>\n",
       "      <td>2080.709961</td>\n",
       "      <td>2085.000000</td>\n",
       "      <td>2042.349976</td>\n",
       "      <td>2049.620117</td>\n",
       "      <td>4.306490e+09</td>\n",
       "      <td>2049.620117</td>\n",
       "    </tr>\n",
       "    <tr>\n",
       "      <th>3</th>\n",
       "      <td>2015-12-02</td>\n",
       "      <td>2101.709961</td>\n",
       "      <td>2104.270020</td>\n",
       "      <td>2077.110107</td>\n",
       "      <td>2079.510010</td>\n",
       "      <td>3.950640e+09</td>\n",
       "      <td>2079.510010</td>\n",
       "    </tr>\n",
       "    <tr>\n",
       "      <th>4</th>\n",
       "      <td>2015-12-01</td>\n",
       "      <td>2082.929932</td>\n",
       "      <td>2103.370117</td>\n",
       "      <td>2082.929932</td>\n",
       "      <td>2102.629883</td>\n",
       "      <td>3.712120e+09</td>\n",
       "      <td>2102.629883</td>\n",
       "    </tr>\n",
       "  </tbody>\n",
       "</table>\n",
       "</div>"
      ],
      "text/plain": [
       "         Date         Open         High          Low        Close  \\\n",
       "0  2015-12-07  2090.419922  2090.419922  2066.780029  2077.070068   \n",
       "1  2015-12-04  2051.239990  2093.840088  2051.239990  2091.689941   \n",
       "2  2015-12-03  2080.709961  2085.000000  2042.349976  2049.620117   \n",
       "3  2015-12-02  2101.709961  2104.270020  2077.110107  2079.510010   \n",
       "4  2015-12-01  2082.929932  2103.370117  2082.929932  2102.629883   \n",
       "\n",
       "         Volume    Adj Close  \n",
       "0  4.043820e+09  2077.070068  \n",
       "1  4.214910e+09  2091.689941  \n",
       "2  4.306490e+09  2049.620117  \n",
       "3  3.950640e+09  2079.510010  \n",
       "4  3.712120e+09  2102.629883  "
      ]
     },
     "execution_count": 65,
     "metadata": {},
     "output_type": "execute_result"
    }
   ],
   "source": [
    "sp.head(5)"
   ]
  },
  {
   "cell_type": "code",
   "execution_count": 66,
   "metadata": {},
   "outputs": [
    {
     "name": "stdout",
     "output_type": "stream",
     "text": [
      "<class 'pandas.core.frame.DataFrame'>\n",
      "RangeIndex: 16590 entries, 0 to 16589\n",
      "Data columns (total 7 columns):\n",
      " #   Column     Non-Null Count  Dtype  \n",
      "---  ------     --------------  -----  \n",
      " 0   Date       16590 non-null  object \n",
      " 1   Open       16590 non-null  float64\n",
      " 2   High       16590 non-null  float64\n",
      " 3   Low        16590 non-null  float64\n",
      " 4   Close      16590 non-null  float64\n",
      " 5   Volume     16590 non-null  float64\n",
      " 6   Adj Close  16590 non-null  float64\n",
      "dtypes: float64(6), object(1)\n",
      "memory usage: 907.4+ KB\n"
     ]
    }
   ],
   "source": [
    "sp.info()"
   ]
  },
  {
   "cell_type": "code",
   "execution_count": 67,
   "metadata": {},
   "outputs": [],
   "source": [
    "sp['Date'] = pd.to_datetime(sp['Date'])"
   ]
  },
  {
   "cell_type": "code",
   "execution_count": 68,
   "metadata": {},
   "outputs": [],
   "source": [
    "sp.sort_values(ascending=True, inplace=True, by='Date')"
   ]
  },
  {
   "cell_type": "code",
   "execution_count": 69,
   "metadata": {},
   "outputs": [],
   "source": [
    "sp.reset_index(inplace=True, drop = True)"
   ]
  },
  {
   "cell_type": "code",
   "execution_count": 70,
   "metadata": {},
   "outputs": [
    {
     "data": {
      "text/html": [
       "<div>\n",
       "<style scoped>\n",
       "    .dataframe tbody tr th:only-of-type {\n",
       "        vertical-align: middle;\n",
       "    }\n",
       "\n",
       "    .dataframe tbody tr th {\n",
       "        vertical-align: top;\n",
       "    }\n",
       "\n",
       "    .dataframe thead th {\n",
       "        text-align: right;\n",
       "    }\n",
       "</style>\n",
       "<table border=\"1\" class=\"dataframe\">\n",
       "  <thead>\n",
       "    <tr style=\"text-align: right;\">\n",
       "      <th></th>\n",
       "      <th>Date</th>\n",
       "      <th>Open</th>\n",
       "      <th>High</th>\n",
       "      <th>Low</th>\n",
       "      <th>Close</th>\n",
       "      <th>Volume</th>\n",
       "      <th>Adj Close</th>\n",
       "    </tr>\n",
       "  </thead>\n",
       "  <tbody>\n",
       "    <tr>\n",
       "      <th>0</th>\n",
       "      <td>1950-01-03</td>\n",
       "      <td>16.66</td>\n",
       "      <td>16.66</td>\n",
       "      <td>16.66</td>\n",
       "      <td>16.66</td>\n",
       "      <td>1260000.0</td>\n",
       "      <td>16.66</td>\n",
       "    </tr>\n",
       "    <tr>\n",
       "      <th>1</th>\n",
       "      <td>1950-01-04</td>\n",
       "      <td>16.85</td>\n",
       "      <td>16.85</td>\n",
       "      <td>16.85</td>\n",
       "      <td>16.85</td>\n",
       "      <td>1890000.0</td>\n",
       "      <td>16.85</td>\n",
       "    </tr>\n",
       "    <tr>\n",
       "      <th>2</th>\n",
       "      <td>1950-01-05</td>\n",
       "      <td>16.93</td>\n",
       "      <td>16.93</td>\n",
       "      <td>16.93</td>\n",
       "      <td>16.93</td>\n",
       "      <td>2550000.0</td>\n",
       "      <td>16.93</td>\n",
       "    </tr>\n",
       "    <tr>\n",
       "      <th>3</th>\n",
       "      <td>1950-01-06</td>\n",
       "      <td>16.98</td>\n",
       "      <td>16.98</td>\n",
       "      <td>16.98</td>\n",
       "      <td>16.98</td>\n",
       "      <td>2010000.0</td>\n",
       "      <td>16.98</td>\n",
       "    </tr>\n",
       "    <tr>\n",
       "      <th>4</th>\n",
       "      <td>1950-01-09</td>\n",
       "      <td>17.08</td>\n",
       "      <td>17.08</td>\n",
       "      <td>17.08</td>\n",
       "      <td>17.08</td>\n",
       "      <td>2520000.0</td>\n",
       "      <td>17.08</td>\n",
       "    </tr>\n",
       "  </tbody>\n",
       "</table>\n",
       "</div>"
      ],
      "text/plain": [
       "        Date   Open   High    Low  Close     Volume  Adj Close\n",
       "0 1950-01-03  16.66  16.66  16.66  16.66  1260000.0      16.66\n",
       "1 1950-01-04  16.85  16.85  16.85  16.85  1890000.0      16.85\n",
       "2 1950-01-05  16.93  16.93  16.93  16.93  2550000.0      16.93\n",
       "3 1950-01-06  16.98  16.98  16.98  16.98  2010000.0      16.98\n",
       "4 1950-01-09  17.08  17.08  17.08  17.08  2520000.0      17.08"
      ]
     },
     "execution_count": 70,
     "metadata": {},
     "output_type": "execute_result"
    }
   ],
   "source": [
    "sp.head(5)"
   ]
  },
  {
   "cell_type": "code",
   "execution_count": 71,
   "metadata": {},
   "outputs": [],
   "source": [
    "for index, data in sp.iterrows():\n",
    "    if (index < 5):\n",
    "        sp.loc[index, \"day_5_avg_price\"] = 0\n",
    "    else:\n",
    "        sp.loc[index, \"day_5_avg_price\"] = sp.iloc[index-5:index][\"Close\"].mean()\n"
   ]
  },
  {
   "cell_type": "code",
   "execution_count": 72,
   "metadata": {},
   "outputs": [],
   "source": [
    "for index, data in sp.iterrows():\n",
    "    if (index < 365):\n",
    "        sp.loc[index, \"day_365_avg_price\"] = 0\n",
    "    else:\n",
    "        sp.loc[index, \"day_365_avg_price\"] = sp.iloc[index-365:index][\"Close\"].mean()\n"
   ]
  },
  {
   "cell_type": "code",
   "execution_count": 73,
   "metadata": {},
   "outputs": [],
   "source": [
    "sp[\"ratio_5_365\"] = sp[\"day_5_avg_price\"] / sp[\"day_365_avg_price\"]\n",
    "sp.replace([np.inf, -np.inf], np.nan, inplace=True)\n",
    "sp[\"ratio_5_365\"] = sp[\"ratio_5_365\"].fillna(0)"
   ]
  },
  {
   "cell_type": "code",
   "execution_count": 74,
   "metadata": {},
   "outputs": [
    {
     "data": {
      "text/html": [
       "<div>\n",
       "<style scoped>\n",
       "    .dataframe tbody tr th:only-of-type {\n",
       "        vertical-align: middle;\n",
       "    }\n",
       "\n",
       "    .dataframe tbody tr th {\n",
       "        vertical-align: top;\n",
       "    }\n",
       "\n",
       "    .dataframe thead th {\n",
       "        text-align: right;\n",
       "    }\n",
       "</style>\n",
       "<table border=\"1\" class=\"dataframe\">\n",
       "  <thead>\n",
       "    <tr style=\"text-align: right;\">\n",
       "      <th></th>\n",
       "      <th>Date</th>\n",
       "      <th>Open</th>\n",
       "      <th>High</th>\n",
       "      <th>Low</th>\n",
       "      <th>Close</th>\n",
       "      <th>Volume</th>\n",
       "      <th>Adj Close</th>\n",
       "      <th>day_5_avg_price</th>\n",
       "      <th>day_365_avg_price</th>\n",
       "      <th>ratio_5_365</th>\n",
       "    </tr>\n",
       "  </thead>\n",
       "  <tbody>\n",
       "    <tr>\n",
       "      <th>0</th>\n",
       "      <td>1950-01-03</td>\n",
       "      <td>16.660000</td>\n",
       "      <td>16.660000</td>\n",
       "      <td>16.660000</td>\n",
       "      <td>16.660000</td>\n",
       "      <td>1260000.0</td>\n",
       "      <td>16.660000</td>\n",
       "      <td>0.000</td>\n",
       "      <td>0.0</td>\n",
       "      <td>0.0</td>\n",
       "    </tr>\n",
       "    <tr>\n",
       "      <th>1</th>\n",
       "      <td>1950-01-04</td>\n",
       "      <td>16.850000</td>\n",
       "      <td>16.850000</td>\n",
       "      <td>16.850000</td>\n",
       "      <td>16.850000</td>\n",
       "      <td>1890000.0</td>\n",
       "      <td>16.850000</td>\n",
       "      <td>0.000</td>\n",
       "      <td>0.0</td>\n",
       "      <td>0.0</td>\n",
       "    </tr>\n",
       "    <tr>\n",
       "      <th>2</th>\n",
       "      <td>1950-01-05</td>\n",
       "      <td>16.930000</td>\n",
       "      <td>16.930000</td>\n",
       "      <td>16.930000</td>\n",
       "      <td>16.930000</td>\n",
       "      <td>2550000.0</td>\n",
       "      <td>16.930000</td>\n",
       "      <td>0.000</td>\n",
       "      <td>0.0</td>\n",
       "      <td>0.0</td>\n",
       "    </tr>\n",
       "    <tr>\n",
       "      <th>3</th>\n",
       "      <td>1950-01-06</td>\n",
       "      <td>16.980000</td>\n",
       "      <td>16.980000</td>\n",
       "      <td>16.980000</td>\n",
       "      <td>16.980000</td>\n",
       "      <td>2010000.0</td>\n",
       "      <td>16.980000</td>\n",
       "      <td>0.000</td>\n",
       "      <td>0.0</td>\n",
       "      <td>0.0</td>\n",
       "    </tr>\n",
       "    <tr>\n",
       "      <th>4</th>\n",
       "      <td>1950-01-09</td>\n",
       "      <td>17.080000</td>\n",
       "      <td>17.080000</td>\n",
       "      <td>17.080000</td>\n",
       "      <td>17.080000</td>\n",
       "      <td>2520000.0</td>\n",
       "      <td>17.080000</td>\n",
       "      <td>0.000</td>\n",
       "      <td>0.0</td>\n",
       "      <td>0.0</td>\n",
       "    </tr>\n",
       "    <tr>\n",
       "      <th>5</th>\n",
       "      <td>1950-01-10</td>\n",
       "      <td>17.030001</td>\n",
       "      <td>17.030001</td>\n",
       "      <td>17.030001</td>\n",
       "      <td>17.030001</td>\n",
       "      <td>2160000.0</td>\n",
       "      <td>17.030001</td>\n",
       "      <td>16.900</td>\n",
       "      <td>0.0</td>\n",
       "      <td>0.0</td>\n",
       "    </tr>\n",
       "    <tr>\n",
       "      <th>6</th>\n",
       "      <td>1950-01-11</td>\n",
       "      <td>17.090000</td>\n",
       "      <td>17.090000</td>\n",
       "      <td>17.090000</td>\n",
       "      <td>17.090000</td>\n",
       "      <td>2630000.0</td>\n",
       "      <td>17.090000</td>\n",
       "      <td>16.974</td>\n",
       "      <td>0.0</td>\n",
       "      <td>0.0</td>\n",
       "    </tr>\n",
       "    <tr>\n",
       "      <th>7</th>\n",
       "      <td>1950-01-12</td>\n",
       "      <td>16.760000</td>\n",
       "      <td>16.760000</td>\n",
       "      <td>16.760000</td>\n",
       "      <td>16.760000</td>\n",
       "      <td>2970000.0</td>\n",
       "      <td>16.760000</td>\n",
       "      <td>17.022</td>\n",
       "      <td>0.0</td>\n",
       "      <td>0.0</td>\n",
       "    </tr>\n",
       "    <tr>\n",
       "      <th>8</th>\n",
       "      <td>1950-01-13</td>\n",
       "      <td>16.670000</td>\n",
       "      <td>16.670000</td>\n",
       "      <td>16.670000</td>\n",
       "      <td>16.670000</td>\n",
       "      <td>3330000.0</td>\n",
       "      <td>16.670000</td>\n",
       "      <td>16.988</td>\n",
       "      <td>0.0</td>\n",
       "      <td>0.0</td>\n",
       "    </tr>\n",
       "    <tr>\n",
       "      <th>9</th>\n",
       "      <td>1950-01-16</td>\n",
       "      <td>16.719999</td>\n",
       "      <td>16.719999</td>\n",
       "      <td>16.719999</td>\n",
       "      <td>16.719999</td>\n",
       "      <td>1460000.0</td>\n",
       "      <td>16.719999</td>\n",
       "      <td>16.926</td>\n",
       "      <td>0.0</td>\n",
       "      <td>0.0</td>\n",
       "    </tr>\n",
       "  </tbody>\n",
       "</table>\n",
       "</div>"
      ],
      "text/plain": [
       "        Date       Open       High        Low      Close     Volume  \\\n",
       "0 1950-01-03  16.660000  16.660000  16.660000  16.660000  1260000.0   \n",
       "1 1950-01-04  16.850000  16.850000  16.850000  16.850000  1890000.0   \n",
       "2 1950-01-05  16.930000  16.930000  16.930000  16.930000  2550000.0   \n",
       "3 1950-01-06  16.980000  16.980000  16.980000  16.980000  2010000.0   \n",
       "4 1950-01-09  17.080000  17.080000  17.080000  17.080000  2520000.0   \n",
       "5 1950-01-10  17.030001  17.030001  17.030001  17.030001  2160000.0   \n",
       "6 1950-01-11  17.090000  17.090000  17.090000  17.090000  2630000.0   \n",
       "7 1950-01-12  16.760000  16.760000  16.760000  16.760000  2970000.0   \n",
       "8 1950-01-13  16.670000  16.670000  16.670000  16.670000  3330000.0   \n",
       "9 1950-01-16  16.719999  16.719999  16.719999  16.719999  1460000.0   \n",
       "\n",
       "   Adj Close  day_5_avg_price  day_365_avg_price  ratio_5_365  \n",
       "0  16.660000            0.000                0.0          0.0  \n",
       "1  16.850000            0.000                0.0          0.0  \n",
       "2  16.930000            0.000                0.0          0.0  \n",
       "3  16.980000            0.000                0.0          0.0  \n",
       "4  17.080000            0.000                0.0          0.0  \n",
       "5  17.030001           16.900                0.0          0.0  \n",
       "6  17.090000           16.974                0.0          0.0  \n",
       "7  16.760000           17.022                0.0          0.0  \n",
       "8  16.670000           16.988                0.0          0.0  \n",
       "9  16.719999           16.926                0.0          0.0  "
      ]
     },
     "execution_count": 74,
     "metadata": {},
     "output_type": "execute_result"
    }
   ],
   "source": [
    "sp.head(10)"
   ]
  },
  {
   "cell_type": "code",
   "execution_count": 75,
   "metadata": {},
   "outputs": [],
   "source": [
    "# filter rows before 1951-01-03 since the day_365_avg_price and ratio\n",
    "\n",
    "sp = sp[sp[\"Date\"] > datetime(year=1951, month=1, day=2)]"
   ]
  },
  {
   "cell_type": "code",
   "execution_count": 82,
   "metadata": {},
   "outputs": [],
   "source": [
    "# since its already only the weekdays we need to filter futher more\n",
    "sp = sp[sp[\"ratio_5_365\"] != 0]"
   ]
  },
  {
   "cell_type": "code",
   "execution_count": 86,
   "metadata": {},
   "outputs": [
    {
     "data": {
      "text/plain": [
       "(16225, 10)"
      ]
     },
     "execution_count": 86,
     "metadata": {},
     "output_type": "execute_result"
    }
   ],
   "source": [
    "sp.shape"
   ]
  },
  {
   "cell_type": "code",
   "execution_count": 87,
   "metadata": {},
   "outputs": [],
   "source": [
    "sp = sp.dropna(axis = 0)"
   ]
  },
  {
   "cell_type": "code",
   "execution_count": 88,
   "metadata": {},
   "outputs": [
    {
     "data": {
      "text/plain": [
       "(16225, 10)"
      ]
     },
     "execution_count": 88,
     "metadata": {},
     "output_type": "execute_result"
    }
   ],
   "source": [
    "sp.shape"
   ]
  },
  {
   "cell_type": "code",
   "execution_count": 89,
   "metadata": {},
   "outputs": [],
   "source": [
    "train = sp[sp[\"Date\"].dt.strftime('%Y') < \"2013\"].copy()\n",
    "test = sp[sp[\"Date\"].dt.strftime('%Y') >= \"2013\"].copy()"
   ]
  },
  {
   "cell_type": "code",
   "execution_count": 90,
   "metadata": {},
   "outputs": [
    {
     "data": {
      "text/plain": [
       "(15486, 10)"
      ]
     },
     "execution_count": 90,
     "metadata": {},
     "output_type": "execute_result"
    }
   ],
   "source": [
    "train.shape"
   ]
  },
  {
   "cell_type": "code",
   "execution_count": 91,
   "metadata": {},
   "outputs": [
    {
     "data": {
      "text/plain": [
       "(739, 10)"
      ]
     },
     "execution_count": 91,
     "metadata": {},
     "output_type": "execute_result"
    }
   ],
   "source": [
    "test.shape\n"
   ]
  },
  {
   "cell_type": "code",
   "execution_count": 93,
   "metadata": {},
   "outputs": [
    {
     "data": {
      "text/html": [
       "<div>\n",
       "<style scoped>\n",
       "    .dataframe tbody tr th:only-of-type {\n",
       "        vertical-align: middle;\n",
       "    }\n",
       "\n",
       "    .dataframe tbody tr th {\n",
       "        vertical-align: top;\n",
       "    }\n",
       "\n",
       "    .dataframe thead th {\n",
       "        text-align: right;\n",
       "    }\n",
       "</style>\n",
       "<table border=\"1\" class=\"dataframe\">\n",
       "  <thead>\n",
       "    <tr style=\"text-align: right;\">\n",
       "      <th></th>\n",
       "      <th>Date</th>\n",
       "      <th>Open</th>\n",
       "      <th>High</th>\n",
       "      <th>Low</th>\n",
       "      <th>Close</th>\n",
       "      <th>Volume</th>\n",
       "      <th>Adj Close</th>\n",
       "      <th>day_5_avg_price</th>\n",
       "      <th>day_365_avg_price</th>\n",
       "      <th>ratio_5_365</th>\n",
       "    </tr>\n",
       "  </thead>\n",
       "  <tbody>\n",
       "    <tr>\n",
       "      <th>15851</th>\n",
       "      <td>2013-01-02</td>\n",
       "      <td>1426.189941</td>\n",
       "      <td>1462.430054</td>\n",
       "      <td>1426.189941</td>\n",
       "      <td>1462.420044</td>\n",
       "      <td>4.202600e+09</td>\n",
       "      <td>1462.420044</td>\n",
       "      <td>1418.641992</td>\n",
       "      <td>1327.534055</td>\n",
       "      <td>1.068629</td>\n",
       "    </tr>\n",
       "    <tr>\n",
       "      <th>15852</th>\n",
       "      <td>2013-01-03</td>\n",
       "      <td>1462.420044</td>\n",
       "      <td>1465.469971</td>\n",
       "      <td>1455.530029</td>\n",
       "      <td>1459.369995</td>\n",
       "      <td>3.829730e+09</td>\n",
       "      <td>1459.369995</td>\n",
       "      <td>1425.793994</td>\n",
       "      <td>1327.908247</td>\n",
       "      <td>1.073714</td>\n",
       "    </tr>\n",
       "    <tr>\n",
       "      <th>15853</th>\n",
       "      <td>2013-01-04</td>\n",
       "      <td>1459.369995</td>\n",
       "      <td>1467.939941</td>\n",
       "      <td>1458.989990</td>\n",
       "      <td>1466.469971</td>\n",
       "      <td>3.424290e+09</td>\n",
       "      <td>1466.469971</td>\n",
       "      <td>1433.702002</td>\n",
       "      <td>1328.224877</td>\n",
       "      <td>1.079412</td>\n",
       "    </tr>\n",
       "    <tr>\n",
       "      <th>15854</th>\n",
       "      <td>2013-01-07</td>\n",
       "      <td>1466.469971</td>\n",
       "      <td>1466.469971</td>\n",
       "      <td>1456.619995</td>\n",
       "      <td>1461.890015</td>\n",
       "      <td>3.304970e+09</td>\n",
       "      <td>1461.890015</td>\n",
       "      <td>1443.376001</td>\n",
       "      <td>1328.557617</td>\n",
       "      <td>1.086423</td>\n",
       "    </tr>\n",
       "    <tr>\n",
       "      <th>15855</th>\n",
       "      <td>2013-01-08</td>\n",
       "      <td>1461.890015</td>\n",
       "      <td>1461.890015</td>\n",
       "      <td>1451.640015</td>\n",
       "      <td>1457.150024</td>\n",
       "      <td>3.601600e+09</td>\n",
       "      <td>1457.150024</td>\n",
       "      <td>1455.267993</td>\n",
       "      <td>1328.898603</td>\n",
       "      <td>1.095093</td>\n",
       "    </tr>\n",
       "  </tbody>\n",
       "</table>\n",
       "</div>"
      ],
      "text/plain": [
       "            Date         Open         High          Low        Close  \\\n",
       "15851 2013-01-02  1426.189941  1462.430054  1426.189941  1462.420044   \n",
       "15852 2013-01-03  1462.420044  1465.469971  1455.530029  1459.369995   \n",
       "15853 2013-01-04  1459.369995  1467.939941  1458.989990  1466.469971   \n",
       "15854 2013-01-07  1466.469971  1466.469971  1456.619995  1461.890015   \n",
       "15855 2013-01-08  1461.890015  1461.890015  1451.640015  1457.150024   \n",
       "\n",
       "             Volume    Adj Close  day_5_avg_price  day_365_avg_price  \\\n",
       "15851  4.202600e+09  1462.420044      1418.641992        1327.534055   \n",
       "15852  3.829730e+09  1459.369995      1425.793994        1327.908247   \n",
       "15853  3.424290e+09  1466.469971      1433.702002        1328.224877   \n",
       "15854  3.304970e+09  1461.890015      1443.376001        1328.557617   \n",
       "15855  3.601600e+09  1457.150024      1455.267993        1328.898603   \n",
       "\n",
       "       ratio_5_365  \n",
       "15851     1.068629  \n",
       "15852     1.073714  \n",
       "15853     1.079412  \n",
       "15854     1.086423  \n",
       "15855     1.095093  "
      ]
     },
     "execution_count": 93,
     "metadata": {},
     "output_type": "execute_result"
    }
   ],
   "source": [
    "test.head(5)"
   ]
  },
  {
   "cell_type": "code",
   "execution_count": 98,
   "metadata": {},
   "outputs": [],
   "source": [
    "# train the model\n",
    "model = LinearRegression()\n",
    "features = [\"day_5_avg_price\", \"day_365_avg_price\", \"ratio_5_365\"]\n",
    "target = \"Close\"\n",
    "model.fit(train[features], train[target])\n",
    "predictions = model.predict(test[features])\n",
    "mse = mean_squared_error(predictions, test[target])\n",
    "rmse = mse ** 0.5"
   ]
  },
  {
   "cell_type": "code",
   "execution_count": 99,
   "metadata": {},
   "outputs": [
    {
     "name": "stdout",
     "output_type": "stream",
     "text": [
      "22.178149148967492\n"
     ]
    }
   ],
   "source": [
    "print(rmse)"
   ]
  },
  {
   "cell_type": "code",
   "execution_count": 100,
   "metadata": {},
   "outputs": [],
   "source": [
    "test[\"predicted_close\"] = predictions"
   ]
  },
  {
   "cell_type": "code",
   "execution_count": 102,
   "metadata": {},
   "outputs": [
    {
     "data": {
      "text/html": [
       "<div>\n",
       "<style scoped>\n",
       "    .dataframe tbody tr th:only-of-type {\n",
       "        vertical-align: middle;\n",
       "    }\n",
       "\n",
       "    .dataframe tbody tr th {\n",
       "        vertical-align: top;\n",
       "    }\n",
       "\n",
       "    .dataframe thead th {\n",
       "        text-align: right;\n",
       "    }\n",
       "</style>\n",
       "<table border=\"1\" class=\"dataframe\">\n",
       "  <thead>\n",
       "    <tr style=\"text-align: right;\">\n",
       "      <th></th>\n",
       "      <th>day_5_avg_price</th>\n",
       "      <th>day_365_avg_price</th>\n",
       "      <th>ratio_5_365</th>\n",
       "      <th>Close</th>\n",
       "      <th>predicted_close</th>\n",
       "    </tr>\n",
       "  </thead>\n",
       "  <tbody>\n",
       "    <tr>\n",
       "      <th>15851</th>\n",
       "      <td>1418.641992</td>\n",
       "      <td>1327.534055</td>\n",
       "      <td>1.068629</td>\n",
       "      <td>1462.420044</td>\n",
       "      <td>1419.415645</td>\n",
       "    </tr>\n",
       "    <tr>\n",
       "      <th>15852</th>\n",
       "      <td>1425.793994</td>\n",
       "      <td>1327.908247</td>\n",
       "      <td>1.073714</td>\n",
       "      <td>1459.369995</td>\n",
       "      <td>1426.621558</td>\n",
       "    </tr>\n",
       "    <tr>\n",
       "      <th>15853</th>\n",
       "      <td>1433.702002</td>\n",
       "      <td>1328.224877</td>\n",
       "      <td>1.079412</td>\n",
       "      <td>1466.469971</td>\n",
       "      <td>1434.589960</td>\n",
       "    </tr>\n",
       "    <tr>\n",
       "      <th>15854</th>\n",
       "      <td>1443.376001</td>\n",
       "      <td>1328.557617</td>\n",
       "      <td>1.086423</td>\n",
       "      <td>1461.890015</td>\n",
       "      <td>1444.338283</td>\n",
       "    </tr>\n",
       "    <tr>\n",
       "      <th>15855</th>\n",
       "      <td>1455.267993</td>\n",
       "      <td>1328.898603</td>\n",
       "      <td>1.095093</td>\n",
       "      <td>1457.150024</td>\n",
       "      <td>1456.322190</td>\n",
       "    </tr>\n",
       "    <tr>\n",
       "      <th>15856</th>\n",
       "      <td>1461.460010</td>\n",
       "      <td>1329.241644</td>\n",
       "      <td>1.099469</td>\n",
       "      <td>1461.020020</td>\n",
       "      <td>1462.560736</td>\n",
       "    </tr>\n",
       "    <tr>\n",
       "      <th>15857</th>\n",
       "      <td>1461.180005</td>\n",
       "      <td>1329.669398</td>\n",
       "      <td>1.098905</td>\n",
       "      <td>1472.119995</td>\n",
       "      <td>1462.275062</td>\n",
       "    </tr>\n",
       "    <tr>\n",
       "      <th>15858</th>\n",
       "      <td>1463.730005</td>\n",
       "      <td>1330.139124</td>\n",
       "      <td>1.100434</td>\n",
       "      <td>1472.050049</td>\n",
       "      <td>1464.841583</td>\n",
       "    </tr>\n",
       "    <tr>\n",
       "      <th>15859</th>\n",
       "      <td>1464.846021</td>\n",
       "      <td>1330.631644</td>\n",
       "      <td>1.100865</td>\n",
       "      <td>1470.680054</td>\n",
       "      <td>1465.962522</td>\n",
       "    </tr>\n",
       "    <tr>\n",
       "      <th>15860</th>\n",
       "      <td>1466.604028</td>\n",
       "      <td>1331.135042</td>\n",
       "      <td>1.101770</td>\n",
       "      <td>1472.339966</td>\n",
       "      <td>1467.730477</td>\n",
       "    </tr>\n",
       "  </tbody>\n",
       "</table>\n",
       "</div>"
      ],
      "text/plain": [
       "       day_5_avg_price  day_365_avg_price  ratio_5_365        Close  \\\n",
       "15851      1418.641992        1327.534055     1.068629  1462.420044   \n",
       "15852      1425.793994        1327.908247     1.073714  1459.369995   \n",
       "15853      1433.702002        1328.224877     1.079412  1466.469971   \n",
       "15854      1443.376001        1328.557617     1.086423  1461.890015   \n",
       "15855      1455.267993        1328.898603     1.095093  1457.150024   \n",
       "15856      1461.460010        1329.241644     1.099469  1461.020020   \n",
       "15857      1461.180005        1329.669398     1.098905  1472.119995   \n",
       "15858      1463.730005        1330.139124     1.100434  1472.050049   \n",
       "15859      1464.846021        1330.631644     1.100865  1470.680054   \n",
       "15860      1466.604028        1331.135042     1.101770  1472.339966   \n",
       "\n",
       "       predicted_close  \n",
       "15851      1419.415645  \n",
       "15852      1426.621558  \n",
       "15853      1434.589960  \n",
       "15854      1444.338283  \n",
       "15855      1456.322190  \n",
       "15856      1462.560736  \n",
       "15857      1462.275062  \n",
       "15858      1464.841583  \n",
       "15859      1465.962522  \n",
       "15860      1467.730477  "
      ]
     },
     "execution_count": 102,
     "metadata": {},
     "output_type": "execute_result"
    }
   ],
   "source": [
    "test.loc[:, [\"day_5_avg_price\", \"day_365_avg_price\", \"ratio_5_365\", \"Close\", \"predicted_close\"]].head(10)"
   ]
  },
  {
   "cell_type": "code",
   "execution_count": 111,
   "metadata": {},
   "outputs": [],
   "source": [
    "# check performance\n",
    "\n",
    "# train the model\n",
    "model = LinearRegression()\n",
    "features = [\"day_5_avg_price\", \"day_365_avg_price\", \"ratio_5_365\"]\n",
    "target = \"Close\"\n",
    "model.fit(train[features], train[target])\n",
    "predictions = model.predict(train[features])\n",
    "train_mse = mean_squared_error(predictions, train[target])\n",
    "train_rmse = train_mse ** 0.5\n",
    "train_var = predictions.var()\n",
    "\n",
    "predictions = model.predict(test[features])\n",
    "test_mse = mean_squared_error(predictions, test[target])\n",
    "test_rmse = test_mse ** 0.5\n",
    "test_var = predictions.var()"
   ]
  },
  {
   "cell_type": "code",
   "execution_count": 112,
   "metadata": {},
   "outputs": [
    {
     "name": "stdout",
     "output_type": "stream",
     "text": [
      "train_rmse is {} 10.50481693606088\n",
      "train_var is {} 227466.51931003344\n",
      "test_rmse is {} 22.178149148967492\n",
      "test_var is {} 37381.49650338345\n"
     ]
    }
   ],
   "source": [
    "print(\"train_rmse is {}\", train_rmse)\n",
    "print(\"train_var is {}\", train_var)\n",
    "print(\"test_rmse is {}\", test_rmse)\n",
    "print(\"test_var is {}\", test_var)"
   ]
  },
  {
   "cell_type": "code",
   "execution_count": null,
   "metadata": {},
   "outputs": [],
   "source": []
  }
 ],
 "metadata": {
  "kernelspec": {
   "display_name": "Python 3",
   "language": "python",
   "name": "python3"
  },
  "language_info": {
   "codemirror_mode": {
    "name": "ipython",
    "version": 3
   },
   "file_extension": ".py",
   "mimetype": "text/x-python",
   "name": "python",
   "nbconvert_exporter": "python",
   "pygments_lexer": "ipython3",
   "version": "3.8.5"
  }
 },
 "nbformat": 4,
 "nbformat_minor": 4
}
