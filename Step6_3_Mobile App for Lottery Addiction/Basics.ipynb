{
 "cells": [
  {
   "cell_type": "markdown",
   "metadata": {},
   "source": [
    "### Guided Project: Mobile App for Lottery Addiction\n",
    "\n",
    "\n",
    "Many people start playing the lottery for fun, but for some this activity turns into a habit which eventually escalates into addiction. Like other compulsive gamblers, lottery addicts soon begin spending from their savings and loans, they start to accumulate debts, and eventually engage in desperate behaviors like theft.\n",
    "\n",
    "A medical institute that aims to prevent and treat gambling addictions wants to build a dedicated mobile app to help lottery addicts better estimate their chances of winning. The institute has a team of engineers that will build the app, but they need us to create the logical core of the app and calculate probabilities.\n",
    "\n",
    "For the first version of the app, they want us to focus on the 6/49 lottery and build functions that enable users to answer questions like:\n",
    "\n",
    "- What is the probability of winning the big prize with a single ticket?\n",
    "- What is the probability of winning the big prize if we play 40 different tickets (or any other number)?\n",
    "- What is the probability of having at least five (or four, or three, or two) winning numbers on a single ticket?\n",
    "\n",
    "The institute also wants us to consider historical data coming from the national 6/49 lottery game in Canada. The data set has data for 3,665 drawings, dating from 1982 to 2018 (we'll come back to this)."
   ]
  },
  {
   "cell_type": "code",
   "execution_count": 1,
   "metadata": {
    "collapsed": true
   },
   "outputs": [],
   "source": [
    "# helper functions to create factorial, permutation and combination\n",
    "\n",
    "def factorial(n):\n",
    "    if n == 0:\n",
    "        return 1\n",
    "    else:\n",
    "        return n * factorial(n-1)\n",
    "    \n",
    "def permutations(n, k):\n",
    "    return factorial(n) / factorial(n-k)\n",
    "\n",
    "def combinations(n, k):\n",
    "    return factorial(n) / (factorial(k) * factorial(n-k))"
   ]
  },
  {
   "cell_type": "code",
   "execution_count": 2,
   "metadata": {
    "collapsed": false
   },
   "outputs": [],
   "source": [
    "def one_ticket_probability(my_list):\n",
    "    total_combinations = combinations(49, 6)\n",
    "    prob = (1 / total_combinations) * 100\n",
    "    print(\"There are {:,} possible combinations\".format(int(total_combinations)))\n",
    "    print(\"Probability of winning with {0} numbers is {1:.8f}\".format(my_list, prob))"
   ]
  },
  {
   "cell_type": "code",
   "execution_count": 3,
   "metadata": {
    "collapsed": false
   },
   "outputs": [
    {
     "name": "stdout",
     "output_type": "stream",
     "text": [
      "There are 13,983,816 possible combinations\n",
      "Probability of winning with [1, 2, 3, 4, 5, 6] numbers is 0.00000715\n"
     ]
    }
   ],
   "source": [
    "one_ticket_probability([1, 2, 3, 4, 5, 6])"
   ]
  },
  {
   "cell_type": "code",
   "execution_count": 4,
   "metadata": {
    "collapsed": false
   },
   "outputs": [
    {
     "name": "stdout",
     "output_type": "stream",
     "text": [
      "There are 13,983,816 possible combinations\n",
      "Probability of winning with [2, 3, 4, 5, 5, 5] numbers is 0.00000715\n"
     ]
    }
   ],
   "source": [
    "one_ticket_probability([2, 3, 4, 5, 5, 5])"
   ]
  },
  {
   "cell_type": "code",
   "execution_count": 5,
   "metadata": {
    "collapsed": false
   },
   "outputs": [],
   "source": [
    "import pandas as pd\n",
    "import numpy as np\n",
    "import matplotlib.pyplot as plt"
   ]
  },
  {
   "cell_type": "code",
   "execution_count": 6,
   "metadata": {
    "collapsed": true
   },
   "outputs": [],
   "source": [
    "drawings_df = pd.read_csv('649.csv')"
   ]
  },
  {
   "cell_type": "code",
   "execution_count": 7,
   "metadata": {
    "collapsed": false
   },
   "outputs": [
    {
     "data": {
      "text/plain": [
       "(3665, 11)"
      ]
     },
     "execution_count": 7,
     "metadata": {},
     "output_type": "execute_result"
    }
   ],
   "source": [
    "drawings_df.shape"
   ]
  },
  {
   "cell_type": "code",
   "execution_count": 8,
   "metadata": {
    "collapsed": false
   },
   "outputs": [
    {
     "data": {
      "text/html": [
       "<div>\n",
       "<style scoped>\n",
       "    .dataframe tbody tr th:only-of-type {\n",
       "        vertical-align: middle;\n",
       "    }\n",
       "\n",
       "    .dataframe tbody tr th {\n",
       "        vertical-align: top;\n",
       "    }\n",
       "\n",
       "    .dataframe thead th {\n",
       "        text-align: right;\n",
       "    }\n",
       "</style>\n",
       "<table border=\"1\" class=\"dataframe\">\n",
       "  <thead>\n",
       "    <tr style=\"text-align: right;\">\n",
       "      <th></th>\n",
       "      <th>PRODUCT</th>\n",
       "      <th>DRAW NUMBER</th>\n",
       "      <th>SEQUENCE NUMBER</th>\n",
       "      <th>DRAW DATE</th>\n",
       "      <th>NUMBER DRAWN 1</th>\n",
       "      <th>NUMBER DRAWN 2</th>\n",
       "      <th>NUMBER DRAWN 3</th>\n",
       "      <th>NUMBER DRAWN 4</th>\n",
       "      <th>NUMBER DRAWN 5</th>\n",
       "      <th>NUMBER DRAWN 6</th>\n",
       "      <th>BONUS NUMBER</th>\n",
       "    </tr>\n",
       "  </thead>\n",
       "  <tbody>\n",
       "    <tr>\n",
       "      <th>0</th>\n",
       "      <td>649</td>\n",
       "      <td>1</td>\n",
       "      <td>0</td>\n",
       "      <td>6/12/1982</td>\n",
       "      <td>3</td>\n",
       "      <td>11</td>\n",
       "      <td>12</td>\n",
       "      <td>14</td>\n",
       "      <td>41</td>\n",
       "      <td>43</td>\n",
       "      <td>13</td>\n",
       "    </tr>\n",
       "    <tr>\n",
       "      <th>1</th>\n",
       "      <td>649</td>\n",
       "      <td>2</td>\n",
       "      <td>0</td>\n",
       "      <td>6/19/1982</td>\n",
       "      <td>8</td>\n",
       "      <td>33</td>\n",
       "      <td>36</td>\n",
       "      <td>37</td>\n",
       "      <td>39</td>\n",
       "      <td>41</td>\n",
       "      <td>9</td>\n",
       "    </tr>\n",
       "    <tr>\n",
       "      <th>2</th>\n",
       "      <td>649</td>\n",
       "      <td>3</td>\n",
       "      <td>0</td>\n",
       "      <td>6/26/1982</td>\n",
       "      <td>1</td>\n",
       "      <td>6</td>\n",
       "      <td>23</td>\n",
       "      <td>24</td>\n",
       "      <td>27</td>\n",
       "      <td>39</td>\n",
       "      <td>34</td>\n",
       "    </tr>\n",
       "    <tr>\n",
       "      <th>3</th>\n",
       "      <td>649</td>\n",
       "      <td>4</td>\n",
       "      <td>0</td>\n",
       "      <td>7/3/1982</td>\n",
       "      <td>3</td>\n",
       "      <td>9</td>\n",
       "      <td>10</td>\n",
       "      <td>13</td>\n",
       "      <td>20</td>\n",
       "      <td>43</td>\n",
       "      <td>34</td>\n",
       "    </tr>\n",
       "    <tr>\n",
       "      <th>4</th>\n",
       "      <td>649</td>\n",
       "      <td>5</td>\n",
       "      <td>0</td>\n",
       "      <td>7/10/1982</td>\n",
       "      <td>5</td>\n",
       "      <td>14</td>\n",
       "      <td>21</td>\n",
       "      <td>31</td>\n",
       "      <td>34</td>\n",
       "      <td>47</td>\n",
       "      <td>45</td>\n",
       "    </tr>\n",
       "  </tbody>\n",
       "</table>\n",
       "</div>"
      ],
      "text/plain": [
       "   PRODUCT  DRAW NUMBER  SEQUENCE NUMBER  DRAW DATE  NUMBER DRAWN 1  \\\n",
       "0      649            1                0  6/12/1982               3   \n",
       "1      649            2                0  6/19/1982               8   \n",
       "2      649            3                0  6/26/1982               1   \n",
       "3      649            4                0   7/3/1982               3   \n",
       "4      649            5                0  7/10/1982               5   \n",
       "\n",
       "   NUMBER DRAWN 2  NUMBER DRAWN 3  NUMBER DRAWN 4  NUMBER DRAWN 5  \\\n",
       "0              11              12              14              41   \n",
       "1              33              36              37              39   \n",
       "2               6              23              24              27   \n",
       "3               9              10              13              20   \n",
       "4              14              21              31              34   \n",
       "\n",
       "   NUMBER DRAWN 6  BONUS NUMBER  \n",
       "0              43            13  \n",
       "1              41             9  \n",
       "2              39            34  \n",
       "3              43            34  \n",
       "4              47            45  "
      ]
     },
     "execution_count": 8,
     "metadata": {},
     "output_type": "execute_result"
    }
   ],
   "source": [
    "drawings_df.head(5)"
   ]
  },
  {
   "cell_type": "code",
   "execution_count": 9,
   "metadata": {
    "collapsed": false
   },
   "outputs": [
    {
     "data": {
      "text/html": [
       "<div>\n",
       "<style scoped>\n",
       "    .dataframe tbody tr th:only-of-type {\n",
       "        vertical-align: middle;\n",
       "    }\n",
       "\n",
       "    .dataframe tbody tr th {\n",
       "        vertical-align: top;\n",
       "    }\n",
       "\n",
       "    .dataframe thead th {\n",
       "        text-align: right;\n",
       "    }\n",
       "</style>\n",
       "<table border=\"1\" class=\"dataframe\">\n",
       "  <thead>\n",
       "    <tr style=\"text-align: right;\">\n",
       "      <th></th>\n",
       "      <th>PRODUCT</th>\n",
       "      <th>DRAW NUMBER</th>\n",
       "      <th>SEQUENCE NUMBER</th>\n",
       "      <th>DRAW DATE</th>\n",
       "      <th>NUMBER DRAWN 1</th>\n",
       "      <th>NUMBER DRAWN 2</th>\n",
       "      <th>NUMBER DRAWN 3</th>\n",
       "      <th>NUMBER DRAWN 4</th>\n",
       "      <th>NUMBER DRAWN 5</th>\n",
       "      <th>NUMBER DRAWN 6</th>\n",
       "      <th>BONUS NUMBER</th>\n",
       "    </tr>\n",
       "  </thead>\n",
       "  <tbody>\n",
       "    <tr>\n",
       "      <th>3660</th>\n",
       "      <td>649</td>\n",
       "      <td>3587</td>\n",
       "      <td>0</td>\n",
       "      <td>6/6/2018</td>\n",
       "      <td>10</td>\n",
       "      <td>15</td>\n",
       "      <td>23</td>\n",
       "      <td>38</td>\n",
       "      <td>40</td>\n",
       "      <td>41</td>\n",
       "      <td>35</td>\n",
       "    </tr>\n",
       "    <tr>\n",
       "      <th>3661</th>\n",
       "      <td>649</td>\n",
       "      <td>3588</td>\n",
       "      <td>0</td>\n",
       "      <td>6/9/2018</td>\n",
       "      <td>19</td>\n",
       "      <td>25</td>\n",
       "      <td>31</td>\n",
       "      <td>36</td>\n",
       "      <td>46</td>\n",
       "      <td>47</td>\n",
       "      <td>26</td>\n",
       "    </tr>\n",
       "    <tr>\n",
       "      <th>3662</th>\n",
       "      <td>649</td>\n",
       "      <td>3589</td>\n",
       "      <td>0</td>\n",
       "      <td>6/13/2018</td>\n",
       "      <td>6</td>\n",
       "      <td>22</td>\n",
       "      <td>24</td>\n",
       "      <td>31</td>\n",
       "      <td>32</td>\n",
       "      <td>34</td>\n",
       "      <td>16</td>\n",
       "    </tr>\n",
       "    <tr>\n",
       "      <th>3663</th>\n",
       "      <td>649</td>\n",
       "      <td>3590</td>\n",
       "      <td>0</td>\n",
       "      <td>6/16/2018</td>\n",
       "      <td>2</td>\n",
       "      <td>15</td>\n",
       "      <td>21</td>\n",
       "      <td>31</td>\n",
       "      <td>38</td>\n",
       "      <td>49</td>\n",
       "      <td>8</td>\n",
       "    </tr>\n",
       "    <tr>\n",
       "      <th>3664</th>\n",
       "      <td>649</td>\n",
       "      <td>3591</td>\n",
       "      <td>0</td>\n",
       "      <td>6/20/2018</td>\n",
       "      <td>14</td>\n",
       "      <td>24</td>\n",
       "      <td>31</td>\n",
       "      <td>35</td>\n",
       "      <td>37</td>\n",
       "      <td>48</td>\n",
       "      <td>17</td>\n",
       "    </tr>\n",
       "  </tbody>\n",
       "</table>\n",
       "</div>"
      ],
      "text/plain": [
       "      PRODUCT  DRAW NUMBER  SEQUENCE NUMBER  DRAW DATE  NUMBER DRAWN 1  \\\n",
       "3660      649         3587                0   6/6/2018              10   \n",
       "3661      649         3588                0   6/9/2018              19   \n",
       "3662      649         3589                0  6/13/2018               6   \n",
       "3663      649         3590                0  6/16/2018               2   \n",
       "3664      649         3591                0  6/20/2018              14   \n",
       "\n",
       "      NUMBER DRAWN 2  NUMBER DRAWN 3  NUMBER DRAWN 4  NUMBER DRAWN 5  \\\n",
       "3660              15              23              38              40   \n",
       "3661              25              31              36              46   \n",
       "3662              22              24              31              32   \n",
       "3663              15              21              31              38   \n",
       "3664              24              31              35              37   \n",
       "\n",
       "      NUMBER DRAWN 6  BONUS NUMBER  \n",
       "3660              41            35  \n",
       "3661              47            26  \n",
       "3662              34            16  \n",
       "3663              49             8  \n",
       "3664              48            17  "
      ]
     },
     "execution_count": 9,
     "metadata": {},
     "output_type": "execute_result"
    }
   ],
   "source": [
    "drawings_df.tail(5)"
   ]
  },
  {
   "cell_type": "code",
   "execution_count": 10,
   "metadata": {
    "collapsed": true
   },
   "outputs": [],
   "source": [
    "def extract_numbers(row):\n",
    "    num1 = row['NUMBER DRAWN 1']\n",
    "    num2 = row['NUMBER DRAWN 2']\n",
    "    num3 = row['NUMBER DRAWN 3']\n",
    "    num4 = row['NUMBER DRAWN 4']\n",
    "    num5 = row['NUMBER DRAWN 5']\n",
    "    num6 = row['NUMBER DRAWN 6']\n",
    "    return {num1, num2, num3, num4, num5, num6}"
   ]
  },
  {
   "cell_type": "code",
   "execution_count": 11,
   "metadata": {
    "collapsed": false
   },
   "outputs": [],
   "source": [
    "six_winning_nums = drawings_df.apply(extract_numbers, axis = 1)"
   ]
  },
  {
   "cell_type": "code",
   "execution_count": 12,
   "metadata": {
    "collapsed": false
   },
   "outputs": [
    {
     "data": {
      "text/plain": [
       "0     {3, 41, 43, 12, 11, 14}\n",
       "1     {33, 36, 37, 39, 8, 41}\n",
       "2      {1, 6, 39, 23, 24, 27}\n",
       "3      {3, 9, 10, 43, 13, 20}\n",
       "4     {34, 5, 14, 47, 21, 31}\n",
       "5     {8, 41, 20, 21, 25, 31}\n",
       "6    {33, 36, 42, 18, 25, 28}\n",
       "7     {7, 40, 48, 17, 16, 31}\n",
       "8     {5, 37, 38, 10, 23, 27}\n",
       "9     {4, 37, 46, 15, 48, 30}\n",
       "dtype: object"
      ]
     },
     "execution_count": 12,
     "metadata": {},
     "output_type": "execute_result"
    }
   ],
   "source": [
    "six_winning_nums.head(10)"
   ]
  },
  {
   "cell_type": "code",
   "execution_count": 13,
   "metadata": {
    "collapsed": false
   },
   "outputs": [],
   "source": [
    "def check_historical_occurence(user_input, winning_nums):\n",
    "    \n",
    "    total_combinations = combinations(49, 6)\n",
    "    prob = (1 / total_combinations) * 100\n",
    "    \n",
    "    user_input_set = set(user_input)\n",
    "    res = winning_nums == user_input_set\n",
    "    if res.sum() == 0:\n",
    "        print('Number never occured in the past')\n",
    "        print(\"There are {:,} possible combinations\".format(int(total_combinations)))\n",
    "        print(\"Probability of winning with {0} numbers is {1:.8f}\".format(user_input, prob))\n",
    "    else:\n",
    "        print('Number did occur in the past: ' + str(res.sum()) + ' time(s)')\n",
    "        print(\"There are {:,} possible combinations\".format(int(total_combinations)))\n",
    "        print(\"Probability of winning with {0} numbers is {1:.8f}\".format(user_input, prob))\n",
    "        "
   ]
  },
  {
   "cell_type": "code",
   "execution_count": 14,
   "metadata": {
    "collapsed": false
   },
   "outputs": [
    {
     "name": "stdout",
     "output_type": "stream",
     "text": [
      "Number did occur in the past: 1 time(s)\n",
      "There are 13,983,816 possible combinations\n",
      "Probability of winning with [3, 41, 43, 12, 11, 14] numbers is 0.00000715\n"
     ]
    }
   ],
   "source": [
    "check_historical_occurence([3, 41, 43, 12, 11, 14], six_winning_nums)"
   ]
  },
  {
   "cell_type": "code",
   "execution_count": 21,
   "metadata": {
    "collapsed": false
   },
   "outputs": [],
   "source": [
    "def multi_ticket_probability(num_tickets):\n",
    "    num_successful_outcomes = num_tickets\n",
    "    total_outcomes = combinations(49, 6)\n",
    "    prob = num_successful_outcomes / total_outcomes\n",
    "    print(\"There are {:,} possible combinations\".format(int(total_outcomes)))\n",
    "    print(\"Probability of winning with {0} tickets is {1:.8f}\".format(num_tickets, prob))\n",
    "    print(\"------------------------------------\")"
   ]
  },
  {
   "cell_type": "code",
   "execution_count": 22,
   "metadata": {
    "collapsed": false
   },
   "outputs": [
    {
     "name": "stdout",
     "output_type": "stream",
     "text": [
      "There are 13,983,816 possible combinations\n",
      "Probability of winning with 1 tickets is 0.00000007\n",
      "------------------------------------\n",
      "There are 13,983,816 possible combinations\n",
      "Probability of winning with 10 tickets is 0.00000072\n",
      "------------------------------------\n",
      "There are 13,983,816 possible combinations\n",
      "Probability of winning with 100 tickets is 0.00000715\n",
      "------------------------------------\n",
      "There are 13,983,816 possible combinations\n",
      "Probability of winning with 10000 tickets is 0.00071511\n",
      "------------------------------------\n",
      "There are 13,983,816 possible combinations\n",
      "Probability of winning with 1000000 tickets is 0.07151124\n",
      "------------------------------------\n",
      "There are 13,983,816 possible combinations\n",
      "Probability of winning with 6991908 tickets is 0.50000000\n",
      "------------------------------------\n",
      "There are 13,983,816 possible combinations\n",
      "Probability of winning with 13983816 tickets is 1.00000000\n",
      "------------------------------------\n"
     ]
    }
   ],
   "source": [
    "for i in [1, 10, 100, 10000, 1000000, 6991908, 13983816]:\n",
    "    multi_ticket_probability(i)"
   ]
  },
  {
   "cell_type": "code",
   "execution_count": 28,
   "metadata": {
    "collapsed": true
   },
   "outputs": [],
   "source": [
    "def probability_less_6(num):\n",
    "    total_outcomes = combinations(49, 6)\n",
    "    remaining_outcomes = combinations(43, 6 - num)\n",
    "    successful_outcomes = combinations(6, num) * remaining_outcomes\n",
    "    prob = successful_outcomes / total_outcomes\n",
    "    print(\"There are {:,} possible combinations\".format(int(total_outcomes)))\n",
    "    print(\"Probability of having exactly {0} winning numbers is {1:.8f}\".format(num, prob))\n",
    "    print(\"------------------------------------\") "
   ]
  },
  {
   "cell_type": "code",
   "execution_count": 44,
   "metadata": {
    "collapsed": false
   },
   "outputs": [
    {
     "name": "stdout",
     "output_type": "stream",
     "text": [
      "There are 13,983,816 possible combinations\n",
      "Probability of having exactly 1 winning numbers is 0.41301945\n",
      "------------------------------------\n",
      "There are 13,983,816 possible combinations\n",
      "Probability of having exactly 2 winning numbers is 0.13237803\n",
      "------------------------------------\n",
      "There are 13,983,816 possible combinations\n",
      "Probability of having exactly 3 winning numbers is 0.01765040\n",
      "------------------------------------\n",
      "There are 13,983,816 possible combinations\n",
      "Probability of having exactly 4 winning numbers is 0.00096862\n",
      "------------------------------------\n",
      "There are 13,983,816 possible combinations\n",
      "Probability of having exactly 5 winning numbers is 0.00001845\n",
      "------------------------------------\n",
      "There are 13,983,816 possible combinations\n",
      "Probability of having exactly 6 winning numbers is 0.00000007\n",
      "------------------------------------\n"
     ]
    }
   ],
   "source": [
    "for i in range(1, 7):\n",
    "    probability_less_6(i)"
   ]
  },
  {
   "cell_type": "code",
   "execution_count": 40,
   "metadata": {
    "collapsed": true
   },
   "outputs": [],
   "source": [
    "def probability_less_6_outcomes(num):\n",
    "    total_outcomes = combinations(49, 6)\n",
    "    remaining_outcomes = combinations(43, 6 - num)\n",
    "    successful_outcomes = combinations(6, num) * remaining_outcomes\n",
    "    return successful_outcomes\n",
    "\n",
    "def atleast_probability(numbers):\n",
    "    if numbers == 7:\n",
    "        return 0\n",
    "    else:\n",
    "        succ_outcomes = probability_less_6_outcomes(numbers)\n",
    "        prob = succ_outcomes / combinations(49, 6)\n",
    "        return prob + atleast_probability(numbers + 1)"
   ]
  },
  {
   "cell_type": "code",
   "execution_count": 43,
   "metadata": {
    "collapsed": false
   },
   "outputs": [
    {
     "name": "stdout",
     "output_type": "stream",
     "text": [
      "probability of winning atleast 1 winning numbers is 0.56403502\n",
      "probability of winning atleast 2 winning numbers is 0.15101557\n",
      "probability of winning atleast 3 winning numbers is 0.01863755\n",
      "probability of winning atleast 4 winning numbers is 0.00098714\n",
      "probability of winning atleast 5 winning numbers is 0.00001852\n",
      "probability of winning atleast 6 winning numbers is 0.00000007\n"
     ]
    }
   ],
   "source": [
    "for i in range(1, 7):\n",
    "    prb = atleast_probability(i)\n",
    "    print('probability of winning atleast {0} winning numbers is {1:.8f}'.format(i, prb))"
   ]
  },
  {
   "cell_type": "code",
   "execution_count": null,
   "metadata": {
    "collapsed": true
   },
   "outputs": [],
   "source": []
  }
 ],
 "metadata": {
  "kernelspec": {
   "display_name": "Python 3",
   "language": "python",
   "name": "python3"
  },
  "language_info": {
   "codemirror_mode": {
    "name": "ipython",
    "version": 3
   },
   "file_extension": ".py",
   "mimetype": "text/x-python",
   "name": "python",
   "nbconvert_exporter": "python",
   "pygments_lexer": "ipython3",
   "version": "3.4.3"
  }
 },
 "nbformat": 4,
 "nbformat_minor": 2
}
