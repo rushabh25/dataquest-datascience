{
 "cells": [
  {
   "cell_type": "markdown",
   "metadata": {},
   "source": [
    "# Profitable app profiles for App store and Google play markets\n",
    "\n",
    "The goal of this project is to analyze the data from app store and google play markets to help the developers understand what type of apps are likely to attract more users.\n"
   ]
  },
  {
   "cell_type": "markdown",
   "metadata": {},
   "source": [
    "### Data Profiling"
   ]
  },
  {
   "cell_type": "code",
   "execution_count": 1,
   "metadata": {},
   "outputs": [],
   "source": [
    "from csv import reader\n",
    "\n",
    "def read_dataset(file_name, header = True):\n",
    "    data_file = open(file_name)\n",
    "    read_data = reader(data_file)\n",
    "    list_data = list(read_data)\n",
    "    return list_data[0], list_data[1:]\n"
   ]
  },
  {
   "cell_type": "markdown",
   "metadata": {},
   "source": [
    "We'll start by opening and exploring these two data sets. To make them easier to explore, we created a function named explore_data() that you can repeatedly use to print rows in a readable way."
   ]
  },
  {
   "cell_type": "code",
   "execution_count": 2,
   "metadata": {},
   "outputs": [],
   "source": [
    "def explore_data(dataset, start, end, rows_and_columns=False):\n",
    "    dataset_slice = dataset[start:end]    \n",
    "    for row in dataset_slice:\n",
    "        print(row)\n",
    "        print('\\n') # adds a new (empty) line after each row\n",
    "\n",
    "    if rows_and_columns:\n",
    "        print('Number of rows:', len(dataset))\n",
    "        print('Number of columns:', len(dataset[0]))"
   ]
  },
  {
   "cell_type": "code",
   "execution_count": 3,
   "metadata": {},
   "outputs": [],
   "source": [
    "apple_store_header, apple_store_data = read_dataset('AppleStore.csv')\n",
    "google_store_header, google_store_data = read_dataset('googleplaystore.csv')"
   ]
  },
  {
   "cell_type": "code",
   "execution_count": 4,
   "metadata": {},
   "outputs": [
    {
     "name": "stdout",
     "output_type": "stream",
     "text": [
      "['284882215', 'Facebook', '389879808', 'USD', '0.0', '2974676', '212', '3.5', '3.5', '95.0', '4+', 'Social Networking', '37', '1', '29', '1']\n",
      "\n",
      "\n",
      "['389801252', 'Instagram', '113954816', 'USD', '0.0', '2161558', '1289', '4.5', '4.0', '10.23', '12+', 'Photo & Video', '37', '0', '29', '1']\n",
      "\n",
      "\n",
      "['529479190', 'Clash of Clans', '116476928', 'USD', '0.0', '2130805', '579', '4.5', '4.5', '9.24.12', '9+', 'Games', '38', '5', '18', '1']\n",
      "\n",
      "\n",
      "['420009108', 'Temple Run', '65921024', 'USD', '0.0', '1724546', '3842', '4.5', '4.0', '1.6.2', '9+', 'Games', '40', '5', '1', '1']\n",
      "\n",
      "\n",
      "['284035177', 'Pandora - Music & Radio', '130242560', 'USD', '0.0', '1126879', '3594', '4.0', '4.5', '8.4.1', '12+', 'Music', '37', '4', '1', '1']\n",
      "\n",
      "\n",
      "Number of rows: 7197\n",
      "Number of columns: 16\n"
     ]
    }
   ],
   "source": [
    "explore_data(apple_store_data, 0, 5, True)"
   ]
  },
  {
   "cell_type": "code",
   "execution_count": 5,
   "metadata": {},
   "outputs": [
    {
     "name": "stdout",
     "output_type": "stream",
     "text": [
      "['Photo Editor & Candy Camera & Grid & ScrapBook', 'ART_AND_DESIGN', '4.1', '159', '19M', '10,000+', 'Free', '0', 'Everyone', 'Art & Design', 'January 7, 2018', '1.0.0', '4.0.3 and up']\n",
      "\n",
      "\n",
      "['Coloring book moana', 'ART_AND_DESIGN', '3.9', '967', '14M', '500,000+', 'Free', '0', 'Everyone', 'Art & Design;Pretend Play', 'January 15, 2018', '2.0.0', '4.0.3 and up']\n",
      "\n",
      "\n",
      "['U Launcher Lite – FREE Live Cool Themes, Hide Apps', 'ART_AND_DESIGN', '4.7', '87510', '8.7M', '5,000,000+', 'Free', '0', 'Everyone', 'Art & Design', 'August 1, 2018', '1.2.4', '4.0.3 and up']\n",
      "\n",
      "\n",
      "['Sketch - Draw & Paint', 'ART_AND_DESIGN', '4.5', '215644', '25M', '50,000,000+', 'Free', '0', 'Teen', 'Art & Design', 'June 8, 2018', 'Varies with device', '4.2 and up']\n",
      "\n",
      "\n",
      "['Pixel Draw - Number Art Coloring Book', 'ART_AND_DESIGN', '4.3', '967', '2.8M', '100,000+', 'Free', '0', 'Everyone', 'Art & Design;Creativity', 'June 20, 2018', '1.1', '4.4 and up']\n",
      "\n",
      "\n",
      "Number of rows: 10841\n",
      "Number of columns: 13\n"
     ]
    }
   ],
   "source": [
    "explore_data(google_store_data, 0, 5, True)"
   ]
  },
  {
   "cell_type": "code",
   "execution_count": 6,
   "metadata": {},
   "outputs": [
    {
     "name": "stdout",
     "output_type": "stream",
     "text": [
      "['id', 'track_name', 'size_bytes', 'currency', 'price', 'rating_count_tot', 'rating_count_ver', 'user_rating', 'user_rating_ver', 'ver', 'cont_rating', 'prime_genre', 'sup_devices.num', 'ipadSc_urls.num', 'lang.num', 'vpp_lic']\n"
     ]
    }
   ],
   "source": [
    "print(apple_store_header)"
   ]
  },
  {
   "cell_type": "code",
   "execution_count": 7,
   "metadata": {},
   "outputs": [
    {
     "name": "stdout",
     "output_type": "stream",
     "text": [
      "['App', 'Category', 'Rating', 'Reviews', 'Size', 'Installs', 'Type', 'Price', 'Content Rating', 'Genres', 'Last Updated', 'Current Ver', 'Android Ver']\n"
     ]
    }
   ],
   "source": [
    "print(google_store_header)"
   ]
  },
  {
   "cell_type": "markdown",
   "metadata": {},
   "source": [
    "Here you can find description of the header row.\n",
    "\n",
    "Apple store header desc: https://www.kaggle.com/ramamet4/app-store-apple-data-set-10k-apps\n",
    "\n",
    "Google store header desc: https://www.kaggle.com/lava18/google-play-store-apps"
   ]
  },
  {
   "cell_type": "markdown",
   "metadata": {},
   "source": [
    "### Data Cleansing\n",
    "\n",
    "Determine the index of the row that has incorrect data and then delete that data from the dataset.\n",
    "\n",
    "The Google Play dataset has a [dedicated discussion section](https://www.kaggle.com/lava18/google-play-store-apps/discussion), and we can see that [one of the discussions](https://www.kaggle.com/lava18/google-play-store-apps/discussion/66015) describes an error for a certain row.\n",
    "\n",
    "Read the [discussion section](https://www.kaggle.com/ramamet4/app-store-apple-data-set-10k-apps/discussion) for the App Store dataset, and see if you can find any reports of wrong data."
   ]
  },
  {
   "cell_type": "code",
   "execution_count": 8,
   "metadata": {},
   "outputs": [
    {
     "name": "stdout",
     "output_type": "stream",
     "text": [
      "['Xposed Wi-Fi-Pwd', 'PERSONALIZATION', '3.5', '1042', '404k', '100,000+', 'Free', '0', 'Everyone', 'Personalization', 'August 5, 2014', '3.0.0', '4.0.3 and up']\n",
      "\n",
      "\n",
      "['Life Made WI-Fi Touchscreen Photo Frame', '1.9', '19', '3.0M', '1,000+', 'Free', '0', 'Everyone', '', 'February 11, 2018', '1.0.19', '4.0 and up']\n",
      "\n",
      "\n",
      "Number of rows: 10841\n",
      "Number of columns: 13\n"
     ]
    }
   ],
   "source": [
    "explore_data(google_store_data, 10471, 10473, True)"
   ]
  },
  {
   "cell_type": "markdown",
   "metadata": {},
   "source": [
    "Looks like there is an issue with row number 10472 with app name = Life Made WI-Fi Touchscreen Photo Frame since the category is 1.9 and rating is 19 which is incorrect"
   ]
  },
  {
   "cell_type": "code",
   "execution_count": 9,
   "metadata": {},
   "outputs": [
    {
     "name": "stdout",
     "output_type": "stream",
     "text": [
      "10841\n",
      "10840\n"
     ]
    }
   ],
   "source": [
    "google_store_data[10472]\n",
    "print(len(google_store_data))\n",
    "del google_store_data[10472]\n",
    "print(len(google_store_data))"
   ]
  },
  {
   "cell_type": "markdown",
   "metadata": {},
   "source": [
    "#### Removing duplicate entries in google play store dataset\n",
    "\n",
    "If you explore the Google Play data set long enough or look at the [discussions](https://www.kaggle.com/lava18/google-play-store-apps/discussion) section, you'll notice some apps have duplicate entries. For instance, Instagram has four entries:\n",
    "\n"
   ]
  },
  {
   "cell_type": "code",
   "execution_count": 10,
   "metadata": {},
   "outputs": [
    {
     "name": "stdout",
     "output_type": "stream",
     "text": [
      "['Instagram', 'SOCIAL', '4.5', '66577313', 'Varies with device', '1,000,000,000+', 'Free', '0', 'Teen', 'Social', 'July 31, 2018', 'Varies with device', 'Varies with device']\n",
      "['Instagram', 'SOCIAL', '4.5', '66577446', 'Varies with device', '1,000,000,000+', 'Free', '0', 'Teen', 'Social', 'July 31, 2018', 'Varies with device', 'Varies with device']\n",
      "['Instagram', 'SOCIAL', '4.5', '66577313', 'Varies with device', '1,000,000,000+', 'Free', '0', 'Teen', 'Social', 'July 31, 2018', 'Varies with device', 'Varies with device']\n",
      "['Instagram', 'SOCIAL', '4.5', '66509917', 'Varies with device', '1,000,000,000+', 'Free', '0', 'Teen', 'Social', 'July 31, 2018', 'Varies with device', 'Varies with device']\n"
     ]
    }
   ],
   "source": [
    "for data in google_store_data:\n",
    "    if data[0] == \"Instagram\":\n",
    "        print(data)"
   ]
  },
  {
   "cell_type": "markdown",
   "metadata": {},
   "source": [
    "Since the fourth column which corresponds to the number of reviews is the only thing different we will pick the record with the max reviews and delete the rest, assuming more reviews = more recent dataset."
   ]
  },
  {
   "cell_type": "markdown",
   "metadata": {},
   "source": [
    "In total, there are 1,181 cases where an app occurs more than once:"
   ]
  },
  {
   "cell_type": "code",
   "execution_count": 11,
   "metadata": {},
   "outputs": [
    {
     "name": "stdout",
     "output_type": "stream",
     "text": [
      "Number of duplicate apps:  1181\n",
      "\n",
      "\n",
      "Example of duplicate apps:  ['Quick PDF Scanner + OCR FREE', 'Box', 'Google My Business', 'ZOOM Cloud Meetings', 'join.me - Simple Meetings', 'Box', 'Zenefits', 'Google Ads', 'Google My Business', 'Slack', 'FreshBooks Classic', 'Insightly CRM', 'QuickBooks Accounting: Invoicing & Expenses', 'HipChat - Chat Built for Teams', 'Xero Accounting Software']\n"
     ]
    }
   ],
   "source": [
    "duplicate_apps = []\n",
    "unique_apps = []\n",
    "\n",
    "for app in google_store_data:\n",
    "    name = app[0]\n",
    "    if name in unique_apps:\n",
    "        duplicate_apps.append(name)\n",
    "    else:\n",
    "        unique_apps.append(name)\n",
    "        \n",
    "print('Number of duplicate apps: ', len(duplicate_apps))\n",
    "print('\\n')\n",
    "print('Example of duplicate apps: ', duplicate_apps[0:15])\n",
    "        "
   ]
  },
  {
   "cell_type": "code",
   "execution_count": 12,
   "metadata": {},
   "outputs": [
    {
     "name": "stdout",
     "output_type": "stream",
     "text": [
      "Expected length: 9659\n"
     ]
    }
   ],
   "source": [
    "print('Expected length: ' + str(len(google_store_data) - len(duplicate_apps)))"
   ]
  },
  {
   "cell_type": "markdown",
   "metadata": {},
   "source": [
    "Create a dictionary where each key is a unique app name and the corresponding dictionary value is the highest number of reviews of that app."
   ]
  },
  {
   "cell_type": "code",
   "execution_count": 13,
   "metadata": {},
   "outputs": [],
   "source": [
    "reviews_max = {}\n",
    "for each_data in google_store_data:\n",
    "    name = each_data[0]\n",
    "    n_reviews = float(each_data[3])\n",
    "    if(name in reviews_max and reviews_max[name] < n_reviews):\n",
    "        reviews_max[name] = n_reviews\n",
    "    elif(name not in reviews_max):\n",
    "        reviews_max[name] = n_reviews"
   ]
  },
  {
   "cell_type": "code",
   "execution_count": 14,
   "metadata": {},
   "outputs": [
    {
     "name": "stdout",
     "output_type": "stream",
     "text": [
      "Instagram 66577446.0\n"
     ]
    }
   ],
   "source": [
    "for x in reviews_max:\n",
    "    if(x == 'Instagram'):\n",
    "        print(x, reviews_max[x])"
   ]
  },
  {
   "cell_type": "markdown",
   "metadata": {},
   "source": [
    "Use the dictionary you created above to remove the duplicate rows:"
   ]
  },
  {
   "cell_type": "code",
   "execution_count": 15,
   "metadata": {},
   "outputs": [
    {
     "name": "stdout",
     "output_type": "stream",
     "text": [
      "9659\n"
     ]
    }
   ],
   "source": [
    "android_clean = []\n",
    "already_added = []\n",
    "\n",
    "for each_data in google_store_data:\n",
    "    name = each_data[0]\n",
    "    n_reviews = float(each_data[3])\n",
    "    if(n_reviews == reviews_max[name] and name not in already_added):\n",
    "        android_clean.append(each_data)\n",
    "        already_added.append(name)\n",
    "    \n",
    "    \n",
    "print(len(android_clean))"
   ]
  },
  {
   "cell_type": "markdown",
   "metadata": {},
   "source": [
    "Determine non-english apps"
   ]
  },
  {
   "cell_type": "code",
   "execution_count": 16,
   "metadata": {},
   "outputs": [
    {
     "name": "stdout",
     "output_type": "stream",
     "text": [
      "['445375097', '爱奇艺PPS -《欢乐颂2》电视剧热播', '224617472', 'USD', '0.0', '14844', '0', '4.0', '0.0', '6.3.3', '17+', 'Entertainment', '38', '5', '3', '1']\n",
      "['1120021683', '【脱出ゲーム】絶対に最後までプレイしないで 〜謎解き＆ブロックパズル〜', '77551616', 'USD', '0.0', '0', '0', '0.0', '0.0', '1.3', '12+', 'Games', '38', '0', '1', '1']\n",
      "\n",
      "\n",
      "['中国語 AQリスニング', 'FAMILY', 'NaN', '21', '17M', '5,000+', 'Free', '0', 'Everyone', 'Education', 'June 22, 2016', '2.4.0', '4.0 and up']\n",
      "['لعبة تقدر تربح DZ', 'FAMILY', '4.2', '238', '6.8M', '10,000+', 'Free', '0', 'Everyone', 'Education', 'November 18, 2016', '6.0.0.0', '4.1 and up']\n"
     ]
    }
   ],
   "source": [
    "print(apple_store_data[813])\n",
    "print(apple_store_data[6731])\n",
    "print('\\n')\n",
    "print(android_clean[4412])\n",
    "print(android_clean[7940])"
   ]
  },
  {
   "cell_type": "code",
   "execution_count": 17,
   "metadata": {},
   "outputs": [
    {
     "name": "stdout",
     "output_type": "stream",
     "text": [
      "True\n",
      "False\n",
      "True\n",
      "True\n"
     ]
    }
   ],
   "source": [
    "def is_string_in_english(a_string):\n",
    "    count_to_three = 0\n",
    "    for char in a_string:\n",
    "        if(ord(char)>127):\n",
    "            count_to_three += 1\n",
    "    if(count_to_three > 3):\n",
    "        return False\n",
    "    else:\n",
    "        return True\n",
    "\n",
    "print(is_string_in_english('Instagram'))\n",
    "print(is_string_in_english('爱奇艺PPS -《欢乐颂2》电视剧热播'))\n",
    "print(is_string_in_english('Docs To Go™ Free Office Suite'))\n",
    "print(is_string_in_english('Instachat 😜'))"
   ]
  },
  {
   "cell_type": "markdown",
   "metadata": {},
   "source": [
    "Counts before and after removing non-english apps\n"
   ]
  },
  {
   "cell_type": "code",
   "execution_count": 18,
   "metadata": {},
   "outputs": [
    {
     "name": "stdout",
     "output_type": "stream",
     "text": [
      "Google apps count before removing non-english apps:  9659\n",
      "Apple apps count before removing non-english apps:  7197\n"
     ]
    }
   ],
   "source": [
    "print('Google apps count before removing non-english apps: ', len(android_clean))\n",
    "print('Apple apps count before removing non-english apps: ', len(apple_store_data))"
   ]
  },
  {
   "cell_type": "code",
   "execution_count": 19,
   "metadata": {},
   "outputs": [],
   "source": [
    "android_only_english_apps = []\n",
    "ios_only_english_apps = []\n",
    "\n",
    "for each_data in android_clean:\n",
    "    app_name = each_data[0]\n",
    "    if(is_string_in_english(app_name)):\n",
    "        android_only_english_apps.append(each_data)\n",
    "        \n",
    "for each_data in apple_store_data:\n",
    "    app_name = each_data[1]\n",
    "    if(is_string_in_english(app_name)):\n",
    "        ios_only_english_apps.append(each_data)\n",
    "\n"
   ]
  },
  {
   "cell_type": "code",
   "execution_count": 20,
   "metadata": {},
   "outputs": [
    {
     "name": "stdout",
     "output_type": "stream",
     "text": [
      "Google apps count after removing non-english apps:  9614\n",
      "Apple apps count after removing non-english apps:  6183\n"
     ]
    }
   ],
   "source": [
    "print('Google apps count after removing non-english apps: ', len(android_only_english_apps))\n",
    "print('Apple apps count after removing non-english apps: ', len(ios_only_english_apps))\n",
    "\n"
   ]
  },
  {
   "cell_type": "code",
   "execution_count": 21,
   "metadata": {},
   "outputs": [
    {
     "name": "stdout",
     "output_type": "stream",
     "text": [
      "Google non-english apps deleted:  45\n",
      "Apple non-english apps deleted:  1014\n"
     ]
    }
   ],
   "source": [
    "print('Google non-english apps deleted: ', len(android_clean) - len(android_only_english_apps))\n",
    "print('Apple non-english apps deleted: ', len(apple_store_data) - len(ios_only_english_apps))\n",
    "\n"
   ]
  },
  {
   "cell_type": "markdown",
   "metadata": {},
   "source": [
    "Isolating free apps"
   ]
  },
  {
   "cell_type": "code",
   "execution_count": 22,
   "metadata": {},
   "outputs": [
    {
     "name": "stdout",
     "output_type": "stream",
     "text": [
      "8864\n",
      "3222\n"
     ]
    }
   ],
   "source": [
    "def format_price(price):\n",
    "    if '$' in price:\n",
    "        price = price.replace('$', '')\n",
    "    return float(price)\n",
    "\n",
    "ios_free_apps = []\n",
    "android_free_apps = []\n",
    "\n",
    "for each_data in android_only_english_apps:\n",
    "    price = each_data[7]\n",
    "    if format_price(price) == 0.0:\n",
    "        android_free_apps.append(each_data)\n",
    "        \n",
    "for each_data in ios_only_english_apps:\n",
    "    price = each_data[4]\n",
    "    if format_price(price) == 0.0:\n",
    "        ios_free_apps.append(each_data)\n",
    "        \n",
    "print(len(android_free_apps))\n",
    "print(len(ios_free_apps))"
   ]
  },
  {
   "cell_type": "markdown",
   "metadata": {},
   "source": [
    "At this stage, Data cleaning is complete.\n",
    "- Removed inaccurate data\n",
    "- Removed duplicate apps\n",
    "- Removed non-english apps\n",
    "- Removed paid apps"
   ]
  },
  {
   "cell_type": "markdown",
   "metadata": {},
   "source": [
    "As we mentioned in the introduction, our goal is to determine the kinds of apps that are likely to attract more users because the number of people using our apps affect our revenue.\n",
    "\n",
    "To minimize risks and overhead, our validation strategy for an app idea has three steps:\n",
    "\n",
    "- Build a minimal Android version of the app, and add it to Google Play.\n",
    "- If the app has a good response from users, we develop it further.\n",
    "- If the app is profitable after six months, we build an iOS version of the app and add it to the App Store.\n",
    "\n",
    "Because our end goal is to add the app on both Google Play and the App Store, we need to find app profiles that are successful in both markets. For instance, a profile that works well for both markets might be a productivity app that makes use of gamification."
   ]
  },
  {
   "cell_type": "code",
   "execution_count": 23,
   "metadata": {},
   "outputs": [
    {
     "name": "stdout",
     "output_type": "stream",
     "text": [
      "['Photo Editor & Candy Camera & Grid & ScrapBook', 'ART_AND_DESIGN', '4.1', '159', '19M', '10,000+', 'Free', '0', 'Everyone', 'Art & Design', 'January 7, 2018', '1.0.0', '4.0.3 and up']\n",
      "\n",
      "\n",
      "['U Launcher Lite – FREE Live Cool Themes, Hide Apps', 'ART_AND_DESIGN', '4.7', '87510', '8.7M', '5,000,000+', 'Free', '0', 'Everyone', 'Art & Design', 'August 1, 2018', '1.2.4', '4.0.3 and up']\n",
      "\n",
      "\n",
      "['Sketch - Draw & Paint', 'ART_AND_DESIGN', '4.5', '215644', '25M', '50,000,000+', 'Free', '0', 'Teen', 'Art & Design', 'June 8, 2018', 'Varies with device', '4.2 and up']\n",
      "\n",
      "\n",
      "Number of rows: 8864\n",
      "Number of columns: 13\n"
     ]
    }
   ],
   "source": [
    "explore_data(android_free_apps,0,3,True)"
   ]
  },
  {
   "cell_type": "code",
   "execution_count": 24,
   "metadata": {},
   "outputs": [
    {
     "name": "stdout",
     "output_type": "stream",
     "text": [
      "['284882215', 'Facebook', '389879808', 'USD', '0.0', '2974676', '212', '3.5', '3.5', '95.0', '4+', 'Social Networking', '37', '1', '29', '1']\n",
      "\n",
      "\n",
      "['389801252', 'Instagram', '113954816', 'USD', '0.0', '2161558', '1289', '4.5', '4.0', '10.23', '12+', 'Photo & Video', '37', '0', '29', '1']\n",
      "\n",
      "\n",
      "['529479190', 'Clash of Clans', '116476928', 'USD', '0.0', '2130805', '579', '4.5', '4.5', '9.24.12', '9+', 'Games', '38', '5', '18', '1']\n",
      "\n",
      "\n",
      "Number of rows: 3222\n",
      "Number of columns: 16\n"
     ]
    }
   ],
   "source": [
    "explore_data(ios_free_apps,0,3,True)"
   ]
  },
  {
   "cell_type": "code",
   "execution_count": 25,
   "metadata": {},
   "outputs": [
    {
     "data": {
      "text/plain": [
       "['id',\n",
       " 'track_name',\n",
       " 'size_bytes',\n",
       " 'currency',\n",
       " 'price',\n",
       " 'rating_count_tot',\n",
       " 'rating_count_ver',\n",
       " 'user_rating',\n",
       " 'user_rating_ver',\n",
       " 'ver',\n",
       " 'cont_rating',\n",
       " 'prime_genre',\n",
       " 'sup_devices.num',\n",
       " 'ipadSc_urls.num',\n",
       " 'lang.num',\n",
       " 'vpp_lic']"
      ]
     },
     "execution_count": 25,
     "metadata": {},
     "output_type": "execute_result"
    }
   ],
   "source": [
    "apple_store_header"
   ]
  },
  {
   "cell_type": "code",
   "execution_count": 26,
   "metadata": {},
   "outputs": [
    {
     "data": {
      "text/plain": [
       "['App',\n",
       " 'Category',\n",
       " 'Rating',\n",
       " 'Reviews',\n",
       " 'Size',\n",
       " 'Installs',\n",
       " 'Type',\n",
       " 'Price',\n",
       " 'Content Rating',\n",
       " 'Genres',\n",
       " 'Last Updated',\n",
       " 'Current Ver',\n",
       " 'Android Ver']"
      ]
     },
     "execution_count": 26,
     "metadata": {},
     "output_type": "execute_result"
    }
   ],
   "source": [
    "google_store_header"
   ]
  },
  {
   "cell_type": "markdown",
   "metadata": {},
   "source": [
    "We will use Genres and Category column in android data and prime_genre column in ios dataset to build the frequency table\n"
   ]
  },
  {
   "cell_type": "markdown",
   "metadata": {},
   "source": [
    "### Build frequency table"
   ]
  },
  {
   "cell_type": "code",
   "execution_count": 27,
   "metadata": {},
   "outputs": [],
   "source": [
    "def freq_table(dataset, index):\n",
    "    ft = {}\n",
    "    total_records = len(dataset)\n",
    "    for each_data in dataset:\n",
    "        my_key = each_data[index]\n",
    "        if my_key in ft:\n",
    "            ft[my_key] += 1\n",
    "        else:\n",
    "            ft[my_key] = 1\n",
    "    \n",
    "    for key in ft:\n",
    "        ft[key] = (ft[key] * 100.0) / total_records\n",
    "    \n",
    "    return ft\n",
    "\n",
    "def display_table(dataset, index):\n",
    "    table = freq_table(dataset, index)\n",
    "    table_display = []\n",
    "    for key in table:\n",
    "        key_val_as_tuple = (table[key], key)\n",
    "        table_display.append(key_val_as_tuple)\n",
    "\n",
    "    table_sorted = sorted(table_display, reverse = True)\n",
    "    for entry in table_sorted:\n",
    "        print(entry[1], ':', entry[0])"
   ]
  },
  {
   "cell_type": "code",
   "execution_count": 28,
   "metadata": {},
   "outputs": [
    {
     "name": "stdout",
     "output_type": "stream",
     "text": [
      "Games : 58.16263190564867\n",
      "Entertainment : 7.883302296710118\n",
      "Photo & Video : 4.9658597144630665\n",
      "Education : 3.6623215394165114\n",
      "Social Networking : 3.2898820608317814\n",
      "Shopping : 2.60707635009311\n",
      "Utilities : 2.5139664804469275\n",
      "Sports : 2.1415270018621975\n",
      "Music : 2.0484171322160147\n",
      "Health & Fitness : 2.017380509000621\n",
      "Productivity : 1.7380509000620732\n",
      "Lifestyle : 1.5828677839851024\n",
      "News : 1.3345747982619491\n",
      "Travel : 1.2414649286157666\n",
      "Finance : 1.1173184357541899\n",
      "Weather : 0.8690254500310366\n",
      "Food & Drink : 0.8069522036002483\n",
      "Reference : 0.5586592178770949\n",
      "Business : 0.5276225946617008\n",
      "Book : 0.4345127250155183\n",
      "Navigation : 0.186219739292365\n",
      "Medical : 0.186219739292365\n",
      "Catalogs : 0.12414649286157665\n"
     ]
    }
   ],
   "source": [
    "ios_ft_prime_genre = display_table(ios_free_apps, 11)"
   ]
  },
  {
   "cell_type": "code",
   "execution_count": 29,
   "metadata": {},
   "outputs": [
    {
     "name": "stdout",
     "output_type": "stream",
     "text": [
      "Tools : 8.449909747292418\n",
      "Entertainment : 6.069494584837545\n",
      "Education : 5.347472924187725\n",
      "Business : 4.591606498194946\n",
      "Productivity : 3.892148014440433\n",
      "Lifestyle : 3.892148014440433\n",
      "Finance : 3.700361010830325\n",
      "Medical : 3.5311371841155235\n",
      "Sports : 3.463447653429603\n",
      "Personalization : 3.3167870036101084\n",
      "Communication : 3.237815884476534\n",
      "Action : 3.1024368231046933\n",
      "Health & Fitness : 3.079873646209386\n",
      "Photography : 2.9444945848375452\n",
      "News & Magazines : 2.7978339350180503\n",
      "Social : 2.6624548736462095\n",
      "Travel & Local : 2.3240072202166067\n",
      "Shopping : 2.2450361010830324\n",
      "Books & Reference : 2.1435018050541514\n",
      "Simulation : 2.041967509025271\n",
      "Dating : 1.861462093862816\n",
      "Arcade : 1.8501805054151625\n",
      "Video Players & Editors : 1.7712093862815885\n",
      "Casual : 1.759927797833935\n",
      "Maps & Navigation : 1.3989169675090252\n",
      "Food & Drink : 1.2409747292418774\n",
      "Puzzle : 1.128158844765343\n",
      "Racing : 0.9927797833935018\n",
      "Role Playing : 0.9363718411552346\n",
      "Libraries & Demo : 0.9363718411552346\n",
      "Auto & Vehicles : 0.9250902527075813\n",
      "Strategy : 0.9138086642599278\n",
      "House & Home : 0.8235559566787004\n",
      "Weather : 0.8009927797833934\n",
      "Events : 0.7107400722021661\n",
      "Adventure : 0.6768953068592057\n",
      "Comics : 0.6092057761732852\n",
      "Beauty : 0.5979241877256317\n",
      "Art & Design : 0.5979241877256317\n",
      "Parenting : 0.4963898916967509\n",
      "Card : 0.45126353790613716\n",
      "Casino : 0.4287003610108303\n",
      "Trivia : 0.4174187725631769\n",
      "Educational;Education : 0.39485559566787004\n",
      "Board : 0.3835740072202166\n",
      "Educational : 0.3722924187725632\n",
      "Education;Education : 0.33844765342960287\n",
      "Word : 0.2594765342960289\n",
      "Casual;Pretend Play : 0.23691335740072203\n",
      "Music : 0.20306859205776173\n",
      "Racing;Action & Adventure : 0.16922382671480143\n",
      "Puzzle;Brain Games : 0.16922382671480143\n",
      "Entertainment;Music & Video : 0.16922382671480143\n",
      "Casual;Brain Games : 0.13537906137184116\n",
      "Casual;Action & Adventure : 0.13537906137184116\n",
      "Arcade;Action & Adventure : 0.12409747292418773\n",
      "Action;Action & Adventure : 0.10153429602888087\n",
      "Educational;Pretend Play : 0.09025270758122744\n",
      "Simulation;Action & Adventure : 0.078971119133574\n",
      "Parenting;Education : 0.078971119133574\n",
      "Entertainment;Brain Games : 0.078971119133574\n",
      "Board;Brain Games : 0.078971119133574\n",
      "Parenting;Music & Video : 0.06768953068592058\n",
      "Educational;Brain Games : 0.06768953068592058\n",
      "Casual;Creativity : 0.06768953068592058\n",
      "Art & Design;Creativity : 0.06768953068592058\n",
      "Education;Pretend Play : 0.056407942238267145\n",
      "Role Playing;Pretend Play : 0.04512635379061372\n",
      "Education;Creativity : 0.04512635379061372\n",
      "Role Playing;Action & Adventure : 0.03384476534296029\n",
      "Puzzle;Action & Adventure : 0.03384476534296029\n",
      "Entertainment;Creativity : 0.03384476534296029\n",
      "Entertainment;Action & Adventure : 0.03384476534296029\n",
      "Educational;Creativity : 0.03384476534296029\n",
      "Educational;Action & Adventure : 0.03384476534296029\n",
      "Education;Music & Video : 0.03384476534296029\n",
      "Education;Brain Games : 0.03384476534296029\n",
      "Education;Action & Adventure : 0.03384476534296029\n",
      "Adventure;Action & Adventure : 0.03384476534296029\n",
      "Video Players & Editors;Music & Video : 0.02256317689530686\n",
      "Sports;Action & Adventure : 0.02256317689530686\n",
      "Simulation;Pretend Play : 0.02256317689530686\n",
      "Puzzle;Creativity : 0.02256317689530686\n",
      "Music;Music & Video : 0.02256317689530686\n",
      "Entertainment;Pretend Play : 0.02256317689530686\n",
      "Casual;Education : 0.02256317689530686\n",
      "Board;Action & Adventure : 0.02256317689530686\n",
      "Video Players & Editors;Creativity : 0.01128158844765343\n",
      "Trivia;Education : 0.01128158844765343\n",
      "Travel & Local;Action & Adventure : 0.01128158844765343\n",
      "Tools;Education : 0.01128158844765343\n",
      "Strategy;Education : 0.01128158844765343\n",
      "Strategy;Creativity : 0.01128158844765343\n",
      "Strategy;Action & Adventure : 0.01128158844765343\n",
      "Simulation;Education : 0.01128158844765343\n",
      "Role Playing;Brain Games : 0.01128158844765343\n",
      "Racing;Pretend Play : 0.01128158844765343\n",
      "Puzzle;Education : 0.01128158844765343\n",
      "Parenting;Brain Games : 0.01128158844765343\n",
      "Music & Audio;Music & Video : 0.01128158844765343\n",
      "Lifestyle;Pretend Play : 0.01128158844765343\n",
      "Lifestyle;Education : 0.01128158844765343\n",
      "Health & Fitness;Education : 0.01128158844765343\n",
      "Health & Fitness;Action & Adventure : 0.01128158844765343\n",
      "Entertainment;Education : 0.01128158844765343\n",
      "Communication;Creativity : 0.01128158844765343\n",
      "Comics;Creativity : 0.01128158844765343\n",
      "Casual;Music & Video : 0.01128158844765343\n",
      "Card;Action & Adventure : 0.01128158844765343\n",
      "Books & Reference;Education : 0.01128158844765343\n",
      "Art & Design;Pretend Play : 0.01128158844765343\n",
      "Art & Design;Action & Adventure : 0.01128158844765343\n",
      "Arcade;Pretend Play : 0.01128158844765343\n",
      "Adventure;Education : 0.01128158844765343\n"
     ]
    }
   ],
   "source": [
    "android_ft_genres = display_table(android_free_apps, 9)"
   ]
  },
  {
   "cell_type": "code",
   "execution_count": 30,
   "metadata": {},
   "outputs": [
    {
     "name": "stdout",
     "output_type": "stream",
     "text": [
      "FAMILY : 18.907942238267147\n",
      "GAME : 9.724729241877256\n",
      "TOOLS : 8.461191335740072\n",
      "BUSINESS : 4.591606498194946\n",
      "LIFESTYLE : 3.9034296028880866\n",
      "PRODUCTIVITY : 3.892148014440433\n",
      "FINANCE : 3.700361010830325\n",
      "MEDICAL : 3.5311371841155235\n",
      "SPORTS : 3.395758122743682\n",
      "PERSONALIZATION : 3.3167870036101084\n",
      "COMMUNICATION : 3.237815884476534\n",
      "HEALTH_AND_FITNESS : 3.079873646209386\n",
      "PHOTOGRAPHY : 2.9444945848375452\n",
      "NEWS_AND_MAGAZINES : 2.7978339350180503\n",
      "SOCIAL : 2.6624548736462095\n",
      "TRAVEL_AND_LOCAL : 2.33528880866426\n",
      "SHOPPING : 2.2450361010830324\n",
      "BOOKS_AND_REFERENCE : 2.1435018050541514\n",
      "DATING : 1.861462093862816\n",
      "VIDEO_PLAYERS : 1.7937725631768953\n",
      "MAPS_AND_NAVIGATION : 1.3989169675090252\n",
      "FOOD_AND_DRINK : 1.2409747292418774\n",
      "EDUCATION : 1.1620036101083033\n",
      "ENTERTAINMENT : 0.9589350180505415\n",
      "LIBRARIES_AND_DEMO : 0.9363718411552346\n",
      "AUTO_AND_VEHICLES : 0.9250902527075813\n",
      "HOUSE_AND_HOME : 0.8235559566787004\n",
      "WEATHER : 0.8009927797833934\n",
      "EVENTS : 0.7107400722021661\n",
      "PARENTING : 0.6543321299638989\n",
      "ART_AND_DESIGN : 0.6430505415162455\n",
      "COMICS : 0.6204873646209387\n",
      "BEAUTY : 0.5979241877256317\n"
     ]
    }
   ],
   "source": [
    "android_ft_category = display_table(android_free_apps, 1)"
   ]
  },
  {
   "cell_type": "markdown",
   "metadata": {},
   "source": [
    "For android, genres is much more granular than category so we will reference category going forward.\n",
    "\n",
    "To understand no of users, we will take a look at the rating column in android dataset and rating_count_tot column in ios dataset."
   ]
  },
  {
   "cell_type": "code",
   "execution_count": 31,
   "metadata": {},
   "outputs": [],
   "source": [
    "android_avg_rating_count_ft = {}\n",
    "ios_avg_rating_count_ft = {}\n",
    "android_num_counter = {}\n",
    "ios_num_counter = {}\n",
    "\n",
    "for each_data in ios_free_apps:\n",
    "    n_ratings = float(each_data[5])\n",
    "    category = each_data[11]\n",
    "    if category in ios_avg_rating_count_ft:\n",
    "        ios_avg_rating_count_ft[category] += n_ratings\n",
    "        ios_num_counter[category] += 1\n",
    "    else:\n",
    "        ios_avg_rating_count_ft[category] = n_ratings\n",
    "        ios_num_counter[category] = 1\n",
    "        \n",
    "for each_data in android_free_apps:\n",
    "    n_ratings = float(each_data[3])\n",
    "    category = each_data[1]\n",
    "    if category in android_avg_rating_count_ft:\n",
    "        android_avg_rating_count_ft[category] += n_ratings\n",
    "        android_num_counter[category] += 1\n",
    "    else:\n",
    "        android_avg_rating_count_ft[category] = n_ratings\n",
    "        android_num_counter[category] = 1\n",
    "        \n",
    "for my_key in android_avg_rating_count_ft:\n",
    "    android_avg_rating_count_ft[my_key] = android_avg_rating_count_ft[my_key] / android_num_counter[my_key]\n",
    "\n",
    "for my_key in ios_avg_rating_count_ft:\n",
    "    ios_avg_rating_count_ft[my_key] = ios_avg_rating_count_ft[my_key] / ios_num_counter[my_key]\n",
    "    "
   ]
  },
  {
   "cell_type": "code",
   "execution_count": 32,
   "metadata": {},
   "outputs": [],
   "source": [
    "def sort_dict_by_value(d, reverse = False):\n",
    "    return dict(sorted(d.items(), key = lambda x: x[1], reverse = reverse))"
   ]
  },
  {
   "cell_type": "code",
   "execution_count": 33,
   "metadata": {},
   "outputs": [
    {
     "data": {
      "text/plain": [
       "{'COMMUNICATION': 995608.4634146341,\n",
       " 'SOCIAL': 965830.9872881356,\n",
       " 'GAME': 683523.8445475638,\n",
       " 'VIDEO_PLAYERS': 425350.08176100627,\n",
       " 'PHOTOGRAPHY': 404081.3754789272,\n",
       " 'TOOLS': 305732.8973333333,\n",
       " 'ENTERTAINMENT': 301752.24705882353,\n",
       " 'SHOPPING': 223887.34673366835,\n",
       " 'PERSONALIZATION': 181122.31632653062,\n",
       " 'WEATHER': 171250.77464788733,\n",
       " 'PRODUCTIVITY': 160634.5420289855,\n",
       " 'MAPS_AND_NAVIGATION': 142860.0483870968,\n",
       " 'TRAVEL_AND_LOCAL': 129484.42512077295,\n",
       " 'SPORTS': 116938.6146179402,\n",
       " 'FAMILY': 113142.99821002387,\n",
       " 'NEWS_AND_MAGAZINES': 93088.03225806452,\n",
       " 'BOOKS_AND_REFERENCE': 87995.06842105264,\n",
       " 'HEALTH_AND_FITNESS': 78094.9706959707,\n",
       " 'FOOD_AND_DRINK': 57478.79090909091,\n",
       " 'EDUCATION': 56293.09708737864,\n",
       " 'COMICS': 42585.61818181818,\n",
       " 'FINANCE': 38535.8993902439,\n",
       " 'LIFESTYLE': 33921.82369942196,\n",
       " 'HOUSE_AND_HOME': 26435.465753424658,\n",
       " 'ART_AND_DESIGN': 24699.42105263158,\n",
       " 'BUSINESS': 24239.727272727272,\n",
       " 'DATING': 21953.272727272728,\n",
       " 'PARENTING': 16378.706896551725,\n",
       " 'AUTO_AND_VEHICLES': 14140.280487804877,\n",
       " 'LIBRARIES_AND_DEMO': 10925.807228915663,\n",
       " 'BEAUTY': 7476.226415094339,\n",
       " 'MEDICAL': 3730.1533546325877,\n",
       " 'EVENTS': 2555.84126984127}"
      ]
     },
     "execution_count": 33,
     "metadata": {},
     "output_type": "execute_result"
    }
   ],
   "source": [
    "sort_dict_by_value(android_avg_rating_count_ft, True)"
   ]
  },
  {
   "cell_type": "code",
   "execution_count": 34,
   "metadata": {},
   "outputs": [
    {
     "data": {
      "text/plain": [
       "{'Navigation': 86090.33333333333,\n",
       " 'Reference': 74942.11111111111,\n",
       " 'Social Networking': 71548.34905660378,\n",
       " 'Music': 57326.530303030304,\n",
       " 'Weather': 52279.892857142855,\n",
       " 'Book': 39758.5,\n",
       " 'Food & Drink': 33333.92307692308,\n",
       " 'Finance': 31467.944444444445,\n",
       " 'Photo & Video': 28441.54375,\n",
       " 'Travel': 28243.8,\n",
       " 'Shopping': 26919.690476190477,\n",
       " 'Health & Fitness': 23298.015384615384,\n",
       " 'Sports': 23008.898550724636,\n",
       " 'Games': 22788.6696905016,\n",
       " 'News': 21248.023255813954,\n",
       " 'Productivity': 21028.410714285714,\n",
       " 'Utilities': 18684.456790123455,\n",
       " 'Lifestyle': 16485.764705882353,\n",
       " 'Entertainment': 14029.830708661417,\n",
       " 'Business': 7491.117647058823,\n",
       " 'Education': 7003.983050847458,\n",
       " 'Catalogs': 4004.0,\n",
       " 'Medical': 612.0}"
      ]
     },
     "execution_count": 34,
     "metadata": {},
     "output_type": "execute_result"
    }
   ],
   "source": [
    "sort_dict_by_value(ios_avg_rating_count_ft, True)"
   ]
  },
  {
   "cell_type": "markdown",
   "metadata": {},
   "source": [
    "For ios, most popular apps are from category Navigation or Reference."
   ]
  },
  {
   "cell_type": "code",
   "execution_count": 35,
   "metadata": {},
   "outputs": [
    {
     "name": "stdout",
     "output_type": "stream",
     "text": [
      "['323229106', 'Waze - GPS Navigation, Maps & Real-time Traffic', '94139392', 'USD', '0.0', '345046', '3040', '4.5', '4.5', '4.24', '4+', 'Navigation', '37', '5', '36', '1']\n",
      "['585027354', 'Google Maps - Navigation & Transit', '120232960', 'USD', '0.0', '154911', '1253', '4.5', '4.0', '4.31.1', '12+', 'Navigation', '37', '5', '34', '1']\n",
      "['329541503', 'Geocaching®', '108166144', 'USD', '0.0', '12811', '134', '3.5', '1.5', '5.3', '4+', 'Navigation', '37', '0', '22', '1']\n",
      "['504677517', 'CoPilot GPS – Car Navigation & Offline Maps', '82534400', 'USD', '0.0', '3582', '70', '4.0', '3.5', '10.0.0.984', '4+', 'Navigation', '38', '5', '25', '1']\n",
      "['344176018', 'ImmobilienScout24: Real Estate Search in Germany', '126867456', 'USD', '0.0', '187', '0', '3.5', '0.0', '9.5', '4+', 'Navigation', '37', '5', '3', '1']\n",
      "['463431091', 'Railway Route Search', '46950400', 'USD', '0.0', '5', '0', '3.0', '0.0', '3.17.1', '4+', 'Navigation', '37', '0', '1', '1']\n"
     ]
    }
   ],
   "source": [
    "for each_data in ios_free_apps:\n",
    "    if each_data[11] == 'Navigation':\n",
    "        print(each_data)"
   ]
  },
  {
   "cell_type": "markdown",
   "metadata": {},
   "source": [
    "As expected, Navigation comprises of Waze and Google Maps with most reviews."
   ]
  },
  {
   "cell_type": "code",
   "execution_count": 36,
   "metadata": {},
   "outputs": [
    {
     "name": "stdout",
     "output_type": "stream",
     "text": [
      "['282935706', 'Bible', '92774400', 'USD', '0.0', '985920', '5320', '4.5', '5.0', '7.5.1', '4+', 'Reference', '37', '5', '45', '1']\n",
      "['308750436', 'Dictionary.com Dictionary & Thesaurus', '111275008', 'USD', '0.0', '200047', '177', '4.0', '4.0', '7.1.3', '4+', 'Reference', '37', '0', '1', '1']\n",
      "['364740856', 'Dictionary.com Dictionary & Thesaurus for iPad', '165748736', 'USD', '0.0', '54175', '10176', '4.5', '4.5', '4.0', '4+', 'Reference', '24', '5', '9', '1']\n",
      "['414706506', 'Google Translate', '65281024', 'USD', '0.0', '26786', '27', '3.5', '4.5', '5.10.0', '4+', 'Reference', '37', '5', '59', '1']\n",
      "['388389451', 'Muslim Pro: Ramadan 2017 Prayer Times, Azan, Quran', '100551680', 'USD', '0.0', '18418', '706', '4.5', '5.0', '9.2.1', '4+', 'Reference', '37', '5', '16', '1']\n",
      "['1130829481', 'New Furniture Mods - Pocket Wiki & Game Tools for Minecraft PC Edition', '52959232', 'USD', '0.0', '17588', '17588', '4.5', '4.5', '1.0', '4+', 'Reference', '38', '3', '2', '1']\n",
      "['399452287', 'Merriam-Webster Dictionary', '155593728', 'USD', '0.0', '16849', '1125', '4.5', '4.5', '4.1', '4+', 'Reference', '38', '1', '12', '1']\n",
      "['475772902', 'Night Sky', '596499456', 'USD', '0.0', '12122', '60', '4.5', '4.5', '4.4.1', '4+', 'Reference', '37', '5', '29', '1']\n",
      "['1135575003', 'City Maps for Minecraft PE - The Best Maps for Minecraft Pocket Edition (MCPE)', '90124288', 'USD', '0.0', '8535', '8535', '4.0', '4.0', '1.0', '4+', 'Reference', '37', '4', '1', '1']\n",
      "['1132715891', 'LUCKY BLOCK MOD ™ for Minecraft PC Edition - The Best Pocket Wiki & Mods Installer Tools', '86874112', 'USD', '0.0', '4693', '4693', '4.0', '4.0', '1.0', '12+', 'Reference', '37', '4', '1', '1']\n",
      "['1137683736', 'GUNS MODS for Minecraft PC Edition - Mods Tools', '85424128', 'USD', '0.0', '1497', '245', '4.0', '3.0', '1.1', '12+', 'Reference', '37', '4', '1', '1']\n",
      "['1133678984', 'Guides for Pokémon GO - Pokemon GO News and Cheats', '27029504', 'USD', '0.0', '826', '58', '4.5', '4.0', '1.1', '17+', 'Reference', '37', '2', '1', '1']\n",
      "['640199958', 'WWDC', '34959360', 'USD', '0.0', '762', '7', '3.5', '4.5', '6.0.0', '4+', 'Reference', '37', '5', '1', '1']\n",
      "['1133706938', 'Horror Maps for Minecraft PE - Download The Scariest Maps for Minecraft Pocket Edition (MCPE) Free', '89927680', 'USD', '0.0', '718', '718', '4.0', '4.0', '1.0', '12+', 'Reference', '37', '4', '1', '1']\n",
      "['1003837100', 'VPN Express', '10645504', 'USD', '0.0', '14', '1', '4.5', '5.0', '1.8', '4+', 'Reference', '37', '2', '2', '1']\n",
      "['1156856246', 'Real Bike Traffic Rider Virtual Reality Glasses', '125990912', 'USD', '0.0', '8', '2', '3.0', '4.5', '8.9', '17+', 'Reference', '40', '5', '1', '1']\n",
      "['980134624', '教えて!goo', '44208128', 'USD', '0.0', '0', '0', '0.0', '0.0', '2.2.3', '12+', 'Reference', '37', '0', '1', '1']\n",
      "['671889349', 'Jishokun-Japanese English Dictionary & Translator', '225522688', 'USD', '0.0', '0', '0', '0.0', '0.0', '2.10.14', '12+', 'Reference', '37', '4', '2', '1']\n"
     ]
    }
   ],
   "source": [
    "for each_data in ios_free_apps:\n",
    "    if each_data[11] == 'Reference':\n",
    "        print(each_data)"
   ]
  },
  {
   "cell_type": "markdown",
   "metadata": {},
   "source": [
    "For ios, we recommend an app that belongs to genre = \"Reference\" maybe some kind of book."
   ]
  },
  {
   "cell_type": "code",
   "execution_count": 37,
   "metadata": {},
   "outputs": [
    {
     "name": "stdout",
     "output_type": "stream",
     "text": [
      "['WhatsApp Messenger', 'COMMUNICATION', '4.4', '69119316', 'Varies with device', '1,000,000,000+', 'Free', '0', 'Everyone', 'Communication', 'August 3, 2018', 'Varies with device', 'Varies with device']\n",
      "['Messenger for SMS', 'COMMUNICATION', '4.3', '125257', '17M', '10,000,000+', 'Free', '0', 'Teen', 'Communication', 'June 6, 2018', '1.8.9', '4.1 and up']\n",
      "['My Tele2', 'COMMUNICATION', '4.3', '158679', '8.8M', '5,000,000+', 'Free', '0', 'Everyone', 'Communication', 'August 3, 2018', '2.4.1', '4.4 and up']\n",
      "['imo beta free calls and text', 'COMMUNICATION', '4.3', '659395', '11M', '100,000,000+', 'Free', '0', 'Everyone', 'Communication', 'June 7, 2018', '9.8.000000010492', '4.0 and up']\n",
      "['Contacts', 'COMMUNICATION', '4.3', '66602', 'Varies with device', '50,000,000+', 'Free', '0', 'Everyone', 'Communication', 'June 26, 2018', '2.8.4.201036949', '5.0 and up']\n",
      "['Call Free – Free Call', 'COMMUNICATION', '4.3', '30209', '15M', '5,000,000+', 'Free', '0', 'Everyone', 'Communication', 'July 28, 2018', '1.3.4', '4.1 and up']\n",
      "['Web Browser & Explorer', 'COMMUNICATION', '4.0', '36901', '6.6M', '5,000,000+', 'Free', '0', 'Everyone', 'Communication', 'July 4, 2018', '11.8.6', '4.0.3 - 7.1.1']\n",
      "['Browser 4G', 'COMMUNICATION', '4.3', '192948', '6.6M', '10,000,000+', 'Free', '0', 'Everyone', 'Communication', 'June 19, 2018', '24.6.6', '4.0.3 - 7.1.1']\n",
      "['MegaFon Dashboard', 'COMMUNICATION', '3.7', '99559', 'Varies with device', '10,000,000+', 'Free', '0', 'Everyone', 'Communication', 'July 30, 2018', 'Varies with device', 'Varies with device']\n",
      "['ZenUI Dialer & Contacts', 'COMMUNICATION', '4.5', '437674', 'Varies with device', '10,000,000+', 'Free', '0', 'Everyone', 'Communication', 'August 1, 2018', 'Varies with device', 'Varies with device']\n",
      "['Cricket Visual Voicemail', 'COMMUNICATION', '3.9', '13698', '5.1M', '10,000,000+', 'Free', '0', 'Everyone', 'Communication', 'July 2, 2018', '3.2.0.100171', '4.1 and up']\n",
      "['TracFone My Account', 'COMMUNICATION', '3.6', '20769', '18M', '1,000,000+', 'Free', '0', 'Everyone', 'Communication', 'July 11, 2018', 'R6.0.3', '4.1 and up']\n",
      "['Xperia Link™', 'COMMUNICATION', '4.1', '45487', 'Varies with device', '10,000,000+', 'Free', '0', 'Everyone', 'Communication', 'October 27, 2016', 'Varies with device', 'Varies with device']\n",
      "['TouchPal Keyboard - Fun Emoji & Android Keyboard', 'COMMUNICATION', '4.4', '615381', '37M', '10,000,000+', 'Free', '0', 'Mature 17+', 'Communication', 'August 2, 2018', '6.7.9.1', '4.0.3 and up']\n",
      "['Skype Lite - Free Video Call & Chat', 'COMMUNICATION', '4.2', '33053', '22M', '5,000,000+', 'Free', '0', 'Everyone', 'Communication', 'July 31, 2018', '1.60.0.31354-release', '4.0.3 and up']\n",
      "['My magenta', 'COMMUNICATION', '3.9', '42370', '37M', '1,000,000+', 'Free', '0', 'Everyone', 'Communication', 'June 25, 2018', '7.5.1', '5.0 and up']\n",
      "['Android Messages', 'COMMUNICATION', '4.2', '781810', 'Varies with device', '100,000,000+', 'Free', '0', 'Everyone', 'Communication', 'August 1, 2018', 'Varies with device', 'Varies with device']\n",
      "['Google Duo - High Quality Video Calls', 'COMMUNICATION', '4.6', '2083237', 'Varies with device', '500,000,000+', 'Free', '0', 'Everyone', 'Communication', 'July 31, 2018', '37.1.206017801.DR37_RC14', '4.4 and up']\n",
      "['Seznam.cz', 'COMMUNICATION', '4.3', '46702', 'Varies with device', '1,000,000+', 'Free', '0', 'Everyone', 'Communication', 'July 4, 2018', 'Varies with device', 'Varies with device']\n",
      "['Antillean Gold Telegram (original version)', 'COMMUNICATION', '4.4', '2939', '17M', '100,000+', 'Free', '0', 'Everyone', 'Communication', 'July 16, 2018', '2.1', '4.1 and up']\n",
      "['AT&T Visual Voicemail', 'COMMUNICATION', '3.7', '13761', 'Varies with device', '10,000,000+', 'Free', '0', 'Everyone', 'Communication', 'June 27, 2018', 'Varies with device', 'Varies with device']\n",
      "['GMX Mail', 'COMMUNICATION', '4.3', '258556', 'Varies with device', '10,000,000+', 'Free', '0', 'Everyone', 'Communication', 'July 25, 2018', 'Varies with device', 'Varies with device']\n",
      "['Omlet Chat', 'COMMUNICATION', '3.9', '40751', '35M', '10,000,000+', 'Free', '0', 'Teen', 'Communication', 'November 4, 2016', '2.2.7600', '4.0.3 and up']\n",
      "['My Vodacom SA', 'COMMUNICATION', '3.7', '25021', '61M', '5,000,000+', 'Free', '0', 'Everyone', 'Communication', 'June 26, 2018', '9.9.0', '4.3 and up']\n",
      "['Microsoft Edge', 'COMMUNICATION', '4.3', '27187', '66M', '5,000,000+', 'Free', '0', 'Everyone', 'Communication', 'July 28, 2018', '42.0.0.2059', '4.4 and up']\n",
      "['Messenger – Text and Video Chat for Free', 'COMMUNICATION', '4.0', '56646578', 'Varies with device', '1,000,000,000+', 'Free', '0', 'Everyone', 'Communication', 'August 1, 2018', 'Varies with device', 'Varies with device']\n",
      "['imo free video calls and chat', 'COMMUNICATION', '4.3', '4785988', '11M', '500,000,000+', 'Free', '0', 'Everyone', 'Communication', 'June 8, 2018', '9.8.000000010501', '4.0 and up']\n",
      "['Calls & Text by Mo+', 'COMMUNICATION', '4.2', '83239', '14M', '5,000,000+', 'Free', '0', 'Everyone', 'Communication', 'April 19, 2018', '3.0.4', '4.0 and up']\n",
      "['free video calls and chat', 'COMMUNICATION', '4.2', '594728', 'Varies with device', '50,000,000+', 'Free', '0', 'Everyone', 'Communication', 'July 19, 2018', '7.3(800241)', '4.4 and up']\n",
      "['Skype - free IM & video calls', 'COMMUNICATION', '4.1', '10484169', 'Varies with device', '1,000,000,000+', 'Free', '0', 'Everyone', 'Communication', 'August 3, 2018', 'Varies with device', 'Varies with device']\n",
      "['Who', 'COMMUNICATION', '4.3', '2451093', 'Varies with device', '100,000,000+', 'Free', '0', 'Teen', 'Communication', 'August 3, 2018', 'Varies with device', 'Varies with device']\n",
      "['GO SMS Pro - Messenger, Free Themes, Emoji', 'COMMUNICATION', '4.4', '2876500', '24M', '100,000,000+', 'Free', '0', 'Everyone', 'Communication', 'August 1, 2018', '7.73', '4.0 and up']\n",
      "['Messaging+ SMS, MMS Free', 'COMMUNICATION', '4.1', '28238', '17M', '1,000,000+', 'Free', '0', 'Everyone', 'Communication', 'August 2, 2018', '4.98', '2.3 and up']\n",
      "['chomp SMS', 'COMMUNICATION', '4.3', '335646', '8.3M', '10,000,000+', 'Free', '0', 'Everyone', 'Communication', 'July 26, 2018', '7.21', '2.3 and up']\n",
      "['Glide - Video Chat Messenger', 'COMMUNICATION', '4.3', '350154', 'Varies with device', '10,000,000+', 'Free', '0', 'Everyone', 'Communication', 'July 29, 2018', 'Varies with device', 'Varies with device']\n",
      "['Text SMS', 'COMMUNICATION', '4.5', '349384', '8.2M', '10,000,000+', 'Free', '0', 'Everyone', 'Communication', 'July 24, 2018', '3.47', '4.0.3 and up']\n",
      "['Talkray - Free Calls & Texts', 'COMMUNICATION', '4.2', '244863', 'Varies with device', '10,000,000+', 'Free', '0', 'Everyone', 'Communication', 'May 29, 2018', 'Varies with device', 'Varies with device']\n",
      "['LINE: Free Calls & Messages', 'COMMUNICATION', '4.2', '10790289', 'Varies with device', '500,000,000+', 'Free', '0', 'Everyone', 'Communication', 'July 26, 2018', 'Varies with device', 'Varies with device']\n",
      "['GroupMe', 'COMMUNICATION', '4.5', '330761', 'Varies with device', '10,000,000+', 'Free', '0', 'Everyone', 'Communication', 'July 3, 2018', 'Varies with device', 'Varies with device']\n",
      "['mysms SMS Text Messaging Sync', 'COMMUNICATION', '4.3', '37320', '8.4M', '1,000,000+', 'Free', '0', 'Everyone', 'Communication', 'July 30, 2018', '6.5.1', '4.0.3 and up']\n",
      "['2ndLine - Second Phone Number', 'COMMUNICATION', '4.2', '15880', '32M', '1,000,000+', 'Free', '0', 'Everyone', 'Communication', 'August 3, 2018', '5.65.0', '4.0 and up']\n",
      "['Google Chrome: Fast & Secure', 'COMMUNICATION', '4.3', '9643041', 'Varies with device', '1,000,000,000+', 'Free', '0', 'Everyone', 'Communication', 'August 1, 2018', 'Varies with device', 'Varies with device']\n",
      "['Firefox Browser fast & private', 'COMMUNICATION', '4.4', '3075118', 'Varies with device', '100,000,000+', 'Free', '0', 'Everyone', 'Communication', 'July 10, 2018', 'Varies with device', 'Varies with device']\n",
      "['Ninesky Browser', 'COMMUNICATION', '4.2', '42925', '2.8M', '1,000,000+', 'Free', '0', 'Everyone', 'Communication', 'August 27, 2017', '6.1', '2.3 and up']\n",
      "['Dolphin Browser - Fast, Private & Adblock🐬', 'COMMUNICATION', '4.5', '2511130', 'Varies with device', '50,000,000+', 'Free', '0', 'Everyone', 'Communication', 'July 2, 2018', 'Varies with device', 'Varies with device']\n",
      "['UC Browser - Fast Download Private & Secure', 'COMMUNICATION', '4.5', '17714850', '40M', '500,000,000+', 'Free', '0', 'Teen', 'Communication', 'August 2, 2018', '12.8.5.1121', '4.0 and up']\n",
      "['Ghostery Privacy Browser', 'COMMUNICATION', '4.1', '13100', '2.2M', '1,000,000+', 'Free', '0', 'Everyone', 'Communication', 'March 20, 2018', '1.4.1.0', '4.0.3 and up']\n",
      "['InBrowser - Incognito Browsing', 'COMMUNICATION', '4.2', '27156', 'Varies with device', '1,000,000+', 'Free', '0', 'Everyone', 'Communication', 'May 31, 2018', 'Varies with device', 'Varies with device']\n",
      "['Lightning Web Browser', 'COMMUNICATION', '4.1', '12578', '2.3M', '500,000+', 'Free', '0', 'Everyone', 'Communication', 'July 10, 2017', '4.5.1', '4.0 and up']\n",
      "['Web Browser', 'COMMUNICATION', '4.2', '10965', '2.3M', '500,000+', 'Free', '0', 'Everyone', 'Communication', 'February 2, 2015', '2.0', '3.0 and up']\n",
      "['Contacts+', 'COMMUNICATION', '4.2', '190613', '11M', '10,000,000+', 'Free', '0', 'Everyone', 'Communication', 'July 31, 2018', '5.85.1', '4.0.3 and up']\n",
      "['ExDialer - Dialer & Contacts', 'COMMUNICATION', '4.2', '125232', '2.7M', '10,000,000+', 'Free', '0', 'Everyone', 'Communication', 'March 5, 2017', '196', '2.1 and up']\n",
      "['PHONE for Google Voice & GTalk', 'COMMUNICATION', '4.3', '72065', '13M', '1,000,000+', 'Free', '0', 'Everyone', 'Communication', 'April 18, 2018', '3.0.7', '4.0 and up']\n",
      "['Safest Call Blocker', 'COMMUNICATION', '4.4', '27540', '3.7M', '1,000,000+', 'Free', '0', 'Everyone', 'Communication', 'January 5, 2018', '1.26.001', '4.0 and up']\n",
      "['Full Screen Caller ID', 'COMMUNICATION', '4.2', '104990', '10M', '5,000,000+', 'Free', '0', 'Everyone', 'Communication', 'May 15, 2018', '3.5.0', '4.0.3 and up']\n",
      "['Hiya - Caller ID & Block', 'COMMUNICATION', '4.4', '177703', '13M', '10,000,000+', 'Free', '0', 'Mature 17+', 'Communication', 'July 25, 2018', '8.1.2-6310', '5.0 and up']\n",
      "['Mr. Number-Block calls & spam', 'COMMUNICATION', '4.2', '177263', '13M', '10,000,000+', 'Free', '0', 'Mature 17+', 'Communication', 'July 13, 2018', '5.1.2-6310', '5.0 and up']\n",
      "['Should I Answer?', 'COMMUNICATION', '4.8', '237468', '8.8M', '1,000,000+', 'Free', '0', 'Everyone', 'Communication', 'July 26, 2018', '2018.1.715', '4.0 and up']\n",
      "['RocketDial Dialer & Contacts', 'COMMUNICATION', '4.4', '32254', '5.5M', '1,000,000+', 'Free', '0', 'Everyone', 'Communication', 'December 4, 2017', '3.9.7', '2.1 and up']\n",
      "['CIA - Caller ID & Call Blocker', 'COMMUNICATION', '4.0', '60308', 'Varies with device', '5,000,000+', 'Free', '0', 'Everyone', 'Communication', 'June 22, 2018', 'Varies with device', 'Varies with device']\n",
      "['Calls Blacklist - Call Blocker', 'COMMUNICATION', '4.5', '457283', 'Varies with device', '10,000,000+', 'Free', '0', 'Everyone', 'Communication', 'May 24, 2018', 'Varies with device', 'Varies with device']\n",
      "['Call Control - Call Blocker', 'COMMUNICATION', '4.4', '93825', '11M', '5,000,000+', 'Free', '0', 'Everyone', 'Communication', 'July 5, 2018', '2.17.3', '4.1 and up']\n",
      "['True Contact - Real Caller ID', 'COMMUNICATION', '4.1', '32283', 'Varies with device', '1,000,000+', 'Free', '0', 'Everyone', 'Communication', 'July 26, 2018', 'Varies with device', 'Varies with device']\n",
      "['Video Caller Id', 'COMMUNICATION', '4.2', '15287', '17M', '1,000,000+', 'Free', '0', 'Everyone', 'Communication', 'January 24, 2018', '2.2.245', '4.0.3 and up']\n",
      "['Sync.ME – Caller ID & Block', 'COMMUNICATION', '4.5', '205739', '17M', '5,000,000+', 'Free', '0', 'Everyone', 'Communication', 'July 26, 2018', '4.5.4', '4.1 and up']\n",
      "['Burner - Free Phone Number', 'COMMUNICATION', '4.3', '14873', 'Varies with device', '1,000,000+', 'Free', '0', 'Everyone', 'Communication', 'July 12, 2018', 'Varies with device', 'Varies with device']\n",
      "['Caller ID +', 'COMMUNICATION', '4.0', '9498', '118k', '1,000,000+', 'Free', '0', 'Everyone', 'Communication', 'June 7, 2016', '5.28.0', '2.3 and up']\n",
      "['Gmail', 'COMMUNICATION', '4.3', '4604483', 'Varies with device', '1,000,000,000+', 'Free', '0', 'Everyone', 'Communication', 'August 2, 2018', 'Varies with device', 'Varies with device']\n",
      "['K-9 Mail', 'COMMUNICATION', '4.2', '88427', '5.1M', '5,000,000+', 'Free', '0', 'Everyone', 'Communication', 'January 6, 2018', '5.403', '4.0.3 and up']\n",
      "['myMail – Email for Hotmail, Gmail and Outlook Mail', 'COMMUNICATION', '4.5', '305218', 'Varies with device', '10,000,000+', 'Free', '0', 'Everyone', 'Communication', 'August 3, 2018', 'Varies with device', 'Varies with device']\n",
      "['Email TypeApp - Mail App', 'COMMUNICATION', '4.6', '183374', '44M', '1,000,000+', 'Free', '0', 'Everyone', 'Communication', 'August 1, 2018', '1.9.4.74', '4.1 and up']\n",
      "['All Email Providers', 'COMMUNICATION', '4.1', '20901', '7.3M', '1,000,000+', 'Free', '0', 'Everyone', 'Communication', 'April 3, 2018', '5.0.9', '4.1 and up']\n",
      "['Newton Mail - Email App for Gmail, Outlook, IMAP', 'COMMUNICATION', '4.0', '122595', '30M', '1,000,000+', 'Free', '0', 'Everyone', 'Communication', 'July 19, 2018', '9.8.376', '5.0 and up']\n",
      "['GO Notifier', 'COMMUNICATION', '4.2', '124346', '695k', '10,000,000+', 'Free', '0', 'Everyone', 'Communication', 'July 6, 2014', '2.8', '2.0 and up']\n",
      "['Mail.Ru - Email App', 'COMMUNICATION', '4.6', '837842', 'Varies with device', '50,000,000+', 'Free', '0', 'Everyone', 'Communication', 'August 3, 2018', 'Varies with device', 'Varies with device']\n",
      "['Mail1Click - Secure Mail', 'COMMUNICATION', '4.1', '255', '1.6M', '10,000+', 'Free', '0', 'Everyone', 'Communication', 'April 11, 2017', '2.3', '2.2 and up']\n",
      "['Daum Mail - Next Mail', 'COMMUNICATION', '4.3', '41420', '19M', '5,000,000+', 'Free', '0', 'Everyone', 'Communication', 'June 21, 2018', '3.2.0', '4.0 and up']\n",
      "['mail.com mail', 'COMMUNICATION', '4.2', '44706', 'Varies with device', '1,000,000+', 'Free', '0', 'Everyone', 'Communication', 'July 25, 2018', 'Varies with device', 'Varies with device']\n",
      "['SolMail - All-in-One email app', 'COMMUNICATION', '4.3', '23707', 'Varies with device', '500,000+', 'Free', '0', 'Everyone', 'Communication', 'August 9, 2017', '2.3.17', 'Varies with device']\n",
      "['Hangouts', 'COMMUNICATION', '4.0', '3419513', 'Varies with device', '1,000,000,000+', 'Free', '0', 'Everyone', 'Communication', 'July 21, 2018', 'Varies with device', 'Varies with device']\n",
      "['Vonage Mobile® Call Video Text', 'COMMUNICATION', '4.1', '29208', '23M', '1,000,000+', 'Free', '0', 'Everyone', 'Communication', 'September 28, 2016', '2.9.8', '2.3.3 and up']\n",
      "['JusTalk - Free Video Calls and Fun Video Chat', 'COMMUNICATION', '4.6', '191032', '26M', '5,000,000+', 'Free', '0', 'Everyone', 'Communication', 'August 4, 2018', '7.2.29', '4.0.3 and up']\n",
      "['Azar', 'COMMUNICATION', '4.2', '1092337', 'Varies with device', '50,000,000+', 'Free', '0', 'Mature 17+', 'Communication', 'July 24, 2018', 'Varies with device', 'Varies with device']\n",
      "['LokLok: Draw on a Lock Screen', 'COMMUNICATION', '4.1', '14766', '16M', '500,000+', 'Free', '0', 'Teen', 'Communication', 'September 20, 2017', '0.81 beta', '4.0.3 and up']\n",
      "['Discord - Chat for Gamers', 'COMMUNICATION', '4.5', '305347', '39M', '10,000,000+', 'Free', '0', 'Teen', 'Communication', 'July 27, 2018', '7.1.8', '4.1 and up']\n",
      "['Messenger Lite: Free Calls & Messages', 'COMMUNICATION', '4.4', '1429038', 'Varies with device', '100,000,000+', 'Free', '0', 'Everyone', 'Communication', 'July 25, 2018', '37.0.0.7.163', '2.3 and up']\n",
      "['AntennaPict β', 'COMMUNICATION', '4.3', '15439', '2.2M', '1,000,000+', 'Free', '0', 'Everyone', 'Communication', 'November 7, 2016', '2.0.0', '2.3 and up']\n",
      "['Talkatone: Free Texts, Calls & Phone Number', 'COMMUNICATION', '4.1', '132015', '25M', '10,000,000+', 'Free', '0', 'Everyone', 'Communication', 'July 18, 2018', '6.1', '4.2 and up']\n",
      "['Kik', 'COMMUNICATION', '4.3', '2451136', 'Varies with device', '100,000,000+', 'Free', '0', 'Teen', 'Communication', 'August 3, 2018', 'Varies with device', 'Varies with device']\n",
      "['K-@ Mail - Email App', 'COMMUNICATION', '4.1', '1760', 'Varies with device', '100,000+', 'Free', '0', 'Everyone', 'Communication', 'July 23, 2016', 'Varies with device', 'Varies with device']\n",
      "['KakaoTalk: Free Calls & Text', 'COMMUNICATION', '4.3', '2546549', 'Varies with device', '100,000,000+', 'Free', '0', 'Everyone', 'Communication', 'August 3, 2018', 'Varies with device', 'Varies with device']\n",
      "['K-9 Material (unofficial)', 'COMMUNICATION', '4.4', '64', '4.5M', '5,000+', 'Free', '0', 'Teen', 'Communication', 'March 27, 2017', '5.206', '5.0 and up']\n",
      "['M star Dialer', 'COMMUNICATION', '3.5', '400', '4.2M', '100,000+', 'Free', '0', 'Everyone', 'Communication', 'March 20, 2017', '3.8.8', '2.2 and up']\n",
      "['Free WiFi Connect', 'COMMUNICATION', '3.9', '167229', '9.7M', '10,000,000+', 'Free', '0', 'Everyone', 'Communication', 'March 31, 2018', '8.1', '4.1 and up']\n",
      "['m:go BiH', 'COMMUNICATION', '3.2', '559', '6.0M', '10,000+', 'Free', '0', 'Everyone', 'Communication', 'July 25, 2018', '3.4', '3.0 and up']\n",
      "['N-Com Wizard', 'COMMUNICATION', '3.3', '960', '3.8M', '50,000+', 'Free', '0', 'Everyone', 'Communication', 'September 21, 2017', '2.1.2', '2.3.3 and up']\n",
      "['Opera Mini - fast web browser', 'COMMUNICATION', '4.5', '5150801', 'Varies with device', '100,000,000+', 'Free', '0', 'Everyone', 'Communication', 'July 19, 2018', 'Varies with device', 'Varies with device']\n",
      "['Opera Browser: Fast and Secure', 'COMMUNICATION', '4.4', '2473795', 'Varies with device', '100,000,000+', 'Free', '0', 'Everyone', 'Communication', 'July 31, 2018', '47.1.2249.129326', 'Varies with device']\n",
      "['Opera Mini browser beta', 'COMMUNICATION', '4.4', '401530', 'Varies with device', '10,000,000+', 'Free', '0', 'Everyone', 'Communication', 'August 3, 2018', 'Varies with device', 'Varies with device']\n",
      "['Psiphon Pro - The Internet Freedom VPN', 'COMMUNICATION', '4.3', '298041', 'Varies with device', '10,000,000+', 'Free', '0', 'Everyone', 'Communication', 'July 3, 2018', 'Varies with device', 'Varies with device']\n",
      "['ICQ — Video Calls & Chat Messenger', 'COMMUNICATION', '4.4', '697939', 'Varies with device', '10,000,000+', 'Free', '0', 'Everyone', 'Communication', 'July 18, 2018', '7.3(823181)', '4.4 and up']\n",
      "['Telegram', 'COMMUNICATION', '4.4', '3128611', 'Varies with device', '100,000,000+', 'Free', '0', 'Mature 17+', 'Communication', 'July 27, 2018', 'Varies with device', 'Varies with device']\n",
      "['AT&T Messages for Tablet', 'COMMUNICATION', '3.3', '3044', 'Varies with device', '1,000,000+', 'Free', '0', 'Everyone', 'Communication', 'April 3, 2017', 'Varies with device', 'Varies with device']\n",
      "['T-Mobile DIGITS', 'COMMUNICATION', '3.0', '1820', '33M', '100,000+', 'Free', '0', 'Everyone', 'Communication', 'February 15, 2018', '1.1.50', '4.4 and up']\n",
      "['Truecaller: Caller ID, SMS spam blocking & Dialer', 'COMMUNICATION', '4.5', '7820775', 'Varies with device', '100,000,000+', 'Free', '0', 'Everyone', 'Communication', 'August 1, 2018', 'Varies with device', 'Varies with device']\n",
      "['Portable Wi-Fi hotspot', 'COMMUNICATION', '3.9', '138129', '2.1M', '10,000,000+', 'Free', '0', 'Everyone', 'Communication', 'May 6, 2018', '1.5.2.4-23', '2.3 and up']\n",
      "['AT&T Call Protect', 'COMMUNICATION', '4.2', '6454', '15M', '5,000,000+', 'Free', '0', 'Everyone', 'Communication', 'May 3, 2018', '1.5.13-3598', '5.0 and up']\n",
      "['U - Webinars, Meetings & Messenger', 'COMMUNICATION', '4.1', '6601', '31M', '500,000+', 'Free', '0', 'Everyone', 'Communication', 'July 2, 2018', '4.7.0', '4.1 and up']\n",
      "['UC Browser Mini -Tiny Fast Private & Secure', 'COMMUNICATION', '4.4', '3648765', '3.3M', '100,000,000+', 'Free', '0', 'Teen', 'Communication', 'July 18, 2018', '11.4.0', '4.0 and up']\n",
      "['/u/app', 'COMMUNICATION', '4.7', '573', '53M', '10,000+', 'Free', '0', 'Mature 17+', 'Communication', 'July 3, 2018', '4.2.4', '4.1 and up']\n",
      "['[verify-U] VideoIdent', 'COMMUNICATION', '2.9', '83', '13M', '10,000+', 'Free', '0', 'Everyone', 'Communication', 'April 26, 2018', '2.4.0', '5.0 and up']\n",
      "['Viber Messenger', 'COMMUNICATION', '4.3', '11335481', 'Varies with device', '500,000,000+', 'Free', '0', 'Everyone', 'Communication', 'July 18, 2018', 'Varies with device', 'Varies with device']\n",
      "['WeChat', 'COMMUNICATION', '4.2', '5387631', 'Varies with device', '100,000,000+', 'Free', '0', 'Everyone', 'Communication', 'July 31, 2018', 'Varies with device', 'Varies with device']\n",
      "['WhatsApp Business', 'COMMUNICATION', '4.4', '137144', '32M', '10,000,000+', 'Free', '0', 'Everyone', 'Communication', 'July 30, 2018', '2.18.116', '4.0.3 and up']\n",
      "['WhatsCall Free Global Phone Call App & Cheap Calls', 'COMMUNICATION', '4.6', '1130966', '27M', '10,000,000+', 'Free', '0', 'Everyone', 'Communication', 'June 6, 2018', '1.9.1.013', '4.0 and up']\n",
      "['X Browser', 'COMMUNICATION', '4.0', '142', '2.5M', '50,000+', 'Free', '0', 'Everyone', 'Communication', 'December 31, 2017', '1.1.1', '4.0 and up']\n",
      "['Yahoo Mail – Stay Organized', 'COMMUNICATION', '4.3', '4188345', '16M', '100,000,000+', 'Free', '0', 'Everyone', 'Communication', 'July 18, 2018', '5.29.3', '4.4 and up']\n",
      "['Free Adblocker Browser - Adblock & Popup Blocker', 'COMMUNICATION', '4.4', '152470', 'Varies with device', '10,000,000+', 'Free', '0', 'Everyone', 'Communication', 'July 19, 2018', 'Varies with device', 'Varies with device']\n",
      "['Adblock Browser for Android', 'COMMUNICATION', '4.1', '121113', '39M', '10,000,000+', 'Free', '0', 'Everyone', 'Communication', 'July 11, 2018', '1.4.0', '4.1 and up']\n",
      "['CM Browser - Ad Blocker , Fast Download , Privacy', 'COMMUNICATION', '4.6', '2265084', '6.1M', '50,000,000+', 'Free', '0', 'Everyone', 'Communication', 'July 31, 2018', '5.22.18.0006', '4.0 and up']\n",
      "['Adblock Plus for Samsung Internet - Browse safe.', 'COMMUNICATION', '4.0', '8769', '2.1M', '1,000,000+', 'Free', '0', 'Everyone', 'Communication', 'April 5, 2018', '1.1.4', '5.0 and up']\n",
      "['Ad Blocker Turbo - Adblocker Browser', 'COMMUNICATION', '3.9', '107', '44M', '10,000+', 'Free', '0', 'Everyone', 'Communication', 'January 29, 2018', '1.0.5', '4.1 and up']\n",
      "['Brave Browser: Fast AdBlocker', 'COMMUNICATION', '4.3', '40241', 'Varies with device', '5,000,000+', 'Free', '0', 'Everyone', 'Communication', 'June 30, 2018', '1.0.52', '4.1 and up']\n",
      "['AG Contacts, Lite edition', 'COMMUNICATION', '4.5', '185', '3.7M', '5,000+', 'Free', '0', 'Everyone', 'Communication', 'May 18, 2018', '8.05.18.14250', '4.0.3 and up']\n",
      "['Oklahoma Ag Co-op Council', 'COMMUNICATION', 'NaN', '0', '4.9M', '10+', 'Free', '0', 'Everyone', 'Communication', 'July 23, 2018', '2.2.3', '4.0.3 and up']\n",
      "[\"Bee'ah Employee App\", 'COMMUNICATION', '4.0', '4', '5.4M', '100+', 'Free', '0', 'Teen', 'Communication', 'December 24, 2017', '2.26.5.0', '5.0 and up']\n",
      "['tournaments and more.aj.2', 'COMMUNICATION', 'NaN', '0', '4.2M', '100+', 'Free', '0', 'Teen', 'Communication', 'September 25, 2017', '4.3', '2.3 and up']\n",
      "['Aj.Petra', 'COMMUNICATION', 'NaN', '5', '14M', '100+', 'Free', '0', 'Everyone', 'Communication', 'September 29, 2017', '1.0.1', '4.1 and up']\n",
      "['AK Phone', 'COMMUNICATION', '4.4', '9', '4.2M', '5,000+', 'Free', '0', 'Everyone', 'Communication', 'May 29, 2017', '3.8.8', '2.2 and up']\n",
      "['PlacarTv Futebol Ao Vivo', 'COMMUNICATION', '4.1', '2063', '4.5M', '100,000+', 'Free', '0', 'Everyone', 'Communication', 'June 3, 2018', '1.0.3', '4.0 and up']\n",
      "['WiFi Access Point (hotspot)', 'COMMUNICATION', '3.9', '684', '61k', '100,000+', 'Free', '0', 'Everyone', 'Communication', 'May 14, 2015', '1.1.2', '2.3 and up']\n",
      "['Access Point Names', 'COMMUNICATION', '4.0', '138', '2.4M', '10,000+', 'Free', '0', 'Everyone', 'Communication', 'August 12, 2014', '1.0', '2.3.3 and up']\n",
      "['Puffin Web Browser', 'COMMUNICATION', '4.3', '541661', 'Varies with device', '10,000,000+', 'Free', '0', 'Everyone', 'Communication', 'July 9, 2018', '7.5.3.20547', '4.1 and up']\n",
      "['ClanHQ', 'COMMUNICATION', '2.7', '560', '37M', '10,000+', 'Free', '0', 'Everyone', 'Communication', 'July 25, 2018', '1.0.21', '4.4 and up']\n",
      "['Ear Agent: Super Hearing', 'COMMUNICATION', '3.7', '42329', 'Varies with device', '5,000,000+', 'Free', '0', 'Everyone', 'Communication', 'June 4, 2018', 'Varies with device', 'Varies with device']\n",
      "['Google Voice', 'COMMUNICATION', '4.2', '171052', 'Varies with device', '10,000,000+', 'Free', '0', 'Everyone', 'Communication', 'August 3, 2018', 'Varies with device', 'Varies with device']\n",
      "['Google Allo', 'COMMUNICATION', '4.3', '347086', 'Varies with device', '10,000,000+', 'Free', '0', 'Everyone', 'Communication', 'January 23, 2018', 'Varies with device', '4.1 and up']\n",
      "['AU Call Blocker - Block Unwanted Calls Texts 2018', 'COMMUNICATION', '4.2', '16', '3.3M', '1,000+', 'Free', '0', 'Everyone', 'Communication', 'April 24, 2018', '1.0.4', '4.1 and up']\n",
      "['Baby Monitor AV', 'COMMUNICATION', '3.3', '1434', '9.5M', '100,000+', 'Free', '0', 'Everyone', 'Communication', 'March 6, 2014', '1.2.5', '2.3 and up']\n",
      "['AV Phone', 'COMMUNICATION', 'NaN', '4', '3.7M', '1,000+', 'Free', '0', 'Everyone', 'Communication', 'July 9, 2018', '2.1.9', '5.1 and up']\n",
      "['AW - free video calls and chat', 'COMMUNICATION', '4.0', '7317', 'Varies with device', '1,000,000+', 'Free', '0', 'Teen', 'Communication', 'July 4, 2018', '1.0.08.73', '4.0.3 and up']\n",
      "['Katalogen.ax', 'COMMUNICATION', 'NaN', '1', '172k', '100+', 'Free', '0', 'Everyone', 'Communication', 'October 2, 2014', '1.0.0', '2.2 and up']\n",
      "['AZ Browser. Private & Download', 'COMMUNICATION', '4.4', '1520', '5.2M', '100,000+', 'Free', '0', 'Everyone', 'Communication', 'December 31, 2016', '1.4', '4.4 and up']\n",
      "['BA SALES', 'COMMUNICATION', 'NaN', '0', '2.9M', '1+', 'Free', '0', 'Everyone', 'Communication', 'January 31, 2018', '1.0', '4.0.3 and up']\n",
      "['BD Data Plan (3G & 4G)', 'COMMUNICATION', '4.4', '10341', '6.9M', '500,000+', 'Free', '0', 'Everyone', 'Communication', 'July 5, 2018', '5.2.4', '4.1 and up']\n",
      "['BD Internet Packages (Updated)', 'COMMUNICATION', '4.0', '474', '3.0M', '50,000+', 'Free', '0', 'Everyone', 'Communication', 'August 5, 2016', '0.0.5', '4.0 and up']\n",
      "['BD Dialer', 'COMMUNICATION', '4.1', '29', '13M', '10,000+', 'Free', '0', 'Everyone', 'Communication', 'July 9, 2018', '1.8.3', '4.1 and up']\n",
      "['BD Live Call', 'COMMUNICATION', '4.4', '7', '308k', '5,000+', 'Free', '0', 'Everyone', 'Communication', 'September 6, 2016', '1.01', '2.0 and up']\n",
      "['Best Browser BD social networking', 'COMMUNICATION', '4.8', '6', '21M', '10+', 'Free', '0', 'Everyone', 'Communication', 'July 4, 2018', '2.0', '4.1 and up']\n",
      "['Traffic signs BD', 'COMMUNICATION', '4.4', '7', '5.3M', '500+', 'Free', '0', 'Everyone', 'Communication', 'October 8, 2015', '1.0', '4.1 and up']\n",
      "['BF Browser by Betfilter - Stop Gambling Today!', 'COMMUNICATION', '3.0', '39', '4.6M', '10,000+', 'Free', '0', 'Everyone', 'Communication', 'September 4, 2017', '1.4', '4.0.3 and up']\n",
      "['My BF App', 'COMMUNICATION', '4.1', '141', '9.9M', '50,000+', 'Free', '0', 'Everyone', 'Communication', 'December 19, 2017', '2.0', '4.0 and up']\n",
      "['BH Mail', 'COMMUNICATION', '3.4', '7', '6.0M', '1,000+', 'Free', '0', 'Everyone', 'Communication', 'April 3, 2018', '5.403', '4.0.3 and up']\n",
      "['Zalo – Video Call', 'COMMUNICATION', '4.2', '1042170', 'Varies with device', '50,000,000+', 'Free', '0', 'Everyone', 'Communication', 'July 27, 2018', 'Varies with device', 'Varies with device']\n",
      "['BJ - Confidential', 'COMMUNICATION', 'NaN', '0', '3.2M', '10+', 'Free', '0', 'Teen', 'Communication', 'April 23, 2018', '1.7', '4.1 and up']\n",
      "['BK Chat', 'COMMUNICATION', 'NaN', '6', '31M', '1,000+', 'Free', '0', 'Teen', 'Communication', 'July 30, 2018', '2.1', '4.1 and up']\n",
      "['Of the wall Arapaho bk', 'COMMUNICATION', 'NaN', '0', '12M', '5+', 'Free', '0', 'Everyone', 'Communication', 'August 18, 2017', '1.0', '4.1 and up']\n",
      "['AC-BL', 'COMMUNICATION', 'NaN', '0', '4.3M', '50+', 'Free', '0', 'Everyone', 'Communication', 'April 20, 2018', '1.7', '2.1 and up']\n",
      "['BBM - Free Calls & Messages', 'COMMUNICATION', '4.3', '12843436', 'Varies with device', '100,000,000+', 'Free', '0', 'Everyone', 'Communication', 'August 2, 2018', 'Varies with device', '4.0.3 and up']\n",
      "['DMR BrandMeister Tool', 'COMMUNICATION', '3.3', '78', '2.5M', '10,000+', 'Free', '0', 'Everyone', 'Communication', 'March 31, 2018', '4.5', '6.0 and up']\n",
      "['BBMoji - Your personalized BBM Stickers', 'COMMUNICATION', '4.3', '8827', 'Varies with device', '1,000,000+', 'Free', '0', 'Everyone', 'Communication', 'May 22, 2018', '1.0.2', '4.0.3 and up']\n",
      "['BN MALLORCA Radio', 'COMMUNICATION', 'NaN', '23', '13M', '1,000+', 'Free', '0', 'Everyone', 'Communication', 'November 29, 2017', '2.0.14.4', '2.3 and up']\n",
      "['BQ Partners', 'COMMUNICATION', 'NaN', '0', 'Varies with device', '1,000+', 'Free', '0', 'Everyone', 'Communication', 'July 27, 2018', 'Varies with device', 'Varies with device']\n",
      "['BS-Mobile', 'COMMUNICATION', '5.0', '1', '683k', '50+', 'Free', '0', 'Everyone', 'Communication', 'September 3, 2015', '0.1', '2.3 and up']\n",
      "['ATC Unico BS', 'COMMUNICATION', 'NaN', '10', '5.3M', '500+', 'Free', '0', 'Everyone', 'Communication', 'October 16, 2015', '0.12', '4.1 and up']\n",
      "['BT One Voice mobile access', 'COMMUNICATION', '4.0', '32', '437k', '5,000+', 'Free', '0', 'Everyone', 'Communication', 'July 30, 2015', 'Version 1.6', '1.6 and up']\n",
      "['BT Messenger', 'COMMUNICATION', '3.9', '97', '598k', '50,000+', 'Free', '0', 'Everyone', 'Communication', 'May 15, 2015', '1.0', '2.2 and up']\n",
      "['BT One Phone Mobile App', 'COMMUNICATION', '3.5', '33', '2.7M', '10,000+', 'Free', '0', 'Everyone', 'Communication', 'September 18, 2017', '2.2.6', '4.1 and up']\n",
      "['SW-100.tch by Callstel', 'COMMUNICATION', '4.0', '1926', '716k', '1,000,000+', 'Free', '0', 'Everyone', 'Communication', 'December 16, 2015', '1.3.20', '2.2 and up']\n",
      "['BT MeetMe with Dolby Voice', 'COMMUNICATION', '3.6', '437', '12M', '100,000+', 'Free', '0', 'Everyone', 'Communication', 'July 13, 2018', '2.66.5', '5.0 and up']\n",
      "['Bluetooth Auto Connect', 'COMMUNICATION', '3.9', '20829', '1.9M', '5,000,000+', 'Free', '0', 'Everyone', 'Communication', 'November 17, 2017', '4.5.4', '3.0 and up']\n",
      "['AudioBT: BT audio GPS/SMS/Text', 'COMMUNICATION', '3.4', '198', '219k', '50,000+', 'Free', '0', 'Everyone', 'Communication', 'February 21, 2017', '3.2.1', '4.0 and up']\n",
      "['BV', 'COMMUNICATION', '5.0', '3', '1.6M', '100+', 'Free', '0', 'Everyone', 'Communication', 'August 4, 2016', '1,01', '3.0 and up']\n",
      "['Feel Performer', 'COMMUNICATION', '2.2', '62', '34M', '10,000+', 'Free', '0', 'Everyone', 'Communication', 'April 9, 2018', '2.0.3', '4.1 and up']\n",
      "['Tiny Call Confirm', 'COMMUNICATION', '4.1', '22782', '351k', '1,000,000+', 'Free', '0', 'Everyone', 'Communication', 'March 25, 2015', '4.2.0', '2.2 and up']\n",
      "['CB Radio Chat - for friends!', 'COMMUNICATION', '4.0', '17998', '7.9M', '1,000,000+', 'Free', '0', 'Teen', 'Communication', 'March 27, 2018', '2.6.3', '4.0 and up']\n",
      "['CB On Mobile', 'COMMUNICATION', '4.1', '901', '323k', '100,000+', 'Free', '0', 'Teen', 'Communication', 'April 26, 2017', '1.0.5', '4.0 and up']\n",
      "['Virtual Walkie Talkie', 'COMMUNICATION', '3.8', '21785', '2.5M', '1,000,000+', 'Free', '0', 'Everyone', 'Communication', 'August 13, 2015', '1.41', '2.3 and up']\n",
      "['Channel 19', 'COMMUNICATION', '3.7', '916', '12M', '100,000+', 'Free', '0', 'Mature 17+', 'Communication', 'July 13, 2018', '2.2.6', '4.1 and up']\n",
      "['Cb browser', 'COMMUNICATION', '5.0', '5', '3.7M', '50+', 'Free', '0', 'Everyone', 'Communication', 'April 2, 2018', '1.0', '4.0 and up']\n",
      "['CF Chat: Connecting Friends', 'COMMUNICATION', '3.4', '5', '2.4M', '100+', 'Free', '0', 'Teen', 'Communication', 'April 27, 2016', '1.4', '2.3 and up']\n",
      "['retteMi.ch', 'COMMUNICATION', 'NaN', '31', 'Varies with device', '5,000+', 'Free', '0', 'Everyone', 'Communication', 'April 28, 2018', 'Varies with device', 'Varies with device']\n",
      "['Chrome Dev', 'COMMUNICATION', '4.4', '63576', 'Varies with device', '5,000,000+', 'Free', '0', 'Everyone', 'Communication', 'August 2, 2018', '69.0.3497.24', 'Varies with device']\n",
      "['CJ Browser - Fast & Private', 'COMMUNICATION', '4.2', '5', '15M', '100+', 'Free', '0', 'Everyone', 'Communication', 'November 7, 2017', '1.0', '4.0 and up']\n",
      "['CJ DVD Rentals', 'COMMUNICATION', '1.0', '5', '13M', '100+', 'Free', '0', 'Everyone', 'Communication', 'October 6, 2017', '1.0', '4.1 and up']\n",
      "['CK Call NEW', 'COMMUNICATION', 'NaN', '0', '4.2M', '10+', 'Free', '0', 'Everyone', 'Communication', 'April 26, 2017', '3.8.8', '2.2 and up']\n",
      "['CM Transfer - Share any files with friends nearby', 'COMMUNICATION', '4.6', '71740', '5.8M', '5,000,000+', 'Free', '0', 'Everyone', 'Communication', 'June 27, 2018', '2.0.7.0014', '4.0 and up']\n",
      "['mail.co.uk Mail', 'COMMUNICATION', '4.2', '21', '8.7M', '5,000+', 'Free', '0', 'Everyone', 'Communication', 'July 24, 2018', '1.1.0', '4.0.3 and up']\n",
      "['ClanPlay: Community and Tools for Gamers', 'COMMUNICATION', '4.8', '34443', '27M', '1,000,000+', 'Free', '0', 'Teen', 'Communication', 'June 28, 2018', '1.14.3', '5.0 and up']\n",
      "['CQ-Mobile', 'COMMUNICATION', 'NaN', '10', '8.1M', '1,000+', 'Free', '0', 'Everyone', 'Communication', 'November 28, 2016', '5.5.0', '4.0 and up']\n",
      "['CQ-Alert', 'COMMUNICATION', 'NaN', '3', '8.1M', '500+', 'Free', '0', 'Everyone', 'Communication', 'November 28, 2016', '5.5.0', '4.0 and up']\n",
      "['QRZ Assistant', 'COMMUNICATION', '4.2', '1044', '3.5M', '100,000+', 'Free', '0', 'Everyone', 'Communication', 'May 30, 2018', '2.0', '4.4 and up']\n",
      "['Pocket Prefix Plus', 'COMMUNICATION', '4.5', '192', '15M', '10,000+', 'Free', '0', 'Everyone', 'Communication', 'February 12, 2018', 'v2.6.0', '3.0 and up']\n",
      "['Ham Radio Prefixes', 'COMMUNICATION', '3.7', '218', '3.7M', '10,000+', 'Free', '0', 'Everyone', 'Communication', 'July 12, 2014', '1.12', '2.3 and up']\n",
      "['CS Customizer', 'COMMUNICATION', '3.7', '25', '3.7M', '1,000+', 'Free', '0', 'Everyone', 'Communication', 'February 6, 2017', '1.2.11', '3.0 and up']\n",
      "['CS Browser | #1 & BEST BROWSER', 'COMMUNICATION', '3.8', '52', '2.1M', '1,000+', 'Free', '0', 'Everyone', 'Communication', 'August 28, 2015', '2.0', '3.0 and up']\n",
      "['CS Browser Beta', 'COMMUNICATION', '4.3', '125', '53M', '5,000+', 'Free', '0', 'Everyone', 'Communication', 'October 16, 2017', '60.0.3112.3046279', '4.1 and up']\n",
      "['My Vodafone (GR)', 'COMMUNICATION', '3.8', '12667', '34M', '1,000,000+', 'Free', '0', 'Everyone', 'Communication', 'August 1, 2018', '4.5.5.1-2090AL-REL', '4.3 and up']\n",
      "['IZ2UUF Morse Koch CW', 'COMMUNICATION', '4.6', '649', '837k', '50,000+', 'Free', '0', 'Everyone', 'Communication', 'August 8, 2013', '1.0.013', '2.1 and up']\n",
      "['C W Browser', 'COMMUNICATION', '4.4', '14', '17M', '100+', 'Free', '0', 'Everyone', 'Communication', 'October 28, 2017', '1.0', '4.0 and up']\n",
      "['CW Bluetooth SPP', 'COMMUNICATION', 'NaN', '3', '961k', '100+', 'Free', '0', 'Everyone', 'Communication', 'March 31, 2018', '1.2', '6.0 and up']\n",
      "['CW BLE Peripheral Simulator', 'COMMUNICATION', 'NaN', '2', '1.5M', '500+', 'Free', '0', 'Everyone', 'Communication', 'March 8, 2017', '1.0', '4.4 and up']\n",
      "['Morse Code Reader', 'COMMUNICATION', '3.9', '1436', '20k', '100,000+', 'Free', '0', 'Everyone', 'Communication', 'August 26, 2013', '1.0', '1.6 and up']\n",
      "['Learn Morse Code - G0HYN Learn Morse', 'COMMUNICATION', '4.0', '27', '600k', '5,000+', 'Free', '0', 'Everyone', 'Communication', 'May 8, 2018', '5.0', '2.2 and up']\n",
      "['Ring', 'COMMUNICATION', '3.9', '517', '35M', '10,000+', 'Free', '0', 'Everyone', 'Communication', 'August 6, 2018', '20180805', '4.4 and up']\n",
      "['Hyundai CX Conference', 'COMMUNICATION', 'NaN', '0', '20M', '50+', 'Free', '0', 'Everyone', 'Communication', 'May 27, 2018', '2.10.2', '4.2 and up']\n",
      "['Cy Messenger', 'COMMUNICATION', '4.5', '4', '8.1M', '100+', 'Free', '0', 'Everyone', 'Communication', 'August 30, 2014', '1.3.0', '2.3.3 and up']\n",
      "['Amadeus GR & CY', 'COMMUNICATION', 'NaN', '4', '3.8M', '100+', 'Free', '0', 'Everyone', 'Communication', 'February 1, 2018', '2.07', '4.1 and up']\n",
      "['Hlášenírozhlasu.cz', 'COMMUNICATION', 'NaN', '0', '17M', '10+', 'Free', '0', 'Everyone', 'Communication', 'July 27, 2018', '2.1.3', '4.1 and up']\n",
      "['SMS Sender - sluzba.cz', 'COMMUNICATION', 'NaN', '12', '72k', '1,000+', 'Free', '0', 'Everyone', 'Communication', 'June 1, 2012', '2.00.00', '2.0 and up']\n",
      "['WEB.DE Mail', 'COMMUNICATION', '4.3', '226541', 'Varies with device', '10,000,000+', 'Free', '0', 'Everyone', 'Communication', 'July 25, 2018', 'Varies with device', 'Varies with device']\n",
      "['Your Freedom VPN Client', 'COMMUNICATION', '4.0', '74497', '5.3M', '5,000,000+', 'Free', '0', 'Everyone', 'Communication', 'May 19, 2018', '20180518-01', '4.0 and up']\n",
      "['CallApp: Caller ID, Blocker & Phone Call Recorder', 'COMMUNICATION', '4.4', '483782', '20M', '10,000,000+', 'Free', '0', 'Everyone', 'Communication', 'July 29, 2018', '1.286', '4.1 and up']\n",
      "['Rádio Sol Nascente DF', 'COMMUNICATION', 'NaN', '12', '1.6M', '500+', 'Free', '0', 'Everyone', 'Communication', 'July 28, 2016', '3.1', '2.3 and up']\n",
      "['DG Card', 'COMMUNICATION', 'NaN', '0', 'Varies with device', '100+', 'Free', '0', 'Everyone', 'Communication', 'August 15, 2017', 'Varies with device', 'Varies with device']\n",
      "['Whoscall - Caller ID & Block', 'COMMUNICATION', '4.4', '552635', '29M', '10,000,000+', 'Free', '0', 'Everyone', 'Communication', 'August 1, 2018', '6.19.1', '4.1 and up']\n",
      "['DK Browser', 'COMMUNICATION', '4.0', '1', '2.4M', '10+', 'Free', '0', 'Everyone', 'Communication', 'April 25, 2017', '1.0', '4.2 and up']\n",
      "['cluster.dk', 'COMMUNICATION', 'NaN', '49', '1.1M', '1,000+', 'Free', '0', 'Everyone', 'Communication', 'June 25, 2013', '1.0.2', '2.3 and up']\n",
      "['DK TEL Dialer', 'COMMUNICATION', 'NaN', '0', '4.2M', '50+', 'Free', '0', 'Everyone', 'Communication', 'November 26, 2017', '3.8.8', '2.2 and up']\n",
      "['DM for WhatsApp', 'COMMUNICATION', '4.4', '25', '2.9M', '5,000+', 'Free', '0', 'Everyone', 'Communication', 'June 3, 2018', '0.3.7', '4.4 and up']\n",
      "['DM Talk New', 'COMMUNICATION', 'NaN', '3', '4.2M', '5,000+', 'Free', '0', 'Everyone', 'Communication', 'February 7, 2018', '3.8.8', '2.2 and up']\n",
      "['DM - The Offical Messaging App', 'COMMUNICATION', 'NaN', '0', '11M', '10+', 'Free', '0', 'Teen', 'Communication', 'December 20, 2017', '1.3', '4.0.3 and up']\n",
      "['DM Tracker', 'COMMUNICATION', '3.5', '11', '5.2M', '1,000+', 'Free', '0', 'Everyone', 'Communication', 'July 26, 2018', '2.0.1', '4.3 and up']\n",
      "['Call Blocker & Blacklist', 'COMMUNICATION', '4.0', '6', '4.2M', '1,000+', 'Free', '0', 'Everyone', 'Communication', 'July 13, 2018', '3.1.0', '4.0 and up']\n",
      "['ReadyOp DT', 'COMMUNICATION', '4.6', '8', '1.1M', '1,000+', 'Free', '0', 'Everyone', 'Communication', 'July 6, 2018', '1.0.56', '2.3.3 and up']\n",
      "['DU Browser—Browse fast & fun', 'COMMUNICATION', '4.3', '1133539', '4.7M', '10,000,000+', 'Free', '0', 'Everyone', 'Communication', 'April 1, 2016', '6.4.0.4', '4.0 and up']\n",
      "['Caller ID & Call Block - DU Caller', 'COMMUNICATION', '4.6', '93930', '14M', '5,000,000+', 'Free', '0', 'Everyone', 'Communication', 'August 1, 2018', '4.0.8', '4.2 and up']\n",
      "['BlueDV AMBE', 'COMMUNICATION', 'NaN', '0', 'Varies with device', '1,000+', 'Free', '0', 'Everyone', 'Communication', 'May 23, 2018', 'Varies with device', 'Varies with device']\n",
      "['DW Contacts & Phone & Dialer', 'COMMUNICATION', '4.3', '21186', '10M', '1,000,000+', 'Free', '0', 'Everyone', 'Communication', 'August 4, 2018', 'Varies with device', 'Varies with device']\n",
      "['Deaf World DW', 'COMMUNICATION', '4.3', '298', 'Varies with device', '10,000+', 'Free', '0', 'Teen', 'Communication', 'November 28, 2017', 'Varies with device', '4.1 and up']\n",
      "['Ham DX Cluster & Spots Finder', 'COMMUNICATION', '4.5', '115', '2.8M', '5,000+', 'Free', '0', 'Everyone', 'Communication', 'July 15, 2016', '1.4.4', '4.1 and up']\n",
      "['Mircules DX Cluster Lite', 'COMMUNICATION', '4.5', '51', '21M', '5,000+', 'Free', '0', 'Everyone', 'Communication', 'May 10, 2016', '3.0', '4.1 and up']\n",
      "['3G DZ Configuration', 'COMMUNICATION', '4.3', '488', '2.5M', '50,000+', 'Free', '0', 'Everyone', 'Communication', 'November 19, 2015', '6.2.3', '3.0 and up']\n",
      "['chat dz', 'COMMUNICATION', '5.0', '8', '29M', '100+', 'Free', '0', 'Teen', 'Communication', 'March 14, 2018', '1.0', '4.1 and up']\n",
      "['love sms good morning', 'COMMUNICATION', '4.2', '10', '3.1M', '5,000+', 'Free', '0', 'Everyone', 'Communication', 'April 28, 2016', '1.0', '2.3 and up']\n",
      "['Goodbox - Mega App', 'COMMUNICATION', '4.3', '3429', 'Varies with device', '100,000+', 'Free', '0', 'Everyone', 'Communication', 'March 8, 2018', '1.10.279.2', '4.2 and up']\n",
      "['Call Blocker - Blacklist, SMS Blocker', 'COMMUNICATION', '4.2', '30350', '3.7M', '1,000,000+', 'Free', '0', 'Everyone', 'Communication', 'January 16, 2018', '10.0.0', '4.1 and up']\n",
      "['[EF]ShoutBox', 'COMMUNICATION', 'NaN', '3', '2.5M', '100+', 'Free', '0', 'Teen', 'Communication', 'August 7, 2018', 'Build 54', '4.0.3 and up']\n",
      "['Eg Call', 'COMMUNICATION', '4.2', '91', '6.0M', '10,000+', 'Free', '0', 'Everyone', 'Communication', 'February 26, 2017', '3.8.6', '2.2 and up']\n",
      "['ei', 'COMMUNICATION', 'NaN', '2', '4.5M', '10+', 'Free', '0', 'Teen', 'Communication', 'July 16, 2018', '0.0.10', '4.4 and up']\n",
      "['EJ messenger', 'COMMUNICATION', '5.0', '1', '25M', '10+', 'Free', '0', 'Teen', 'Communication', 'October 18, 2017', '1.0', '4.0 and up']\n",
      "['Ek IRA', 'COMMUNICATION', 'NaN', '0', '5.7M', '10+', 'Free', '0', 'Everyone', 'Communication', 'July 27, 2018', '0.3.1', '4.1 and up']\n",
      "['Orfox: Tor Browser for Android', 'COMMUNICATION', '4.2', '44233', '31M', '10,000,000+', 'Free', '0', 'Everyone', 'Communication', 'July 2, 2018', 'Fennec-52.9.0esr/TorBrowser-7.5-1/Orfox-1.5.4-RC-1', '4.0.3 and up']\n",
      "['EO Mumbai', 'COMMUNICATION', 'NaN', '0', '11M', '10+', 'Free', '0', 'Everyone', 'Communication', 'February 21, 2018', '1.02', '4.1 and up']\n",
      "['EP RSS Reader', 'COMMUNICATION', '3.8', '4', '892k', '100+', 'Free', '0', 'Everyone', 'Communication', 'July 16, 2018', '0.99', '4.0.3 and up']\n",
      "['Voxer Walkie Talkie Messenger', 'COMMUNICATION', '4.3', '230564', 'Varies with device', '10,000,000+', 'Free', '0', 'Everyone', 'Communication', 'July 31, 2018', 'Varies with device', 'Varies with device']\n",
      "['ES-1', 'COMMUNICATION', 'NaN', '6', '2.7M', '500+', 'Free', '0', 'Everyone', 'Communication', 'July 5, 2016', '1.0', '1.6 and up']\n",
      "['Hangouts Dialer - Call Phones', 'COMMUNICATION', '4.0', '122512', '79k', '10,000,000+', 'Free', '0', 'Everyone', 'Communication', 'September 2, 2015', '0.1.100944346', '4.0.3 and up']\n",
      "['EU Council', 'COMMUNICATION', 'NaN', '7', '19M', '1,000+', 'Free', '0', 'Everyone', 'Communication', 'July 4, 2018', '1.3.0', '4.4 and up']\n",
      "['Council Voting Calculator', 'COMMUNICATION', '3.9', '33', '3.4M', '5,000+', 'Free', '0', 'Everyone', 'Communication', 'January 6, 2017', '2.3.0', '4.1 and up']\n",
      "['Have your say on Europe', 'COMMUNICATION', '3.8', '19', '21M', '500+', 'Free', '0', 'Everyone', 'Communication', 'April 19, 2018', '1.1.0', '4.1 and up']\n",
      "['Programi podrške EU', 'COMMUNICATION', 'NaN', '0', '5.4M', '100+', 'Free', '0', 'Everyone', 'Communication', 'January 15, 2018', '1.0.3', '4.1 and up']\n",
      "['Inbox.eu', 'COMMUNICATION', '3.7', '98', '9.7M', '10,000+', 'Free', '0', 'Everyone', 'Communication', 'July 11, 2018', '6.4.7', '4.3 and up']\n",
      "['Web Browser for Android', 'COMMUNICATION', '4.1', '55110', '4.3M', '1,000,000+', 'Free', '0', 'Everyone', 'Communication', 'June 20, 2018', '2.2', '4.0 and up']\n",
      "['Everbridge', 'COMMUNICATION', '3.1', '497', '36M', '100,000+', 'Free', '0', 'Everyone', 'Communication', 'July 17, 2018', '8.6.2', '4.4 and up']\n",
      "['Best Auto Call Recorder Free', 'COMMUNICATION', '3.7', '7', '4.3M', '500+', 'Free', '0', 'Everyone', 'Communication', 'October 2, 2017', '2.1', '4.1 and up']\n",
      "['EZ Wifi Notification', 'COMMUNICATION', '4.3', '260', '193k', '10,000+', 'Free', '0', 'Everyone', 'Communication', 'August 11, 2014', '1.8', '2.2 and up']\n",
      "['Test Server SMS FA', 'COMMUNICATION', 'NaN', '0', '1.8M', '5+', 'Free', '0', 'Everyone', 'Communication', 'July 27, 2018', '1.0', '4.0.3 and up']\n",
      "['Lite for Facebook Messenger', 'COMMUNICATION', '4.3', '76498', '4.3M', '1,000,000+', 'Free', '0', 'Teen', 'Communication', 'June 20, 2018', '6.3.2', 'Varies with device']\n",
      "['FC Browser - Focus Privacy Browser', 'COMMUNICATION', '4.1', '26', '4.6M', '1,000+', 'Free', '0', 'Everyone', 'Communication', 'November 24, 2017', '1.0', '5.0 and up']\n",
      "['EHiN-FH conferenceapp', 'COMMUNICATION', 'NaN', '5', '26M', '100+', 'Free', '0', 'Everyone', 'Communication', 'November 15, 2016', '1.17', '4.1 and up']\n",
      "['Carpooling FH Hagenberg', 'COMMUNICATION', 'NaN', '0', 'Varies with device', '100+', 'Free', '0', 'Everyone', 'Communication', 'May 18, 2017', 'Varies with device', 'Varies with device']\n",
      "['Wi-Fi Auto-connect', 'COMMUNICATION', '3.8', '15036', '253k', '1,000,000+', 'Free', '0', 'Everyone', 'Communication', 'August 1, 2015', '1.2.0', '1.6 and up']\n",
      "['Talkie - Wi-Fi Calling, Chats, File Sharing', 'COMMUNICATION', '4.2', '4838', 'Varies with device', '500,000+', 'Free', '0', 'Everyone', 'Communication', 'January 6, 2018', 'Varies with device', 'Varies with device']\n",
      "['WeFi - Free Fast WiFi Connect & Find Wi-Fi Map', 'COMMUNICATION', '4.0', '13469', '5.1M', '1,000,000+', 'Free', '0', 'Everyone', 'Communication', 'June 5, 2018', '4.7.0.2200000', '4.0 and up']\n",
      "['Sat-Fi', 'COMMUNICATION', '3.6', '97', 'Varies with device', '5,000+', 'Free', '0', 'Everyone', 'Communication', 'August 31, 2017', 'Varies with device', 'Varies with device']\n",
      "['Portable Wi-Fi hotspot Free', 'COMMUNICATION', '4.0', '1711', '2.1M', '100,000+', 'Free', '0', 'Everyone', 'Communication', 'January 11, 2018', '1.2.5.4-11', '2.3 and up']\n",
      "['TownWiFi | Wi-Fi Everywhere', 'COMMUNICATION', '3.9', '2372', '58M', '500,000+', 'Free', '0', 'Everyone', 'Communication', 'August 2, 2018', '4.2.1', '4.2 and up']\n",
      "['Jazz Wi-Fi', 'COMMUNICATION', '3.4', '49', '4.0M', '10,000+', 'Free', '0', 'Everyone', 'Communication', 'February 10, 2017', '0.1', '2.3 and up']\n",
      "['Sat-Fi Voice', 'COMMUNICATION', '3.4', '37', '14M', '1,000+', 'Free', '0', 'Everyone', 'Communication', 'November 21, 2014', '2.2.1.5', '2.2 and up']\n",
      "['Free Wi-fi HotspoT', 'COMMUNICATION', '4.1', '382', '2.3M', '50,000+', 'Free', '0', 'Everyone', 'Communication', 'July 20, 2018', '2.5', '4.0 and up']\n",
      "['FN Web Radio', 'COMMUNICATION', 'NaN', '0', '1.6M', '10+', 'Free', '0', 'Everyone', 'Communication', 'May 18, 2018', '1.1', '2.3 and up']\n",
      "['FNH Payment Info', 'COMMUNICATION', 'NaN', '0', '2.1M', '10+', 'Free', '0', 'Everyone', 'Communication', 'March 17, 2018', '1.3', '4.0.3 and up']\n",
      "['MARKET FO', 'COMMUNICATION', 'NaN', '0', '15M', '100+', 'Free', '0', 'Everyone', 'Communication', 'November 30, 2017', '1.0', '4.1 and up']\n",
      "['FO OP St-Nazaire', 'COMMUNICATION', 'NaN', '1', '17M', '100+', 'Free', '0', 'Everyone', 'Communication', 'December 19, 2017', '1.0', '4.1 and up']\n",
      "['FO SODEXO', 'COMMUNICATION', 'NaN', '0', '16M', '100+', 'Free', '0', 'Everyone', 'Communication', 'March 13, 2018', '1.0', '4.1 and up']\n",
      "['FO RCBT', 'COMMUNICATION', 'NaN', '5', '15M', '100+', 'Free', '0', 'Everyone', 'Communication', 'November 15, 2017', '1.0', '4.1 and up']\n",
      "['FO Interim', 'COMMUNICATION', 'NaN', '1', '11M', '100+', 'Free', '0', 'Everyone', 'Communication', 'March 14, 2017', '1.0', '4.1 and up']\n",
      "['FO PSA Sept-Fons', 'COMMUNICATION', 'NaN', '2', '15M', '100+', 'Free', '0', 'Everyone', 'Communication', 'March 22, 2018', '1.0', '4.1 and up']\n",
      "['FO AIRBUS TLSE', 'COMMUNICATION', 'NaN', '4', '16M', '1,000+', 'Free', '0', 'Everyone', 'Communication', 'January 25, 2018', '1.1', '4.1 and up']\n",
      "['FO STELIA Méaulte', 'COMMUNICATION', 'NaN', '2', '18M', '100+', 'Free', '0', 'Everyone', 'Communication', 'December 19, 2017', '1.1', '4.1 and up']\n",
      "['FO AIRBUS Nantes', 'COMMUNICATION', 'NaN', '0', '17M', '100+', 'Free', '0', 'Everyone', 'Communication', 'December 14, 2017', '1.0', '4.1 and up']\n",
      "['Firefox Focus: The privacy browser', 'COMMUNICATION', '4.4', '36981', '4.0M', '1,000,000+', 'Free', '0', 'Everyone', 'Communication', 'July 6, 2018', '5.2', '5.0 and up']\n",
      "['FP Connect', 'COMMUNICATION', 'NaN', '0', '22M', '100+', 'Free', '0', 'Teen', 'Communication', 'December 15, 2017', '3.15.1', '4.1 and up']\n",
      "['FreedomPop Messaging Phone/SIM', 'COMMUNICATION', '3.6', '9894', '39M', '500,000+', 'Free', '0', 'Everyone', 'Communication', 'July 26, 2018', '23.01.1265.0712', '4.1 and up']\n",
      "['FP Live', 'COMMUNICATION', 'NaN', '0', '3.3M', '10+', 'Free', '0', 'Teen', 'Communication', 'November 3, 2017', '1.2.4', '4.2 and up']\n",
      "['HipChat - beta version', 'COMMUNICATION', '4.1', '1035', '20M', '50,000+', 'Free', '0', 'Everyone', 'Communication', 'August 7, 2018', '3.20.001', '4.1 and up']\n"
     ]
    }
   ],
   "source": [
    "for each_data in android_free_apps:\n",
    "    if each_data[1] == 'COMMUNICATION':\n",
    "        print(each_data)"
   ]
  },
  {
   "cell_type": "markdown",
   "metadata": {},
   "source": [
    "Now look at the Installs column of the google playstore instead of User ratings."
   ]
  },
  {
   "cell_type": "code",
   "execution_count": 38,
   "metadata": {},
   "outputs": [],
   "source": [
    "android_ft_category = freq_table(android_free_apps, 1)"
   ]
  },
  {
   "cell_type": "code",
   "execution_count": 39,
   "metadata": {},
   "outputs": [
    {
     "data": {
      "text/plain": [
       "{'ART_AND_DESIGN': 0.6430505415162455,\n",
       " 'AUTO_AND_VEHICLES': 0.9250902527075813,\n",
       " 'BEAUTY': 0.5979241877256317,\n",
       " 'BOOKS_AND_REFERENCE': 2.1435018050541514,\n",
       " 'BUSINESS': 4.591606498194946,\n",
       " 'COMICS': 0.6204873646209387,\n",
       " 'COMMUNICATION': 3.237815884476534,\n",
       " 'DATING': 1.861462093862816,\n",
       " 'EDUCATION': 1.1620036101083033,\n",
       " 'ENTERTAINMENT': 0.9589350180505415,\n",
       " 'EVENTS': 0.7107400722021661,\n",
       " 'FINANCE': 3.700361010830325,\n",
       " 'FOOD_AND_DRINK': 1.2409747292418774,\n",
       " 'HEALTH_AND_FITNESS': 3.079873646209386,\n",
       " 'HOUSE_AND_HOME': 0.8235559566787004,\n",
       " 'LIBRARIES_AND_DEMO': 0.9363718411552346,\n",
       " 'LIFESTYLE': 3.9034296028880866,\n",
       " 'GAME': 9.724729241877256,\n",
       " 'FAMILY': 18.907942238267147,\n",
       " 'MEDICAL': 3.5311371841155235,\n",
       " 'SOCIAL': 2.6624548736462095,\n",
       " 'SHOPPING': 2.2450361010830324,\n",
       " 'PHOTOGRAPHY': 2.9444945848375452,\n",
       " 'SPORTS': 3.395758122743682,\n",
       " 'TRAVEL_AND_LOCAL': 2.33528880866426,\n",
       " 'TOOLS': 8.461191335740072,\n",
       " 'PERSONALIZATION': 3.3167870036101084,\n",
       " 'PRODUCTIVITY': 3.892148014440433,\n",
       " 'PARENTING': 0.6543321299638989,\n",
       " 'WEATHER': 0.8009927797833934,\n",
       " 'VIDEO_PLAYERS': 1.7937725631768953,\n",
       " 'NEWS_AND_MAGAZINES': 2.7978339350180503,\n",
       " 'MAPS_AND_NAVIGATION': 1.3989169675090252}"
      ]
     },
     "execution_count": 39,
     "metadata": {},
     "output_type": "execute_result"
    }
   ],
   "source": [
    "android_ft_category"
   ]
  },
  {
   "cell_type": "code",
   "execution_count": 40,
   "metadata": {},
   "outputs": [
    {
     "name": "stdout",
     "output_type": "stream",
     "text": [
      "app_genre: ART_AND_DESIGN and n_installs: 1986335.0877192982\n",
      "app_genre: AUTO_AND_VEHICLES and n_installs: 647317.8170731707\n",
      "app_genre: BEAUTY and n_installs: 513151.88679245283\n",
      "app_genre: BOOKS_AND_REFERENCE and n_installs: 8767811.894736841\n",
      "app_genre: BUSINESS and n_installs: 1712290.1474201474\n",
      "app_genre: COMICS and n_installs: 817657.2727272727\n",
      "app_genre: COMMUNICATION and n_installs: 38456119.167247385\n",
      "app_genre: DATING and n_installs: 854028.8303030303\n",
      "app_genre: EDUCATION and n_installs: 1833495.145631068\n",
      "app_genre: ENTERTAINMENT and n_installs: 11640705.88235294\n",
      "app_genre: EVENTS and n_installs: 253542.22222222222\n",
      "app_genre: FINANCE and n_installs: 1387692.475609756\n",
      "app_genre: FOOD_AND_DRINK and n_installs: 1924897.7363636363\n",
      "app_genre: HEALTH_AND_FITNESS and n_installs: 4188821.9853479853\n",
      "app_genre: HOUSE_AND_HOME and n_installs: 1331540.5616438356\n",
      "app_genre: LIBRARIES_AND_DEMO and n_installs: 638503.734939759\n",
      "app_genre: LIFESTYLE and n_installs: 1437816.2687861272\n",
      "app_genre: GAME and n_installs: 15588015.603248259\n",
      "app_genre: FAMILY and n_installs: 3695641.8198090694\n",
      "app_genre: MEDICAL and n_installs: 120550.61980830671\n",
      "app_genre: SOCIAL and n_installs: 23253652.127118643\n",
      "app_genre: SHOPPING and n_installs: 7036877.311557789\n",
      "app_genre: PHOTOGRAPHY and n_installs: 17840110.40229885\n",
      "app_genre: SPORTS and n_installs: 3638640.1428571427\n",
      "app_genre: TRAVEL_AND_LOCAL and n_installs: 13984077.710144928\n",
      "app_genre: TOOLS and n_installs: 10801391.298666667\n",
      "app_genre: PERSONALIZATION and n_installs: 5201482.6122448975\n",
      "app_genre: PRODUCTIVITY and n_installs: 16787331.344927534\n",
      "app_genre: PARENTING and n_installs: 542603.6206896552\n",
      "app_genre: WEATHER and n_installs: 5074486.197183099\n",
      "app_genre: VIDEO_PLAYERS and n_installs: 24727872.452830188\n",
      "app_genre: NEWS_AND_MAGAZINES and n_installs: 9549178.467741935\n",
      "app_genre: MAPS_AND_NAVIGATION and n_installs: 4056941.7741935486\n"
     ]
    }
   ],
   "source": [
    "android_avg_installs = {}\n",
    "for category in android_ft_category:\n",
    "    total = 0\n",
    "    len_category = 0\n",
    "    for each_data in android_free_apps:\n",
    "        category_app = each_data[1]\n",
    "        if category_app == category:\n",
    "            n_installs = each_data[5]\n",
    "            n_installs = n_installs.replace(',', '')\n",
    "            n_installs = n_installs.replace('+', '')\n",
    "            total += float(n_installs)\n",
    "            len_category += 1\n",
    "    avg_n_installs = total / len_category\n",
    "    android_avg_installs[category] = avg_n_installs\n",
    "    print('app_genre: ' + category + ' and n_installs: ' + str(avg_n_installs))"
   ]
  },
  {
   "cell_type": "code",
   "execution_count": 41,
   "metadata": {},
   "outputs": [
    {
     "data": {
      "text/plain": [
       "{'COMMUNICATION': 38456119.167247385,\n",
       " 'VIDEO_PLAYERS': 24727872.452830188,\n",
       " 'SOCIAL': 23253652.127118643,\n",
       " 'PHOTOGRAPHY': 17840110.40229885,\n",
       " 'PRODUCTIVITY': 16787331.344927534,\n",
       " 'GAME': 15588015.603248259,\n",
       " 'TRAVEL_AND_LOCAL': 13984077.710144928,\n",
       " 'ENTERTAINMENT': 11640705.88235294,\n",
       " 'TOOLS': 10801391.298666667,\n",
       " 'NEWS_AND_MAGAZINES': 9549178.467741935,\n",
       " 'BOOKS_AND_REFERENCE': 8767811.894736841,\n",
       " 'SHOPPING': 7036877.311557789,\n",
       " 'PERSONALIZATION': 5201482.6122448975,\n",
       " 'WEATHER': 5074486.197183099,\n",
       " 'HEALTH_AND_FITNESS': 4188821.9853479853,\n",
       " 'MAPS_AND_NAVIGATION': 4056941.7741935486,\n",
       " 'FAMILY': 3695641.8198090694,\n",
       " 'SPORTS': 3638640.1428571427,\n",
       " 'ART_AND_DESIGN': 1986335.0877192982,\n",
       " 'FOOD_AND_DRINK': 1924897.7363636363,\n",
       " 'EDUCATION': 1833495.145631068,\n",
       " 'BUSINESS': 1712290.1474201474,\n",
       " 'LIFESTYLE': 1437816.2687861272,\n",
       " 'FINANCE': 1387692.475609756,\n",
       " 'HOUSE_AND_HOME': 1331540.5616438356,\n",
       " 'DATING': 854028.8303030303,\n",
       " 'COMICS': 817657.2727272727,\n",
       " 'AUTO_AND_VEHICLES': 647317.8170731707,\n",
       " 'LIBRARIES_AND_DEMO': 638503.734939759,\n",
       " 'PARENTING': 542603.6206896552,\n",
       " 'BEAUTY': 513151.88679245283,\n",
       " 'EVENTS': 253542.22222222222,\n",
       " 'MEDICAL': 120550.61980830671}"
      ]
     },
     "execution_count": 41,
     "metadata": {},
     "output_type": "execute_result"
    }
   ],
   "source": [
    "sort_dict_by_value(android_avg_installs, True)"
   ]
  },
  {
   "cell_type": "markdown",
   "metadata": {},
   "source": [
    "Looks like for google play store dataset, few players dominate the 'Communication', 'Video Players', 'Social' genres which heavily skews the avg no of installs.\n",
    "\n",
    "To conclude, we can recommend an app that fits the profile of Books or Reference."
   ]
  },
  {
   "cell_type": "code",
   "execution_count": null,
   "metadata": {},
   "outputs": [],
   "source": []
  }
 ],
 "metadata": {
  "kernelspec": {
   "display_name": "Python 3",
   "language": "python",
   "name": "python3"
  },
  "language_info": {
   "codemirror_mode": {
    "name": "ipython",
    "version": 3
   },
   "file_extension": ".py",
   "mimetype": "text/x-python",
   "name": "python",
   "nbconvert_exporter": "python",
   "pygments_lexer": "ipython3",
   "version": "3.8.2"
  }
 },
 "nbformat": 4,
 "nbformat_minor": 2
}
