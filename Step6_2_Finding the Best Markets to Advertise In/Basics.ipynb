{
 "cells": [
  {
   "cell_type": "markdown",
   "metadata": {},
   "source": [
    "### Guided Project: Finding the Best Markets to Advertise In\n",
    "\n",
    "\n",
    "Let's assume that we're working for an an e-learning company that offers courses on programming. Most of our courses are on web and mobile development, but we also cover many other domains, like data science, game development, etc. We want to promote our product and we'd like to invest some money in advertisement. Our goal in this project is to find out the two best markets to advertise our product in."
   ]
  },
  {
   "cell_type": "code",
   "execution_count": 2,
   "metadata": {
    "collapsed": true
   },
   "outputs": [],
   "source": [
    "import pandas as pd\n",
    "import numpy as np\n",
    "import matplotlib.pyplot as plt\n",
    "%matplotlib inline\n"
   ]
  },
  {
   "cell_type": "code",
   "execution_count": 3,
   "metadata": {
    "collapsed": false
   },
   "outputs": [
    {
     "name": "stderr",
     "output_type": "stream",
     "text": [
      "/dataquest/system/env/python3/lib/python3.4/site-packages/IPython/core/interactiveshell.py:2723: DtypeWarning:\n",
      "\n",
      "Columns (17,62) have mixed types. Specify dtype option on import or set low_memory=False.\n",
      "\n"
     ]
    }
   ],
   "source": [
    "survey_df = pd.read_csv('2017-fCC-New-Coders-Survey-Data.csv')"
   ]
  },
  {
   "cell_type": "code",
   "execution_count": 4,
   "metadata": {
    "collapsed": false
   },
   "outputs": [
    {
     "data": {
      "text/html": [
       "<div>\n",
       "<style scoped>\n",
       "    .dataframe tbody tr th:only-of-type {\n",
       "        vertical-align: middle;\n",
       "    }\n",
       "\n",
       "    .dataframe tbody tr th {\n",
       "        vertical-align: top;\n",
       "    }\n",
       "\n",
       "    .dataframe thead th {\n",
       "        text-align: right;\n",
       "    }\n",
       "</style>\n",
       "<table border=\"1\" class=\"dataframe\">\n",
       "  <thead>\n",
       "    <tr style=\"text-align: right;\">\n",
       "      <th></th>\n",
       "      <th>Age</th>\n",
       "      <th>AttendedBootcamp</th>\n",
       "      <th>BootcampFinish</th>\n",
       "      <th>BootcampLoanYesNo</th>\n",
       "      <th>BootcampName</th>\n",
       "      <th>BootcampRecommend</th>\n",
       "      <th>ChildrenNumber</th>\n",
       "      <th>CityPopulation</th>\n",
       "      <th>CodeEventConferences</th>\n",
       "      <th>CodeEventDjangoGirls</th>\n",
       "      <th>...</th>\n",
       "      <th>YouTubeFCC</th>\n",
       "      <th>YouTubeFunFunFunction</th>\n",
       "      <th>YouTubeGoogleDev</th>\n",
       "      <th>YouTubeLearnCode</th>\n",
       "      <th>YouTubeLevelUpTuts</th>\n",
       "      <th>YouTubeMIT</th>\n",
       "      <th>YouTubeMozillaHacks</th>\n",
       "      <th>YouTubeOther</th>\n",
       "      <th>YouTubeSimplilearn</th>\n",
       "      <th>YouTubeTheNewBoston</th>\n",
       "    </tr>\n",
       "  </thead>\n",
       "  <tbody>\n",
       "    <tr>\n",
       "      <th>0</th>\n",
       "      <td>27.0</td>\n",
       "      <td>0.0</td>\n",
       "      <td>NaN</td>\n",
       "      <td>NaN</td>\n",
       "      <td>NaN</td>\n",
       "      <td>NaN</td>\n",
       "      <td>NaN</td>\n",
       "      <td>more than 1 million</td>\n",
       "      <td>NaN</td>\n",
       "      <td>NaN</td>\n",
       "      <td>...</td>\n",
       "      <td>NaN</td>\n",
       "      <td>NaN</td>\n",
       "      <td>NaN</td>\n",
       "      <td>NaN</td>\n",
       "      <td>NaN</td>\n",
       "      <td>NaN</td>\n",
       "      <td>NaN</td>\n",
       "      <td>NaN</td>\n",
       "      <td>NaN</td>\n",
       "      <td>NaN</td>\n",
       "    </tr>\n",
       "    <tr>\n",
       "      <th>1</th>\n",
       "      <td>34.0</td>\n",
       "      <td>0.0</td>\n",
       "      <td>NaN</td>\n",
       "      <td>NaN</td>\n",
       "      <td>NaN</td>\n",
       "      <td>NaN</td>\n",
       "      <td>NaN</td>\n",
       "      <td>less than 100,000</td>\n",
       "      <td>NaN</td>\n",
       "      <td>NaN</td>\n",
       "      <td>...</td>\n",
       "      <td>1.0</td>\n",
       "      <td>NaN</td>\n",
       "      <td>NaN</td>\n",
       "      <td>NaN</td>\n",
       "      <td>NaN</td>\n",
       "      <td>NaN</td>\n",
       "      <td>NaN</td>\n",
       "      <td>NaN</td>\n",
       "      <td>NaN</td>\n",
       "      <td>NaN</td>\n",
       "    </tr>\n",
       "    <tr>\n",
       "      <th>2</th>\n",
       "      <td>21.0</td>\n",
       "      <td>0.0</td>\n",
       "      <td>NaN</td>\n",
       "      <td>NaN</td>\n",
       "      <td>NaN</td>\n",
       "      <td>NaN</td>\n",
       "      <td>NaN</td>\n",
       "      <td>more than 1 million</td>\n",
       "      <td>NaN</td>\n",
       "      <td>NaN</td>\n",
       "      <td>...</td>\n",
       "      <td>NaN</td>\n",
       "      <td>NaN</td>\n",
       "      <td>NaN</td>\n",
       "      <td>1.0</td>\n",
       "      <td>1.0</td>\n",
       "      <td>NaN</td>\n",
       "      <td>NaN</td>\n",
       "      <td>NaN</td>\n",
       "      <td>NaN</td>\n",
       "      <td>NaN</td>\n",
       "    </tr>\n",
       "    <tr>\n",
       "      <th>3</th>\n",
       "      <td>26.0</td>\n",
       "      <td>0.0</td>\n",
       "      <td>NaN</td>\n",
       "      <td>NaN</td>\n",
       "      <td>NaN</td>\n",
       "      <td>NaN</td>\n",
       "      <td>NaN</td>\n",
       "      <td>between 100,000 and 1 million</td>\n",
       "      <td>NaN</td>\n",
       "      <td>NaN</td>\n",
       "      <td>...</td>\n",
       "      <td>1.0</td>\n",
       "      <td>1.0</td>\n",
       "      <td>NaN</td>\n",
       "      <td>NaN</td>\n",
       "      <td>1.0</td>\n",
       "      <td>NaN</td>\n",
       "      <td>NaN</td>\n",
       "      <td>NaN</td>\n",
       "      <td>NaN</td>\n",
       "      <td>NaN</td>\n",
       "    </tr>\n",
       "    <tr>\n",
       "      <th>4</th>\n",
       "      <td>20.0</td>\n",
       "      <td>0.0</td>\n",
       "      <td>NaN</td>\n",
       "      <td>NaN</td>\n",
       "      <td>NaN</td>\n",
       "      <td>NaN</td>\n",
       "      <td>NaN</td>\n",
       "      <td>between 100,000 and 1 million</td>\n",
       "      <td>NaN</td>\n",
       "      <td>NaN</td>\n",
       "      <td>...</td>\n",
       "      <td>NaN</td>\n",
       "      <td>NaN</td>\n",
       "      <td>NaN</td>\n",
       "      <td>NaN</td>\n",
       "      <td>NaN</td>\n",
       "      <td>NaN</td>\n",
       "      <td>NaN</td>\n",
       "      <td>NaN</td>\n",
       "      <td>NaN</td>\n",
       "      <td>NaN</td>\n",
       "    </tr>\n",
       "  </tbody>\n",
       "</table>\n",
       "<p>5 rows × 136 columns</p>\n",
       "</div>"
      ],
      "text/plain": [
       "    Age  AttendedBootcamp  BootcampFinish  BootcampLoanYesNo BootcampName  \\\n",
       "0  27.0               0.0             NaN                NaN          NaN   \n",
       "1  34.0               0.0             NaN                NaN          NaN   \n",
       "2  21.0               0.0             NaN                NaN          NaN   \n",
       "3  26.0               0.0             NaN                NaN          NaN   \n",
       "4  20.0               0.0             NaN                NaN          NaN   \n",
       "\n",
       "   BootcampRecommend  ChildrenNumber                 CityPopulation  \\\n",
       "0                NaN             NaN            more than 1 million   \n",
       "1                NaN             NaN              less than 100,000   \n",
       "2                NaN             NaN            more than 1 million   \n",
       "3                NaN             NaN  between 100,000 and 1 million   \n",
       "4                NaN             NaN  between 100,000 and 1 million   \n",
       "\n",
       "   CodeEventConferences  CodeEventDjangoGirls         ...           \\\n",
       "0                   NaN                   NaN         ...            \n",
       "1                   NaN                   NaN         ...            \n",
       "2                   NaN                   NaN         ...            \n",
       "3                   NaN                   NaN         ...            \n",
       "4                   NaN                   NaN         ...            \n",
       "\n",
       "   YouTubeFCC  YouTubeFunFunFunction  YouTubeGoogleDev  YouTubeLearnCode  \\\n",
       "0         NaN                    NaN               NaN               NaN   \n",
       "1         1.0                    NaN               NaN               NaN   \n",
       "2         NaN                    NaN               NaN               1.0   \n",
       "3         1.0                    1.0               NaN               NaN   \n",
       "4         NaN                    NaN               NaN               NaN   \n",
       "\n",
       "   YouTubeLevelUpTuts  YouTubeMIT  YouTubeMozillaHacks YouTubeOther  \\\n",
       "0                 NaN         NaN                  NaN          NaN   \n",
       "1                 NaN         NaN                  NaN          NaN   \n",
       "2                 1.0         NaN                  NaN          NaN   \n",
       "3                 1.0         NaN                  NaN          NaN   \n",
       "4                 NaN         NaN                  NaN          NaN   \n",
       "\n",
       "   YouTubeSimplilearn  YouTubeTheNewBoston  \n",
       "0                 NaN                  NaN  \n",
       "1                 NaN                  NaN  \n",
       "2                 NaN                  NaN  \n",
       "3                 NaN                  NaN  \n",
       "4                 NaN                  NaN  \n",
       "\n",
       "[5 rows x 136 columns]"
      ]
     },
     "execution_count": 4,
     "metadata": {},
     "output_type": "execute_result"
    }
   ],
   "source": [
    "survey_df.head(5)"
   ]
  },
  {
   "cell_type": "code",
   "execution_count": 5,
   "metadata": {
    "collapsed": false
   },
   "outputs": [
    {
     "data": {
      "text/plain": [
       "Index(['Age', 'AttendedBootcamp', 'BootcampFinish', 'BootcampLoanYesNo',\n",
       "       'BootcampName', 'BootcampRecommend', 'ChildrenNumber', 'CityPopulation',\n",
       "       'CodeEventConferences', 'CodeEventDjangoGirls',\n",
       "       ...\n",
       "       'YouTubeFCC', 'YouTubeFunFunFunction', 'YouTubeGoogleDev',\n",
       "       'YouTubeLearnCode', 'YouTubeLevelUpTuts', 'YouTubeMIT',\n",
       "       'YouTubeMozillaHacks', 'YouTubeOther', 'YouTubeSimplilearn',\n",
       "       'YouTubeTheNewBoston'],\n",
       "      dtype='object', length=136)"
      ]
     },
     "execution_count": 5,
     "metadata": {},
     "output_type": "execute_result"
    }
   ],
   "source": [
    "survey_df.columns"
   ]
  },
  {
   "cell_type": "code",
   "execution_count": 6,
   "metadata": {
    "collapsed": false
   },
   "outputs": [
    {
     "data": {
      "text/plain": [
       "(18175, 136)"
      ]
     },
     "execution_count": 6,
     "metadata": {},
     "output_type": "execute_result"
    }
   ],
   "source": [
    "survey_df.shape"
   ]
  },
  {
   "cell_type": "code",
   "execution_count": 7,
   "metadata": {
    "collapsed": false
   },
   "outputs": [
    {
     "data": {
      "text/plain": [
       "Full-Stack Web Developer                                                                                                                                                                                                                                                    0.117706\n",
       "  Front-End Web Developer                                                                                                                                                                                                                                                   0.064359\n",
       "  Data Scientist                                                                                                                                                                                                                                                            0.021739\n",
       "Back-End Web Developer                                                                                                                                                                                                                                                      0.020309\n",
       "  Mobile Developer                                                                                                                                                                                                                                                          0.016733\n",
       "Game Developer                                                                                                                                                                                                                                                              0.016304\n",
       "Information Security                                                                                                                                                                                                                                                        0.013158\n",
       "Full-Stack Web Developer,   Front-End Web Developer                                                                                                                                                                                                                         0.009153\n",
       "  Front-End Web Developer, Full-Stack Web Developer                                                                                                                                                                                                                         0.008009\n",
       "  Product Manager                                                                                                                                                                                                                                                           0.007866\n",
       "Data Engineer                                                                                                                                                                                                                                                               0.007580\n",
       "  User Experience Designer                                                                                                                                                                                                                                                  0.007437\n",
       "  User Experience Designer,   Front-End Web Developer                                                                                                                                                                                                                       0.006150\n",
       "  Front-End Web Developer, Back-End Web Developer, Full-Stack Web Developer                                                                                                                                                                                                 0.005578\n",
       "Back-End Web Developer,   Front-End Web Developer, Full-Stack Web Developer                                                                                                                                                                                                 0.005149\n",
       "Back-End Web Developer, Full-Stack Web Developer,   Front-End Web Developer                                                                                                                                                                                                 0.005149\n",
       "  DevOps / SysAdmin                                                                                                                                                                                                                                                         0.005149\n",
       "Full-Stack Web Developer,   Front-End Web Developer, Back-End Web Developer                                                                                                                                                                                                 0.004434\n",
       "  Front-End Web Developer, Full-Stack Web Developer, Back-End Web Developer                                                                                                                                                                                                 0.004291\n",
       "  Front-End Web Developer,   User Experience Designer                                                                                                                                                                                                                       0.004148\n",
       "Full-Stack Web Developer,   Mobile Developer                                                                                                                                                                                                                                0.004148\n",
       "Back-End Web Developer, Full-Stack Web Developer                                                                                                                                                                                                                            0.003862\n",
       "Full-Stack Web Developer, Back-End Web Developer                                                                                                                                                                                                                            0.003719\n",
       "Back-End Web Developer,   Front-End Web Developer                                                                                                                                                                                                                           0.002860\n",
       "Full-Stack Web Developer, Back-End Web Developer,   Front-End Web Developer                                                                                                                                                                                                 0.002717\n",
       "Data Engineer,   Data Scientist                                                                                                                                                                                                                                             0.002717\n",
       "  Front-End Web Developer,   Mobile Developer                                                                                                                                                                                                                               0.002574\n",
       "Full-Stack Web Developer,   Data Scientist                                                                                                                                                                                                                                  0.002431\n",
       "  Data Scientist, Data Engineer                                                                                                                                                                                                                                             0.002288\n",
       "  Mobile Developer, Game Developer                                                                                                                                                                                                                                          0.002288\n",
       "                                                                                                                                                                                                                                                                              ...   \n",
       "  Data Scientist, Data Engineer,   Mobile Developer, Full-Stack Web Developer                                                                                                                                                                                               0.000143\n",
       "Back-End Web Developer,   DevOps / SysAdmin, Full-Stack Web Developer,   Data Scientist                                                                                                                                                                                     0.000143\n",
       "  Quality Assurance Engineer, Data Engineer,   DevOps / SysAdmin, Full-Stack Web Developer, Information Security,   Front-End Web Developer,   Mobile Developer, Game Developer, Back-End Web Developer,   User Experience Designer,   Data Scientist                       0.000143\n",
       "Information Security, Back-End Web Developer,   Data Scientist, Data Engineer                                                                                                                                                                                               0.000143\n",
       "Back-End Web Developer, Game Developer,   Front-End Web Developer,   Mobile Developer                                                                                                                                                                                       0.000143\n",
       "Back-End Web Developer,   User Experience Designer,   Data Scientist,   Mobile Developer, Full-Stack Web Developer,   Front-End Web Developer                                                                                                                               0.000143\n",
       "Back-End Web Developer, Information Security,   DevOps / SysAdmin, Data Engineer,   Data Scientist,   Quality Assurance Engineer                                                                                                                                            0.000143\n",
       "  Product Manager, Back-End Web Developer, Desktop applications developer                                                                                                                                                                                                   0.000143\n",
       "  DevOps / SysAdmin,   Product Manager, Back-End Web Developer,   Front-End Web Developer                                                                                                                                                                                   0.000143\n",
       "Back-End Web Developer, Data Engineer,   Quality Assurance Engineer,   Front-End Web Developer, Full-Stack Web Developer, Information Security,   Product Manager,   Data Scientist,   Mobile Developer,   User Experience Designer, Game Developer,   DevOps / SysAdmin    0.000143\n",
       "Back-End Web Developer, Full-Stack Web Developer,   DevOps / SysAdmin, Game Developer, Data Engineer                                                                                                                                                                        0.000143\n",
       "  Mobile Developer, Information Security, Full-Stack Web Developer                                                                                                                                                                                                          0.000143\n",
       "Game Developer,   Mobile Developer,   Product Manager, Data Engineer,   Data Scientist                                                                                                                                                                                      0.000143\n",
       "Data Reporter                                                                                                                                                                                                                                                               0.000143\n",
       "Game Developer,   Mobile Developer, Back-End Web Developer,   DevOps / SysAdmin, Data Engineer, Information Security,   Front-End Web Developer, Full-Stack Web Developer,   Data Scientist                                                                                 0.000143\n",
       "Information Security, Full-Stack Web Developer, Back-End Web Developer,   Mobile Developer,   Front-End Web Developer                                                                                                                                                       0.000143\n",
       "  DevOps / SysAdmin, Information Security,   Front-End Web Developer                                                                                                                                                                                                        0.000143\n",
       "Game Developer, Information Security,   Mobile Developer                                                                                                                                                                                                                    0.000143\n",
       "  Data Scientist, data analyst                                                                                                                                                                                                                                              0.000143\n",
       "Full-Stack Web Developer,   User Experience Designer, Information Security, Game Developer,   Mobile Developer,   Data Scientist,   DevOps / SysAdmin,   Product Manager                                                                                                    0.000143\n",
       "Back-End Web Developer,   DevOps / SysAdmin,   Data Scientist, Data Engineer, Full-Stack Web Developer                                                                                                                                                                      0.000143\n",
       "  Data Scientist, Data Engineer,   DevOps / SysAdmin, Full-Stack Web Developer, Back-End Web Developer                                                                                                                                                                      0.000143\n",
       "  Data Scientist, Back-End Web Developer,   Mobile Developer, Data Engineer,   DevOps / SysAdmin                                                                                                                                                                            0.000143\n",
       "Information Security, Data Engineer, Back-End Web Developer, Full-Stack Web Developer,   Product Manager,   Data Scientist                                                                                                                                                  0.000143\n",
       "Ceo                                                                                                                                                                                                                                                                         0.000143\n",
       "Game Developer,   User Experience Designer,   Front-End Web Developer, Full-Stack Web Developer                                                                                                                                                                             0.000143\n",
       "Information Security, Full-Stack Web Developer, Back-End Web Developer,   Front-End Web Developer, Data Engineer,   Data Scientist,   Mobile Developer,   Quality Assurance Engineer,   User Experience Designer,   DevOps / SysAdmin                                       0.000143\n",
       "Game Developer, Full-Stack Web Developer, Back-End Web Developer, Data Engineer,   Quality Assurance Engineer,   Data Scientist,   Product Manager,   Mobile Developer                                                                                                      0.000143\n",
       "  Front-End Web Developer,   Quality Assurance Engineer,   User Experience Designer, Full-Stack Web Developer, Game Developer                                                                                                                                               0.000143\n",
       "  Quality Assurance Engineer,   Mobile Developer,   Front-End Web Developer, Information Security, Full-Stack Web Developer, Data Engineer,   User Experience Designer,   Product Manager,   Data Scientist, Game Developer,   DevOps / SysAdmin, Back-End Web Developer    0.000143\n",
       "Name: JobRoleInterest, Length: 3213, dtype: float64"
      ]
     },
     "execution_count": 7,
     "metadata": {},
     "output_type": "execute_result"
    }
   ],
   "source": [
    "survey_df['JobRoleInterest'].value_counts(normalize=True)"
   ]
  },
  {
   "cell_type": "code",
   "execution_count": 8,
   "metadata": {
    "collapsed": false
   },
   "outputs": [
    {
     "data": {
      "text/plain": [
       "<matplotlib.axes._subplots.AxesSubplot at 0x7f6b33167d68>"
      ]
     },
     "execution_count": 8,
     "metadata": {},
     "output_type": "execute_result"
    },
    {
     "data": {
      "image/png": "[encoded data removed]",
      "text/plain": [
       "<matplotlib.figure.Figure at 0x7f6b33167668>"
      ]
     },
     "metadata": {},
     "output_type": "display_data"
    }
   ],
   "source": [
    "survey_df['JobRoleInterest'].value_counts(normalize=True).head(10).plot.bar()"
   ]
  },
  {
   "cell_type": "code",
   "execution_count": 9,
   "metadata": {
    "collapsed": true
   },
   "outputs": [],
   "source": [
    "# Looks like lot of folks are interested in more than one subject,\n",
    "# lets see how many are interested in one vs more than one subject\n"
   ]
  },
  {
   "cell_type": "code",
   "execution_count": 10,
   "metadata": {
    "collapsed": false
   },
   "outputs": [],
   "source": [
    "survey_df_no_nulls = survey_df[survey_df['JobRoleInterest'].notna()].copy()\n",
    "survey_df_no_nulls['JobRoleInterestLength'] = (survey_df_no_nulls['JobRoleInterest']\\\n",
    "                                      .apply(lambda x: 2 if len(x.split(',')) > 1 else 1)\n",
    "                                     )"
   ]
  },
  {
   "cell_type": "code",
   "execution_count": 11,
   "metadata": {
    "collapsed": false
   },
   "outputs": [
    {
     "data": {
      "image/png": "[encoded data removed]",
      "text/plain": [
       "<matplotlib.figure.Figure at 0x7f6b330fa6a0>"
      ]
     },
     "metadata": {},
     "output_type": "display_data"
    }
   ],
   "source": [
    "survey_df_no_nulls['JobRoleInterestLength'].value_counts().plot.bar()\n",
    "plt.xticks([0, 1], ['More than 1', 'Exact 1'])\n",
    "plt.ylim(0, len(survey_df_no_nulls))\n",
    "plt.title('Interest in Job Role - Frequency')\n",
    "plt.show()"
   ]
  },
  {
   "cell_type": "code",
   "execution_count": 12,
   "metadata": {
    "collapsed": true
   },
   "outputs": [],
   "source": [
    "# Find how many people are interested in either Web or Mobile Development course\n",
    "# Web development contains full stack, backend, frontend etc\n",
    "# so we will search for string.contains('web development' or 'mobile developemnt')"
   ]
  },
  {
   "cell_type": "code",
   "execution_count": 13,
   "metadata": {
    "collapsed": false
   },
   "outputs": [],
   "source": [
    "survey_df_no_nulls['web_or_mobile'] = (survey_df_no_nulls['JobRoleInterest']\n",
    "                              .apply(lambda x: 'Web|Mobile' if(('web develop' in x.lower()) or ('mobile develop' in x.lower())) else 'Other Subjects')\n",
    "                             )"
   ]
  },
  {
   "cell_type": "code",
   "execution_count": 14,
   "metadata": {
    "collapsed": false
   },
   "outputs": [
    {
     "data": {
      "image/png": "[encoded data removed]",
      "text/plain": [
       "<matplotlib.figure.Figure at 0x7f6b33078400>"
      ]
     },
     "metadata": {},
     "output_type": "display_data"
    }
   ],
   "source": [
    "survey_df_no_nulls['web_or_mobile'].value_counts(normalize=True).plot.bar()\n",
    "plt.ylim(0.0, 1.0)\n",
    "plt.show()"
   ]
  },
  {
   "cell_type": "code",
   "execution_count": 15,
   "metadata": {
    "collapsed": false
   },
   "outputs": [],
   "source": [
    "# Looks like lot of people are interested in either web or mobile developer courses"
   ]
  },
  {
   "cell_type": "code",
   "execution_count": 16,
   "metadata": {
    "collapsed": false
   },
   "outputs": [
    {
     "data": {
      "image/png": "[encoded data removed]",
      "text/plain": [
       "<matplotlib.figure.Figure at 0x7f6b32fa14e0>"
      ]
     },
     "metadata": {},
     "output_type": "display_data"
    }
   ],
   "source": [
    "survey_df_no_nulls['CountryLive'].value_counts().head(10).plot.barh()\n",
    "plt.show()"
   ]
  },
  {
   "cell_type": "code",
   "execution_count": 17,
   "metadata": {
    "collapsed": false
   },
   "outputs": [
    {
     "data": {
      "text/plain": [
       "United States of America    0.457005\n",
       "India                       0.077216\n",
       "United Kingdom              0.046066\n",
       "Canada                      0.038023\n",
       "Poland                      0.019158\n",
       "Brazil                      0.018865\n",
       "Germany                     0.018280\n",
       "Australia                   0.016379\n",
       "Russia                      0.014917\n",
       "Ukraine                     0.013016\n",
       "Name: CountryLive, dtype: float64"
      ]
     },
     "execution_count": 17,
     "metadata": {},
     "output_type": "execute_result"
    }
   ],
   "source": [
    "survey_df_no_nulls['CountryLive'].value_counts(normalize=True).head(10)"
   ]
  },
  {
   "cell_type": "code",
   "execution_count": 18,
   "metadata": {
    "collapsed": true
   },
   "outputs": [],
   "source": [
    "# Top 4 countries interested in learning are USA, India, UK and Canada"
   ]
  },
  {
   "cell_type": "markdown",
   "metadata": {},
   "source": [
    "we found useful information about the location of new coders, and what are the countries where new coders live, but we need to go more in depth with our analysis before taking a decision. We can continue by figuring out how much money new coders are actually willing to spend on learning. Advertising within markets where most people are only willing to learn for free is extremely unlikely to be profitable for us."
   ]
  },
  {
   "cell_type": "markdown",
   "metadata": {},
   "source": [
    "The MoneyForLearning column describes in American dollars the amount of money spent by participants from the moment they started coding until the moment they completed the survey. Our company sells subscriptions at a price of $59 per month, and for this reason we're interested in finding out how much money each student spends per month."
   ]
  },
  {
   "cell_type": "markdown",
   "metadata": {},
   "source": [
    "It also seems like a good idea to narrow down our analysis to only four countries: the US, India, the United Kingdom, and Canada. Two reasons for this decision are:\n",
    "\n",
    "These are the countries having the highest absolute frequencies in our sample, which means we have a decent amount of data for each.\n",
    "Our courses are written in English, and English is an official language in all these four countries. The more people that know English, the better our chances to target the right people with our ads."
   ]
  },
  {
   "cell_type": "code",
   "execution_count": 19,
   "metadata": {
    "collapsed": true
   },
   "outputs": [],
   "source": [
    "survey_df_no_nulls['MonthsProgramming'].replace(0, 1, inplace=True)"
   ]
  },
  {
   "cell_type": "code",
   "execution_count": 20,
   "metadata": {
    "collapsed": true
   },
   "outputs": [],
   "source": [
    "survey_df_no_nulls['money_spent'] = survey_df_no_nulls['MoneyForLearning'] / survey_df_no_nulls['MonthsProgramming']"
   ]
  },
  {
   "cell_type": "code",
   "execution_count": 21,
   "metadata": {
    "collapsed": false
   },
   "outputs": [
    {
     "data": {
      "text/html": [
       "<div>\n",
       "<style scoped>\n",
       "    .dataframe tbody tr th:only-of-type {\n",
       "        vertical-align: middle;\n",
       "    }\n",
       "\n",
       "    .dataframe tbody tr th {\n",
       "        vertical-align: top;\n",
       "    }\n",
       "\n",
       "    .dataframe thead th {\n",
       "        text-align: right;\n",
       "    }\n",
       "</style>\n",
       "<table border=\"1\" class=\"dataframe\">\n",
       "  <thead>\n",
       "    <tr style=\"text-align: right;\">\n",
       "      <th></th>\n",
       "      <th>Age</th>\n",
       "      <th>AttendedBootcamp</th>\n",
       "      <th>BootcampFinish</th>\n",
       "      <th>BootcampLoanYesNo</th>\n",
       "      <th>BootcampName</th>\n",
       "      <th>BootcampRecommend</th>\n",
       "      <th>ChildrenNumber</th>\n",
       "      <th>CityPopulation</th>\n",
       "      <th>CodeEventConferences</th>\n",
       "      <th>CodeEventDjangoGirls</th>\n",
       "      <th>...</th>\n",
       "      <th>YouTubeLearnCode</th>\n",
       "      <th>YouTubeLevelUpTuts</th>\n",
       "      <th>YouTubeMIT</th>\n",
       "      <th>YouTubeMozillaHacks</th>\n",
       "      <th>YouTubeOther</th>\n",
       "      <th>YouTubeSimplilearn</th>\n",
       "      <th>YouTubeTheNewBoston</th>\n",
       "      <th>JobRoleInterestLength</th>\n",
       "      <th>web_or_mobile</th>\n",
       "      <th>money_spent</th>\n",
       "    </tr>\n",
       "  </thead>\n",
       "  <tbody>\n",
       "    <tr>\n",
       "      <th>1</th>\n",
       "      <td>34.0</td>\n",
       "      <td>0.0</td>\n",
       "      <td>NaN</td>\n",
       "      <td>NaN</td>\n",
       "      <td>NaN</td>\n",
       "      <td>NaN</td>\n",
       "      <td>NaN</td>\n",
       "      <td>less than 100,000</td>\n",
       "      <td>NaN</td>\n",
       "      <td>NaN</td>\n",
       "      <td>...</td>\n",
       "      <td>NaN</td>\n",
       "      <td>NaN</td>\n",
       "      <td>NaN</td>\n",
       "      <td>NaN</td>\n",
       "      <td>NaN</td>\n",
       "      <td>NaN</td>\n",
       "      <td>NaN</td>\n",
       "      <td>1</td>\n",
       "      <td>Web|Mobile</td>\n",
       "      <td>13.333333</td>\n",
       "    </tr>\n",
       "    <tr>\n",
       "      <th>2</th>\n",
       "      <td>21.0</td>\n",
       "      <td>0.0</td>\n",
       "      <td>NaN</td>\n",
       "      <td>NaN</td>\n",
       "      <td>NaN</td>\n",
       "      <td>NaN</td>\n",
       "      <td>NaN</td>\n",
       "      <td>more than 1 million</td>\n",
       "      <td>NaN</td>\n",
       "      <td>NaN</td>\n",
       "      <td>...</td>\n",
       "      <td>1.0</td>\n",
       "      <td>1.0</td>\n",
       "      <td>NaN</td>\n",
       "      <td>NaN</td>\n",
       "      <td>NaN</td>\n",
       "      <td>NaN</td>\n",
       "      <td>NaN</td>\n",
       "      <td>2</td>\n",
       "      <td>Web|Mobile</td>\n",
       "      <td>200.000000</td>\n",
       "    </tr>\n",
       "    <tr>\n",
       "      <th>3</th>\n",
       "      <td>26.0</td>\n",
       "      <td>0.0</td>\n",
       "      <td>NaN</td>\n",
       "      <td>NaN</td>\n",
       "      <td>NaN</td>\n",
       "      <td>NaN</td>\n",
       "      <td>NaN</td>\n",
       "      <td>between 100,000 and 1 million</td>\n",
       "      <td>NaN</td>\n",
       "      <td>NaN</td>\n",
       "      <td>...</td>\n",
       "      <td>NaN</td>\n",
       "      <td>1.0</td>\n",
       "      <td>NaN</td>\n",
       "      <td>NaN</td>\n",
       "      <td>NaN</td>\n",
       "      <td>NaN</td>\n",
       "      <td>NaN</td>\n",
       "      <td>2</td>\n",
       "      <td>Web|Mobile</td>\n",
       "      <td>0.000000</td>\n",
       "    </tr>\n",
       "    <tr>\n",
       "      <th>4</th>\n",
       "      <td>20.0</td>\n",
       "      <td>0.0</td>\n",
       "      <td>NaN</td>\n",
       "      <td>NaN</td>\n",
       "      <td>NaN</td>\n",
       "      <td>NaN</td>\n",
       "      <td>NaN</td>\n",
       "      <td>between 100,000 and 1 million</td>\n",
       "      <td>NaN</td>\n",
       "      <td>NaN</td>\n",
       "      <td>...</td>\n",
       "      <td>NaN</td>\n",
       "      <td>NaN</td>\n",
       "      <td>NaN</td>\n",
       "      <td>NaN</td>\n",
       "      <td>NaN</td>\n",
       "      <td>NaN</td>\n",
       "      <td>NaN</td>\n",
       "      <td>2</td>\n",
       "      <td>Web|Mobile</td>\n",
       "      <td>0.000000</td>\n",
       "    </tr>\n",
       "    <tr>\n",
       "      <th>6</th>\n",
       "      <td>29.0</td>\n",
       "      <td>0.0</td>\n",
       "      <td>NaN</td>\n",
       "      <td>NaN</td>\n",
       "      <td>NaN</td>\n",
       "      <td>NaN</td>\n",
       "      <td>NaN</td>\n",
       "      <td>between 100,000 and 1 million</td>\n",
       "      <td>1.0</td>\n",
       "      <td>NaN</td>\n",
       "      <td>...</td>\n",
       "      <td>NaN</td>\n",
       "      <td>NaN</td>\n",
       "      <td>NaN</td>\n",
       "      <td>NaN</td>\n",
       "      <td>NaN</td>\n",
       "      <td>NaN</td>\n",
       "      <td>NaN</td>\n",
       "      <td>1</td>\n",
       "      <td>Web|Mobile</td>\n",
       "      <td>0.000000</td>\n",
       "    </tr>\n",
       "  </tbody>\n",
       "</table>\n",
       "<p>5 rows × 139 columns</p>\n",
       "</div>"
      ],
      "text/plain": [
       "    Age  AttendedBootcamp  BootcampFinish  BootcampLoanYesNo BootcampName  \\\n",
       "1  34.0               0.0             NaN                NaN          NaN   \n",
       "2  21.0               0.0             NaN                NaN          NaN   \n",
       "3  26.0               0.0             NaN                NaN          NaN   \n",
       "4  20.0               0.0             NaN                NaN          NaN   \n",
       "6  29.0               0.0             NaN                NaN          NaN   \n",
       "\n",
       "   BootcampRecommend  ChildrenNumber                 CityPopulation  \\\n",
       "1                NaN             NaN              less than 100,000   \n",
       "2                NaN             NaN            more than 1 million   \n",
       "3                NaN             NaN  between 100,000 and 1 million   \n",
       "4                NaN             NaN  between 100,000 and 1 million   \n",
       "6                NaN             NaN  between 100,000 and 1 million   \n",
       "\n",
       "   CodeEventConferences  CodeEventDjangoGirls     ...       YouTubeLearnCode  \\\n",
       "1                   NaN                   NaN     ...                    NaN   \n",
       "2                   NaN                   NaN     ...                    1.0   \n",
       "3                   NaN                   NaN     ...                    NaN   \n",
       "4                   NaN                   NaN     ...                    NaN   \n",
       "6                   1.0                   NaN     ...                    NaN   \n",
       "\n",
       "   YouTubeLevelUpTuts  YouTubeMIT  YouTubeMozillaHacks  YouTubeOther  \\\n",
       "1                 NaN         NaN                  NaN           NaN   \n",
       "2                 1.0         NaN                  NaN           NaN   \n",
       "3                 1.0         NaN                  NaN           NaN   \n",
       "4                 NaN         NaN                  NaN           NaN   \n",
       "6                 NaN         NaN                  NaN           NaN   \n",
       "\n",
       "   YouTubeSimplilearn  YouTubeTheNewBoston JobRoleInterestLength  \\\n",
       "1                 NaN                  NaN                     1   \n",
       "2                 NaN                  NaN                     2   \n",
       "3                 NaN                  NaN                     2   \n",
       "4                 NaN                  NaN                     2   \n",
       "6                 NaN                  NaN                     1   \n",
       "\n",
       "   web_or_mobile  money_spent  \n",
       "1     Web|Mobile    13.333333  \n",
       "2     Web|Mobile   200.000000  \n",
       "3     Web|Mobile     0.000000  \n",
       "4     Web|Mobile     0.000000  \n",
       "6     Web|Mobile     0.000000  \n",
       "\n",
       "[5 rows x 139 columns]"
      ]
     },
     "execution_count": 21,
     "metadata": {},
     "output_type": "execute_result"
    }
   ],
   "source": [
    "survey_df_no_nulls.head(5)"
   ]
  },
  {
   "cell_type": "code",
   "execution_count": 22,
   "metadata": {
    "collapsed": false
   },
   "outputs": [
    {
     "data": {
      "text/plain": [
       "CountryLive\n",
       "United States of America    227.997996\n",
       "India                       135.100982\n",
       "Canada                      113.510961\n",
       "United Kingdom               45.534443\n",
       "Name: money_spent, dtype: float64"
      ]
     },
     "execution_count": 22,
     "metadata": {},
     "output_type": "execute_result"
    }
   ],
   "source": [
    "(survey_df_no_nulls\n",
    " .groupby('CountryLive')\n",
    " .mean()['money_spent']\n",
    " .loc[['India', 'Canada', 'United Kingdom', 'United States of America']]\n",
    " .sort_values(ascending=False)\n",
    ")"
   ]
  },
  {
   "cell_type": "code",
   "execution_count": 33,
   "metadata": {
    "collapsed": false
   },
   "outputs": [
    {
     "data": {
      "image/png": "[encoded data removed]",
      "text/plain": [
       "<matplotlib.figure.Figure at 0x7f6b6e3e6710>"
      ]
     },
     "metadata": {},
     "output_type": "display_data"
    }
   ],
   "source": [
    "usa = survey_df_no_nulls[survey_df_no_nulls['CountryLive'] == 'United States of America']\n",
    "usa['money_spent'].plot.hist()\n",
    "plt.show()"
   ]
  },
  {
   "cell_type": "code",
   "execution_count": 30,
   "metadata": {
    "collapsed": false
   },
   "outputs": [
    {
     "data": {
      "image/png": "[encoded data removed]",
      "text/plain": [
       "<matplotlib.figure.Figure at 0x7f6b28d7c5c0>"
      ]
     },
     "metadata": {},
     "output_type": "display_data"
    }
   ],
   "source": [
    "india = survey_df_no_nulls[survey_df_no_nulls['CountryLive'] == 'India']\n",
    "india['money_spent'].plot.hist()\n",
    "plt.show()"
   ]
  },
  {
   "cell_type": "code",
   "execution_count": 31,
   "metadata": {
    "collapsed": false
   },
   "outputs": [
    {
     "data": {
      "image/png": "[encoded data removed]",
      "text/plain": [
       "<matplotlib.figure.Figure at 0x7f6b32f0b320>"
      ]
     },
     "metadata": {},
     "output_type": "display_data"
    }
   ],
   "source": [
    "canada = survey_df_no_nulls[survey_df_no_nulls['CountryLive'] == 'Canada']\n",
    "canada['money_spent'].plot.hist()\n",
    "plt.show()"
   ]
  },
  {
   "cell_type": "code",
   "execution_count": 34,
   "metadata": {
    "collapsed": true
   },
   "outputs": [],
   "source": [
    "# There are definitely outliers, lets check via boxplots"
   ]
  },
  {
   "cell_type": "code",
   "execution_count": 38,
   "metadata": {
    "collapsed": true
   },
   "outputs": [],
   "source": [
    "countries = ['United States of America', 'India', 'Canada', 'United Kingdom']\n",
    "final_df = pd.DataFrame()\n",
    "\n",
    "for country in countries:\n",
    "    df = survey_df_no_nulls[survey_df_no_nulls['CountryLive'] == country]\n",
    "    final_df = final_df.append(df)"
   ]
  },
  {
   "cell_type": "code",
   "execution_count": 40,
   "metadata": {
    "collapsed": false
   },
   "outputs": [
    {
     "data": {
      "text/plain": [
       "United States of America    3125\n",
       "India                        528\n",
       "United Kingdom               315\n",
       "Canada                       260\n",
       "Name: CountryLive, dtype: int64"
      ]
     },
     "execution_count": 40,
     "metadata": {},
     "output_type": "execute_result"
    }
   ],
   "source": [
    "final_df['CountryLive'].value_counts()"
   ]
  },
  {
   "cell_type": "code",
   "execution_count": 66,
   "metadata": {
    "collapsed": false
   },
   "outputs": [
    {
     "data": {
      "image/png": "[encoded data removed]",
      "text/plain": [
       "<matplotlib.figure.Figure at 0x7f6b22cf1da0>"
      ]
     },
     "metadata": {},
     "output_type": "display_data"
    }
   ],
   "source": [
    "final_df.boxplot(column = 'money_spent', by = 'CountryLive', fontsize='large', rot=90, figsize=(10, 10))\n",
    "plt.title('Distribution of money_spent for each country')\n",
    "plt.ylim(0, 100000)\n",
    "plt.show()"
   ]
  },
  {
   "cell_type": "code",
   "execution_count": 67,
   "metadata": {
    "collapsed": true
   },
   "outputs": [],
   "source": [
    "# For US, there arae couple of extreme outliers, \n",
    "# Around 80k and 50k spent more month"
   ]
  },
  {
   "cell_type": "code",
   "execution_count": 74,
   "metadata": {
    "collapsed": false
   },
   "outputs": [
    {
     "data": {
      "image/png": "[encoded data removed]",
      "text/plain": [
       "<matplotlib.figure.Figure at 0x7f6b2297ca20>"
      ]
     },
     "metadata": {},
     "output_type": "display_data"
    }
   ],
   "source": [
    "final_df.loc[final_df['money_spent'] < 40000].boxplot(column = 'money_spent', by = 'CountryLive', fontsize='large', rot=90, figsize=(10, 10))\n",
    "plt.title('Distribution of money_spent for each country')\n",
    "plt.show()"
   ]
  },
  {
   "cell_type": "code",
   "execution_count": 73,
   "metadata": {
    "collapsed": false
   },
   "outputs": [
    {
     "data": {
      "text/plain": [
       "CountryLive\n",
       "United States of America    155.459187\n",
       "India                       113.748387\n",
       "Canada                      113.510961\n",
       "United Kingdom               45.534443\n",
       "Name: money_spent, dtype: float64"
      ]
     },
     "execution_count": 73,
     "metadata": {},
     "output_type": "execute_result"
    }
   ],
   "source": [
    "# calculate mean again\n",
    "\n",
    "(final_df\n",
    " .loc[final_df['money_spent'] < 40000]\n",
    " .groupby('CountryLive')\n",
    " .mean()['money_spent']\n",
    " .loc[['India', 'Canada', 'United Kingdom', 'United States of America']]\n",
    " .sort_values(ascending=False)\n",
    ")"
   ]
  },
  {
   "cell_type": "code",
   "execution_count": 75,
   "metadata": {
    "collapsed": true
   },
   "outputs": [],
   "source": [
    "# After removing the two outliers, mean of US came down drastically to\n",
    "# 183 from 227"
   ]
  },
  {
   "cell_type": "code",
   "execution_count": 79,
   "metadata": {
    "collapsed": false
   },
   "outputs": [
    {
     "data": {
      "text/html": [
       "<div>\n",
       "<style scoped>\n",
       "    .dataframe tbody tr th:only-of-type {\n",
       "        vertical-align: middle;\n",
       "    }\n",
       "\n",
       "    .dataframe tbody tr th {\n",
       "        vertical-align: top;\n",
       "    }\n",
       "\n",
       "    .dataframe thead th {\n",
       "        text-align: right;\n",
       "    }\n",
       "</style>\n",
       "<table border=\"1\" class=\"dataframe\">\n",
       "  <thead>\n",
       "    <tr style=\"text-align: right;\">\n",
       "      <th></th>\n",
       "      <th>Age</th>\n",
       "      <th>AttendedBootcamp</th>\n",
       "      <th>BootcampFinish</th>\n",
       "      <th>BootcampLoanYesNo</th>\n",
       "      <th>BootcampName</th>\n",
       "      <th>BootcampRecommend</th>\n",
       "      <th>ChildrenNumber</th>\n",
       "      <th>CityPopulation</th>\n",
       "      <th>CodeEventConferences</th>\n",
       "      <th>CodeEventDjangoGirls</th>\n",
       "      <th>...</th>\n",
       "      <th>YouTubeLearnCode</th>\n",
       "      <th>YouTubeLevelUpTuts</th>\n",
       "      <th>YouTubeMIT</th>\n",
       "      <th>YouTubeMozillaHacks</th>\n",
       "      <th>YouTubeOther</th>\n",
       "      <th>YouTubeSimplilearn</th>\n",
       "      <th>YouTubeTheNewBoston</th>\n",
       "      <th>JobRoleInterestLength</th>\n",
       "      <th>web_or_mobile</th>\n",
       "      <th>money_spent</th>\n",
       "    </tr>\n",
       "  </thead>\n",
       "  <tbody>\n",
       "    <tr>\n",
       "      <th>1728</th>\n",
       "      <td>24.0</td>\n",
       "      <td>0.0</td>\n",
       "      <td>NaN</td>\n",
       "      <td>NaN</td>\n",
       "      <td>NaN</td>\n",
       "      <td>NaN</td>\n",
       "      <td>NaN</td>\n",
       "      <td>between 100,000 and 1 million</td>\n",
       "      <td>NaN</td>\n",
       "      <td>NaN</td>\n",
       "      <td>...</td>\n",
       "      <td>NaN</td>\n",
       "      <td>NaN</td>\n",
       "      <td>NaN</td>\n",
       "      <td>NaN</td>\n",
       "      <td>NaN</td>\n",
       "      <td>NaN</td>\n",
       "      <td>NaN</td>\n",
       "      <td>2</td>\n",
       "      <td>Web|Mobile</td>\n",
       "      <td>5000.000000</td>\n",
       "    </tr>\n",
       "    <tr>\n",
       "      <th>1755</th>\n",
       "      <td>20.0</td>\n",
       "      <td>0.0</td>\n",
       "      <td>NaN</td>\n",
       "      <td>NaN</td>\n",
       "      <td>NaN</td>\n",
       "      <td>NaN</td>\n",
       "      <td>NaN</td>\n",
       "      <td>more than 1 million</td>\n",
       "      <td>NaN</td>\n",
       "      <td>NaN</td>\n",
       "      <td>...</td>\n",
       "      <td>1.0</td>\n",
       "      <td>NaN</td>\n",
       "      <td>1.0</td>\n",
       "      <td>NaN</td>\n",
       "      <td>NaN</td>\n",
       "      <td>NaN</td>\n",
       "      <td>NaN</td>\n",
       "      <td>2</td>\n",
       "      <td>Web|Mobile</td>\n",
       "      <td>3333.333333</td>\n",
       "    </tr>\n",
       "    <tr>\n",
       "      <th>7989</th>\n",
       "      <td>28.0</td>\n",
       "      <td>0.0</td>\n",
       "      <td>NaN</td>\n",
       "      <td>NaN</td>\n",
       "      <td>NaN</td>\n",
       "      <td>NaN</td>\n",
       "      <td>NaN</td>\n",
       "      <td>between 100,000 and 1 million</td>\n",
       "      <td>1.0</td>\n",
       "      <td>NaN</td>\n",
       "      <td>...</td>\n",
       "      <td>NaN</td>\n",
       "      <td>NaN</td>\n",
       "      <td>NaN</td>\n",
       "      <td>NaN</td>\n",
       "      <td>NaN</td>\n",
       "      <td>NaN</td>\n",
       "      <td>NaN</td>\n",
       "      <td>2</td>\n",
       "      <td>Web|Mobile</td>\n",
       "      <td>5000.000000</td>\n",
       "    </tr>\n",
       "    <tr>\n",
       "      <th>8126</th>\n",
       "      <td>22.0</td>\n",
       "      <td>0.0</td>\n",
       "      <td>NaN</td>\n",
       "      <td>NaN</td>\n",
       "      <td>NaN</td>\n",
       "      <td>NaN</td>\n",
       "      <td>NaN</td>\n",
       "      <td>more than 1 million</td>\n",
       "      <td>NaN</td>\n",
       "      <td>NaN</td>\n",
       "      <td>...</td>\n",
       "      <td>NaN</td>\n",
       "      <td>NaN</td>\n",
       "      <td>1.0</td>\n",
       "      <td>NaN</td>\n",
       "      <td>NaN</td>\n",
       "      <td>NaN</td>\n",
       "      <td>1.0</td>\n",
       "      <td>2</td>\n",
       "      <td>Web|Mobile</td>\n",
       "      <td>5000.000000</td>\n",
       "    </tr>\n",
       "    <tr>\n",
       "      <th>13398</th>\n",
       "      <td>19.0</td>\n",
       "      <td>0.0</td>\n",
       "      <td>NaN</td>\n",
       "      <td>NaN</td>\n",
       "      <td>NaN</td>\n",
       "      <td>NaN</td>\n",
       "      <td>NaN</td>\n",
       "      <td>more than 1 million</td>\n",
       "      <td>NaN</td>\n",
       "      <td>NaN</td>\n",
       "      <td>...</td>\n",
       "      <td>NaN</td>\n",
       "      <td>NaN</td>\n",
       "      <td>NaN</td>\n",
       "      <td>NaN</td>\n",
       "      <td>NaN</td>\n",
       "      <td>NaN</td>\n",
       "      <td>NaN</td>\n",
       "      <td>1</td>\n",
       "      <td>Web|Mobile</td>\n",
       "      <td>10000.000000</td>\n",
       "    </tr>\n",
       "    <tr>\n",
       "      <th>15587</th>\n",
       "      <td>27.0</td>\n",
       "      <td>0.0</td>\n",
       "      <td>NaN</td>\n",
       "      <td>NaN</td>\n",
       "      <td>NaN</td>\n",
       "      <td>NaN</td>\n",
       "      <td>NaN</td>\n",
       "      <td>more than 1 million</td>\n",
       "      <td>NaN</td>\n",
       "      <td>NaN</td>\n",
       "      <td>...</td>\n",
       "      <td>1.0</td>\n",
       "      <td>NaN</td>\n",
       "      <td>1.0</td>\n",
       "      <td>NaN</td>\n",
       "      <td>NaN</td>\n",
       "      <td>NaN</td>\n",
       "      <td>NaN</td>\n",
       "      <td>2</td>\n",
       "      <td>Web|Mobile</td>\n",
       "      <td>4166.666667</td>\n",
       "    </tr>\n",
       "  </tbody>\n",
       "</table>\n",
       "<p>6 rows × 139 columns</p>\n",
       "</div>"
      ],
      "text/plain": [
       "        Age  AttendedBootcamp  BootcampFinish  BootcampLoanYesNo BootcampName  \\\n",
       "1728   24.0               0.0             NaN                NaN          NaN   \n",
       "1755   20.0               0.0             NaN                NaN          NaN   \n",
       "7989   28.0               0.0             NaN                NaN          NaN   \n",
       "8126   22.0               0.0             NaN                NaN          NaN   \n",
       "13398  19.0               0.0             NaN                NaN          NaN   \n",
       "15587  27.0               0.0             NaN                NaN          NaN   \n",
       "\n",
       "       BootcampRecommend  ChildrenNumber                 CityPopulation  \\\n",
       "1728                 NaN             NaN  between 100,000 and 1 million   \n",
       "1755                 NaN             NaN            more than 1 million   \n",
       "7989                 NaN             NaN  between 100,000 and 1 million   \n",
       "8126                 NaN             NaN            more than 1 million   \n",
       "13398                NaN             NaN            more than 1 million   \n",
       "15587                NaN             NaN            more than 1 million   \n",
       "\n",
       "       CodeEventConferences  CodeEventDjangoGirls      ...       \\\n",
       "1728                    NaN                   NaN      ...        \n",
       "1755                    NaN                   NaN      ...        \n",
       "7989                    1.0                   NaN      ...        \n",
       "8126                    NaN                   NaN      ...        \n",
       "13398                   NaN                   NaN      ...        \n",
       "15587                   NaN                   NaN      ...        \n",
       "\n",
       "       YouTubeLearnCode  YouTubeLevelUpTuts  YouTubeMIT  YouTubeMozillaHacks  \\\n",
       "1728                NaN                 NaN         NaN                  NaN   \n",
       "1755                1.0                 NaN         1.0                  NaN   \n",
       "7989                NaN                 NaN         NaN                  NaN   \n",
       "8126                NaN                 NaN         1.0                  NaN   \n",
       "13398               NaN                 NaN         NaN                  NaN   \n",
       "15587               1.0                 NaN         1.0                  NaN   \n",
       "\n",
       "       YouTubeOther  YouTubeSimplilearn  YouTubeTheNewBoston  \\\n",
       "1728            NaN                 NaN                  NaN   \n",
       "1755            NaN                 NaN                  NaN   \n",
       "7989            NaN                 NaN                  NaN   \n",
       "8126            NaN                 NaN                  1.0   \n",
       "13398           NaN                 NaN                  NaN   \n",
       "15587           NaN                 NaN                  NaN   \n",
       "\n",
       "      JobRoleInterestLength  web_or_mobile   money_spent  \n",
       "1728                      2     Web|Mobile   5000.000000  \n",
       "1755                      2     Web|Mobile   3333.333333  \n",
       "7989                      2     Web|Mobile   5000.000000  \n",
       "8126                      2     Web|Mobile   5000.000000  \n",
       "13398                     1     Web|Mobile  10000.000000  \n",
       "15587                     2     Web|Mobile   4166.666667  \n",
       "\n",
       "[6 rows x 139 columns]"
      ]
     },
     "execution_count": 79,
     "metadata": {},
     "output_type": "execute_result"
    }
   ],
   "source": [
    "# india outliers\n",
    "india_outliers = final_df[(final_df['CountryLive'] == 'India') & (final_df['money_spent'] > 2000)]\n",
    "india_outliers\n"
   ]
  },
  {
   "cell_type": "code",
   "execution_count": 80,
   "metadata": {
    "collapsed": false
   },
   "outputs": [
    {
     "data": {
      "text/html": [
       "<div>\n",
       "<style scoped>\n",
       "    .dataframe tbody tr th:only-of-type {\n",
       "        vertical-align: middle;\n",
       "    }\n",
       "\n",
       "    .dataframe tbody tr th {\n",
       "        vertical-align: top;\n",
       "    }\n",
       "\n",
       "    .dataframe thead th {\n",
       "        text-align: right;\n",
       "    }\n",
       "</style>\n",
       "<table border=\"1\" class=\"dataframe\">\n",
       "  <thead>\n",
       "    <tr style=\"text-align: right;\">\n",
       "      <th></th>\n",
       "      <th>Age</th>\n",
       "      <th>AttendedBootcamp</th>\n",
       "      <th>BootcampFinish</th>\n",
       "      <th>BootcampLoanYesNo</th>\n",
       "      <th>BootcampName</th>\n",
       "      <th>BootcampRecommend</th>\n",
       "      <th>ChildrenNumber</th>\n",
       "      <th>CityPopulation</th>\n",
       "      <th>CodeEventConferences</th>\n",
       "      <th>CodeEventDjangoGirls</th>\n",
       "      <th>...</th>\n",
       "      <th>YouTubeLearnCode</th>\n",
       "      <th>YouTubeLevelUpTuts</th>\n",
       "      <th>YouTubeMIT</th>\n",
       "      <th>YouTubeMozillaHacks</th>\n",
       "      <th>YouTubeOther</th>\n",
       "      <th>YouTubeSimplilearn</th>\n",
       "      <th>YouTubeTheNewBoston</th>\n",
       "      <th>JobRoleInterestLength</th>\n",
       "      <th>web_or_mobile</th>\n",
       "      <th>money_spent</th>\n",
       "    </tr>\n",
       "  </thead>\n",
       "  <tbody>\n",
       "    <tr>\n",
       "      <th>13659</th>\n",
       "      <td>24.0</td>\n",
       "      <td>1.0</td>\n",
       "      <td>0.0</td>\n",
       "      <td>0.0</td>\n",
       "      <td>Bloc.io</td>\n",
       "      <td>1.0</td>\n",
       "      <td>NaN</td>\n",
       "      <td>more than 1 million</td>\n",
       "      <td>1.0</td>\n",
       "      <td>NaN</td>\n",
       "      <td>...</td>\n",
       "      <td>NaN</td>\n",
       "      <td>NaN</td>\n",
       "      <td>1.0</td>\n",
       "      <td>NaN</td>\n",
       "      <td>NaN</td>\n",
       "      <td>NaN</td>\n",
       "      <td>NaN</td>\n",
       "      <td>2</td>\n",
       "      <td>Web|Mobile</td>\n",
       "      <td>5000.0</td>\n",
       "    </tr>\n",
       "  </tbody>\n",
       "</table>\n",
       "<p>1 rows × 139 columns</p>\n",
       "</div>"
      ],
      "text/plain": [
       "        Age  AttendedBootcamp  BootcampFinish  BootcampLoanYesNo BootcampName  \\\n",
       "13659  24.0               1.0             0.0                0.0      Bloc.io   \n",
       "\n",
       "       BootcampRecommend  ChildrenNumber       CityPopulation  \\\n",
       "13659                1.0             NaN  more than 1 million   \n",
       "\n",
       "       CodeEventConferences  CodeEventDjangoGirls     ...       \\\n",
       "13659                   1.0                   NaN     ...        \n",
       "\n",
       "       YouTubeLearnCode  YouTubeLevelUpTuts  YouTubeMIT  YouTubeMozillaHacks  \\\n",
       "13659               NaN                 NaN         1.0                  NaN   \n",
       "\n",
       "       YouTubeOther  YouTubeSimplilearn  YouTubeTheNewBoston  \\\n",
       "13659           NaN                 NaN                  NaN   \n",
       "\n",
       "      JobRoleInterestLength  web_or_mobile  money_spent  \n",
       "13659                     2     Web|Mobile       5000.0  \n",
       "\n",
       "[1 rows x 139 columns]"
      ]
     },
     "execution_count": 80,
     "metadata": {},
     "output_type": "execute_result"
    }
   ],
   "source": [
    "# canada outliers\n",
    "canada_outliers = final_df[(final_df['CountryLive'] == 'Canada') & (final_df['money_spent'] > 4000)]\n",
    "canada_outliers\n",
    "# attended the bootcamp, remove this outlier"
   ]
  },
  {
   "cell_type": "code",
   "execution_count": 81,
   "metadata": {
    "collapsed": false
   },
   "outputs": [
    {
     "data": {
      "text/html": [
       "<div>\n",
       "<style scoped>\n",
       "    .dataframe tbody tr th:only-of-type {\n",
       "        vertical-align: middle;\n",
       "    }\n",
       "\n",
       "    .dataframe tbody tr th {\n",
       "        vertical-align: top;\n",
       "    }\n",
       "\n",
       "    .dataframe thead th {\n",
       "        text-align: right;\n",
       "    }\n",
       "</style>\n",
       "<table border=\"1\" class=\"dataframe\">\n",
       "  <thead>\n",
       "    <tr style=\"text-align: right;\">\n",
       "      <th></th>\n",
       "      <th>Age</th>\n",
       "      <th>AttendedBootcamp</th>\n",
       "      <th>BootcampFinish</th>\n",
       "      <th>BootcampLoanYesNo</th>\n",
       "      <th>BootcampName</th>\n",
       "      <th>BootcampRecommend</th>\n",
       "      <th>ChildrenNumber</th>\n",
       "      <th>CityPopulation</th>\n",
       "      <th>CodeEventConferences</th>\n",
       "      <th>CodeEventDjangoGirls</th>\n",
       "      <th>...</th>\n",
       "      <th>YouTubeLearnCode</th>\n",
       "      <th>YouTubeLevelUpTuts</th>\n",
       "      <th>YouTubeMIT</th>\n",
       "      <th>YouTubeMozillaHacks</th>\n",
       "      <th>YouTubeOther</th>\n",
       "      <th>YouTubeSimplilearn</th>\n",
       "      <th>YouTubeTheNewBoston</th>\n",
       "      <th>JobRoleInterestLength</th>\n",
       "      <th>web_or_mobile</th>\n",
       "      <th>money_spent</th>\n",
       "    </tr>\n",
       "  </thead>\n",
       "  <tbody>\n",
       "    <tr>\n",
       "      <th>2478</th>\n",
       "      <td>38.0</td>\n",
       "      <td>1.0</td>\n",
       "      <td>0.0</td>\n",
       "      <td>1.0</td>\n",
       "      <td>NaN</td>\n",
       "      <td>1.0</td>\n",
       "      <td>NaN</td>\n",
       "      <td>between 100,000 and 1 million</td>\n",
       "      <td>NaN</td>\n",
       "      <td>NaN</td>\n",
       "      <td>...</td>\n",
       "      <td>NaN</td>\n",
       "      <td>NaN</td>\n",
       "      <td>NaN</td>\n",
       "      <td>NaN</td>\n",
       "      <td>NaN</td>\n",
       "      <td>NaN</td>\n",
       "      <td>NaN</td>\n",
       "      <td>2</td>\n",
       "      <td>Web|Mobile</td>\n",
       "      <td>50000.000000</td>\n",
       "    </tr>\n",
       "    <tr>\n",
       "      <th>3930</th>\n",
       "      <td>31.0</td>\n",
       "      <td>0.0</td>\n",
       "      <td>NaN</td>\n",
       "      <td>NaN</td>\n",
       "      <td>NaN</td>\n",
       "      <td>NaN</td>\n",
       "      <td>NaN</td>\n",
       "      <td>between 100,000 and 1 million</td>\n",
       "      <td>NaN</td>\n",
       "      <td>NaN</td>\n",
       "      <td>...</td>\n",
       "      <td>1.0</td>\n",
       "      <td>1.0</td>\n",
       "      <td>1.0</td>\n",
       "      <td>NaN</td>\n",
       "      <td>various conf presentations</td>\n",
       "      <td>NaN</td>\n",
       "      <td>NaN</td>\n",
       "      <td>2</td>\n",
       "      <td>Web|Mobile</td>\n",
       "      <td>10833.333333</td>\n",
       "    </tr>\n",
       "    <tr>\n",
       "      <th>6805</th>\n",
       "      <td>46.0</td>\n",
       "      <td>1.0</td>\n",
       "      <td>1.0</td>\n",
       "      <td>1.0</td>\n",
       "      <td>Sabio.la</td>\n",
       "      <td>0.0</td>\n",
       "      <td>NaN</td>\n",
       "      <td>between 100,000 and 1 million</td>\n",
       "      <td>NaN</td>\n",
       "      <td>NaN</td>\n",
       "      <td>...</td>\n",
       "      <td>NaN</td>\n",
       "      <td>NaN</td>\n",
       "      <td>NaN</td>\n",
       "      <td>NaN</td>\n",
       "      <td>NaN</td>\n",
       "      <td>NaN</td>\n",
       "      <td>NaN</td>\n",
       "      <td>2</td>\n",
       "      <td>Web|Mobile</td>\n",
       "      <td>15000.000000</td>\n",
       "    </tr>\n",
       "    <tr>\n",
       "      <th>7198</th>\n",
       "      <td>32.0</td>\n",
       "      <td>0.0</td>\n",
       "      <td>NaN</td>\n",
       "      <td>NaN</td>\n",
       "      <td>NaN</td>\n",
       "      <td>NaN</td>\n",
       "      <td>NaN</td>\n",
       "      <td>more than 1 million</td>\n",
       "      <td>1.0</td>\n",
       "      <td>NaN</td>\n",
       "      <td>...</td>\n",
       "      <td>1.0</td>\n",
       "      <td>1.0</td>\n",
       "      <td>NaN</td>\n",
       "      <td>NaN</td>\n",
       "      <td>NaN</td>\n",
       "      <td>NaN</td>\n",
       "      <td>NaN</td>\n",
       "      <td>2</td>\n",
       "      <td>Web|Mobile</td>\n",
       "      <td>14000.000000</td>\n",
       "    </tr>\n",
       "    <tr>\n",
       "      <th>14024</th>\n",
       "      <td>45.0</td>\n",
       "      <td>0.0</td>\n",
       "      <td>NaN</td>\n",
       "      <td>NaN</td>\n",
       "      <td>NaN</td>\n",
       "      <td>NaN</td>\n",
       "      <td>NaN</td>\n",
       "      <td>between 100,000 and 1 million</td>\n",
       "      <td>NaN</td>\n",
       "      <td>NaN</td>\n",
       "      <td>...</td>\n",
       "      <td>NaN</td>\n",
       "      <td>NaN</td>\n",
       "      <td>NaN</td>\n",
       "      <td>NaN</td>\n",
       "      <td>None</td>\n",
       "      <td>NaN</td>\n",
       "      <td>NaN</td>\n",
       "      <td>2</td>\n",
       "      <td>Web|Mobile</td>\n",
       "      <td>80000.000000</td>\n",
       "    </tr>\n",
       "    <tr>\n",
       "      <th>16650</th>\n",
       "      <td>29.0</td>\n",
       "      <td>0.0</td>\n",
       "      <td>NaN</td>\n",
       "      <td>NaN</td>\n",
       "      <td>NaN</td>\n",
       "      <td>NaN</td>\n",
       "      <td>2.0</td>\n",
       "      <td>more than 1 million</td>\n",
       "      <td>NaN</td>\n",
       "      <td>NaN</td>\n",
       "      <td>...</td>\n",
       "      <td>NaN</td>\n",
       "      <td>NaN</td>\n",
       "      <td>NaN</td>\n",
       "      <td>NaN</td>\n",
       "      <td>NaN</td>\n",
       "      <td>NaN</td>\n",
       "      <td>1.0</td>\n",
       "      <td>2</td>\n",
       "      <td>Web|Mobile</td>\n",
       "      <td>16666.666667</td>\n",
       "    </tr>\n",
       "    <tr>\n",
       "      <th>16997</th>\n",
       "      <td>27.0</td>\n",
       "      <td>0.0</td>\n",
       "      <td>NaN</td>\n",
       "      <td>NaN</td>\n",
       "      <td>NaN</td>\n",
       "      <td>NaN</td>\n",
       "      <td>1.0</td>\n",
       "      <td>more than 1 million</td>\n",
       "      <td>NaN</td>\n",
       "      <td>NaN</td>\n",
       "      <td>...</td>\n",
       "      <td>NaN</td>\n",
       "      <td>NaN</td>\n",
       "      <td>NaN</td>\n",
       "      <td>NaN</td>\n",
       "      <td>NaN</td>\n",
       "      <td>NaN</td>\n",
       "      <td>NaN</td>\n",
       "      <td>2</td>\n",
       "      <td>Web|Mobile</td>\n",
       "      <td>12500.000000</td>\n",
       "    </tr>\n",
       "    <tr>\n",
       "      <th>17231</th>\n",
       "      <td>50.0</td>\n",
       "      <td>0.0</td>\n",
       "      <td>NaN</td>\n",
       "      <td>NaN</td>\n",
       "      <td>NaN</td>\n",
       "      <td>NaN</td>\n",
       "      <td>2.0</td>\n",
       "      <td>less than 100,000</td>\n",
       "      <td>NaN</td>\n",
       "      <td>NaN</td>\n",
       "      <td>...</td>\n",
       "      <td>NaN</td>\n",
       "      <td>NaN</td>\n",
       "      <td>NaN</td>\n",
       "      <td>NaN</td>\n",
       "      <td>NaN</td>\n",
       "      <td>NaN</td>\n",
       "      <td>NaN</td>\n",
       "      <td>1</td>\n",
       "      <td>Web|Mobile</td>\n",
       "      <td>15000.000000</td>\n",
       "    </tr>\n",
       "  </tbody>\n",
       "</table>\n",
       "<p>8 rows × 139 columns</p>\n",
       "</div>"
      ],
      "text/plain": [
       "        Age  AttendedBootcamp  BootcampFinish  BootcampLoanYesNo BootcampName  \\\n",
       "2478   38.0               1.0             0.0                1.0          NaN   \n",
       "3930   31.0               0.0             NaN                NaN          NaN   \n",
       "6805   46.0               1.0             1.0                1.0     Sabio.la   \n",
       "7198   32.0               0.0             NaN                NaN          NaN   \n",
       "14024  45.0               0.0             NaN                NaN          NaN   \n",
       "16650  29.0               0.0             NaN                NaN          NaN   \n",
       "16997  27.0               0.0             NaN                NaN          NaN   \n",
       "17231  50.0               0.0             NaN                NaN          NaN   \n",
       "\n",
       "       BootcampRecommend  ChildrenNumber                 CityPopulation  \\\n",
       "2478                 1.0             NaN  between 100,000 and 1 million   \n",
       "3930                 NaN             NaN  between 100,000 and 1 million   \n",
       "6805                 0.0             NaN  between 100,000 and 1 million   \n",
       "7198                 NaN             NaN            more than 1 million   \n",
       "14024                NaN             NaN  between 100,000 and 1 million   \n",
       "16650                NaN             2.0            more than 1 million   \n",
       "16997                NaN             1.0            more than 1 million   \n",
       "17231                NaN             2.0              less than 100,000   \n",
       "\n",
       "       CodeEventConferences  CodeEventDjangoGirls      ...       \\\n",
       "2478                    NaN                   NaN      ...        \n",
       "3930                    NaN                   NaN      ...        \n",
       "6805                    NaN                   NaN      ...        \n",
       "7198                    1.0                   NaN      ...        \n",
       "14024                   NaN                   NaN      ...        \n",
       "16650                   NaN                   NaN      ...        \n",
       "16997                   NaN                   NaN      ...        \n",
       "17231                   NaN                   NaN      ...        \n",
       "\n",
       "       YouTubeLearnCode  YouTubeLevelUpTuts  YouTubeMIT  YouTubeMozillaHacks  \\\n",
       "2478                NaN                 NaN         NaN                  NaN   \n",
       "3930                1.0                 1.0         1.0                  NaN   \n",
       "6805                NaN                 NaN         NaN                  NaN   \n",
       "7198                1.0                 1.0         NaN                  NaN   \n",
       "14024               NaN                 NaN         NaN                  NaN   \n",
       "16650               NaN                 NaN         NaN                  NaN   \n",
       "16997               NaN                 NaN         NaN                  NaN   \n",
       "17231               NaN                 NaN         NaN                  NaN   \n",
       "\n",
       "                     YouTubeOther  YouTubeSimplilearn  YouTubeTheNewBoston  \\\n",
       "2478                          NaN                 NaN                  NaN   \n",
       "3930   various conf presentations                 NaN                  NaN   \n",
       "6805                          NaN                 NaN                  NaN   \n",
       "7198                          NaN                 NaN                  NaN   \n",
       "14024                        None                 NaN                  NaN   \n",
       "16650                         NaN                 NaN                  1.0   \n",
       "16997                         NaN                 NaN                  NaN   \n",
       "17231                         NaN                 NaN                  NaN   \n",
       "\n",
       "      JobRoleInterestLength  web_or_mobile   money_spent  \n",
       "2478                      2     Web|Mobile  50000.000000  \n",
       "3930                      2     Web|Mobile  10833.333333  \n",
       "6805                      2     Web|Mobile  15000.000000  \n",
       "7198                      2     Web|Mobile  14000.000000  \n",
       "14024                     2     Web|Mobile  80000.000000  \n",
       "16650                     2     Web|Mobile  16666.666667  \n",
       "16997                     2     Web|Mobile  12500.000000  \n",
       "17231                     1     Web|Mobile  15000.000000  \n",
       "\n",
       "[8 rows x 139 columns]"
      ]
     },
     "execution_count": 81,
     "metadata": {},
     "output_type": "execute_result"
    }
   ],
   "source": [
    "# us outlier\n",
    "us_outliers = final_df[(final_df['CountryLive'] == 'United States of America') & (final_df['money_spent'] > 10000)]\n",
    "us_outliers"
   ]
  },
  {
   "cell_type": "code",
   "execution_count": 82,
   "metadata": {
    "collapsed": true
   },
   "outputs": [],
   "source": [
    "# remove the outliers\n",
    "final_df = final_df.drop(canada_outliers.index)\n",
    "final_df = final_df.drop(india_outliers.index)\n",
    "final_df = final_df.drop(us_outliers.index)\n"
   ]
  },
  {
   "cell_type": "code",
   "execution_count": 83,
   "metadata": {
    "collapsed": false
   },
   "outputs": [
    {
     "data": {
      "text/plain": [
       "(4213, 139)"
      ]
     },
     "execution_count": 83,
     "metadata": {},
     "output_type": "execute_result"
    }
   ],
   "source": [
    "final_df.shape"
   ]
  },
  {
   "cell_type": "code",
   "execution_count": 87,
   "metadata": {
    "collapsed": false
   },
   "outputs": [
    {
     "data": {
      "text/plain": [
       "CountryLive\n",
       "United States of America    76.018595\n",
       "Canada                      63.958456\n",
       "India                       62.333097\n",
       "United Kingdom              34.468329\n",
       "Name: money_spent, dtype: float64"
      ]
     },
     "execution_count": 87,
     "metadata": {},
     "output_type": "execute_result"
    }
   ],
   "source": [
    "(final_df\n",
    " .groupby('CountryLive')\n",
    " .mean()['money_spent']\n",
    " .loc[['India', 'Canada', 'United Kingdom', 'United States of America']]\n",
    " .sort_values(ascending=False)\n",
    ")"
   ]
  },
  {
   "cell_type": "code",
   "execution_count": 88,
   "metadata": {
    "collapsed": false
   },
   "outputs": [
    {
     "data": {
      "text/plain": [
       "CountryLive\n",
       "United States of America    76.018595\n",
       "Canada                      63.958456\n",
       "India                       62.333097\n",
       "United Kingdom              34.468329\n",
       "Name: money_spent, dtype: float64"
      ]
     },
     "execution_count": 88,
     "metadata": {},
     "output_type": "execute_result"
    }
   ],
   "source": [
    "# mean after removing the records that attended bootcamp\n",
    "(final_df[final_df['AttendedBootcamp'] != 1]\n",
    " .groupby('CountryLive')\n",
    " .mean()['money_spent']\n",
    " .loc[['India', 'Canada', 'United Kingdom', 'United States of America']]\n",
    " .sort_values(ascending=False)\n",
    ")"
   ]
  },
  {
   "cell_type": "markdown",
   "metadata": {},
   "source": [
    "### Conclusion:-\n",
    "Average amount of money people are willing to spend per country\n",
    "\n",
    "| Country  | Money Spent  |\n",
    "|---|---|\n",
    "| United States of America  | 76.018595  |\n",
    "| Canada  | 63.958456  |\n",
    "| India | 62.333097  |\n",
    "| United Kingdom | 34.468329  |\n",
    "\n",
    "Canada and India almost have similar avg money_spent values, it make sense to go ahead with India because of the larger audience.\n",
    "\n",
    "It might also make sense to split advertising budget three ways\n",
    " - 100% to US\n",
    " - 70% US and 30% India\n",
    " - 70% US and 20% India, 10% Canada\n",
    " \n",
    "Ideally, If we had a marketing team in our company it would be better to just send them the results and let them use their domain knowledge to make the best decision"
   ]
  },
  {
   "cell_type": "code",
   "execution_count": null,
   "metadata": {
    "collapsed": true
   },
   "outputs": [],
   "source": []
  }
 ],
 "metadata": {
  "kernelspec": {
   "display_name": "Python 3",
   "language": "python",
   "name": "python3"
  },
  "language_info": {
   "codemirror_mode": {
    "name": "ipython",
    "version": 3
   },
   "file_extension": ".py",
   "mimetype": "text/x-python",
   "name": "python",
   "nbconvert_exporter": "python",
   "pygments_lexer": "ipython3",
   "version": "3.4.3"
  }
 },
 "nbformat": 4,
 "nbformat_minor": 2
}
